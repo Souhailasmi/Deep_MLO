{
 "cells": [
  {
   "cell_type": "code",
   "execution_count": 1,
   "id": "optical-record",
   "metadata": {},
   "outputs": [],
   "source": [
    "import seaborn as sns\n",
    "from queries import*\n",
    "from utilities import*"
   ]
  },
  {
   "cell_type": "markdown",
   "id": "eight-court",
   "metadata": {},
   "source": [
    "## Importing Data"
   ]
  },
  {
   "cell_type": "code",
   "execution_count": 2,
   "id": "danish-trainer",
   "metadata": {},
   "outputs": [],
   "source": [
    "cell_data = pd.read_csv('data/cell_data.csv')"
   ]
  },
  {
   "cell_type": "code",
   "execution_count": 3,
   "id": "protecting-paint",
   "metadata": {},
   "outputs": [
    {
     "data": {
      "text/html": [
       "<div>\n",
       "<style scoped>\n",
       "    .dataframe tbody tr th:only-of-type {\n",
       "        vertical-align: middle;\n",
       "    }\n",
       "\n",
       "    .dataframe tbody tr th {\n",
       "        vertical-align: top;\n",
       "    }\n",
       "\n",
       "    .dataframe thead th {\n",
       "        text-align: right;\n",
       "    }\n",
       "</style>\n",
       "<table border=\"1\" class=\"dataframe\">\n",
       "  <thead>\n",
       "    <tr style=\"text-align: right;\">\n",
       "      <th></th>\n",
       "      <th>sample_name</th>\n",
       "      <th>image_id</th>\n",
       "      <th>cell_x_position</th>\n",
       "      <th>cell_y_position</th>\n",
       "      <th>cell_id</th>\n",
       "      <th>tissue_category</th>\n",
       "      <th>phenotype</th>\n",
       "      <th>CD11C_mean</th>\n",
       "      <th>CD56_mean</th>\n",
       "      <th>CD3_mean</th>\n",
       "      <th>CD68_mean</th>\n",
       "      <th>SOX10_mean</th>\n",
       "      <th>CD20_mean</th>\n",
       "      <th>DAPI_mean</th>\n",
       "      <th>Autofluorescence_mean</th>\n",
       "    </tr>\n",
       "  </thead>\n",
       "  <tbody>\n",
       "    <tr>\n",
       "      <th>0</th>\n",
       "      <td>DEEPMEL_1C1</td>\n",
       "      <td>14430_37727</td>\n",
       "      <td>14040.7</td>\n",
       "      <td>37383.4</td>\n",
       "      <td>1</td>\n",
       "      <td>stroma</td>\n",
       "      <td>DAPIp</td>\n",
       "      <td>0.107</td>\n",
       "      <td>0.060</td>\n",
       "      <td>0.068</td>\n",
       "      <td>0.973</td>\n",
       "      <td>0.049</td>\n",
       "      <td>0.073</td>\n",
       "      <td>11.844</td>\n",
       "      <td>3.879</td>\n",
       "    </tr>\n",
       "    <tr>\n",
       "      <th>1</th>\n",
       "      <td>DEEPMEL_1C1</td>\n",
       "      <td>14430_37727</td>\n",
       "      <td>14049.6</td>\n",
       "      <td>37381.9</td>\n",
       "      <td>2</td>\n",
       "      <td>stroma</td>\n",
       "      <td>MISSING</td>\n",
       "      <td>0.055</td>\n",
       "      <td>0.075</td>\n",
       "      <td>0.156</td>\n",
       "      <td>9.289</td>\n",
       "      <td>0.018</td>\n",
       "      <td>0.035</td>\n",
       "      <td>5.215</td>\n",
       "      <td>6.505</td>\n",
       "    </tr>\n",
       "    <tr>\n",
       "      <th>2</th>\n",
       "      <td>DEEPMEL_1C1</td>\n",
       "      <td>14430_37727</td>\n",
       "      <td>14056.5</td>\n",
       "      <td>37381.9</td>\n",
       "      <td>3</td>\n",
       "      <td>stroma</td>\n",
       "      <td>MISSING</td>\n",
       "      <td>0.018</td>\n",
       "      <td>0.019</td>\n",
       "      <td>0.020</td>\n",
       "      <td>0.708</td>\n",
       "      <td>0.008</td>\n",
       "      <td>0.041</td>\n",
       "      <td>9.428</td>\n",
       "      <td>4.085</td>\n",
       "    </tr>\n",
       "  </tbody>\n",
       "</table>\n",
       "</div>"
      ],
      "text/plain": [
       "   sample_name     image_id  cell_x_position  cell_y_position  cell_id  \\\n",
       "0  DEEPMEL_1C1  14430_37727          14040.7          37383.4        1   \n",
       "1  DEEPMEL_1C1  14430_37727          14049.6          37381.9        2   \n",
       "2  DEEPMEL_1C1  14430_37727          14056.5          37381.9        3   \n",
       "\n",
       "  tissue_category phenotype  CD11C_mean  CD56_mean  CD3_mean  CD68_mean  \\\n",
       "0          stroma     DAPIp       0.107      0.060     0.068      0.973   \n",
       "1          stroma   MISSING       0.055      0.075     0.156      9.289   \n",
       "2          stroma   MISSING       0.018      0.019     0.020      0.708   \n",
       "\n",
       "   SOX10_mean  CD20_mean  DAPI_mean  Autofluorescence_mean  \n",
       "0       0.049      0.073     11.844                  3.879  \n",
       "1       0.018      0.035      5.215                  6.505  \n",
       "2       0.008      0.041      9.428                  4.085  "
      ]
     },
     "execution_count": 3,
     "metadata": {},
     "output_type": "execute_result"
    }
   ],
   "source": [
    "cell_data.head(3)"
   ]
  },
  {
   "cell_type": "code",
   "execution_count": 5,
   "id": "excited-construction",
   "metadata": {},
   "outputs": [],
   "source": [
    "cell_data['phenotype'] = cell_data['phenotype'].apply(lambda x: get_phenotype(x))"
   ]
  },
  {
   "cell_type": "markdown",
   "id": "illegal-castle",
   "metadata": {},
   "source": [
    "## EDA"
   ]
  },
  {
   "cell_type": "code",
   "execution_count": 5,
   "id": "pretty-collectible",
   "metadata": {},
   "outputs": [
    {
     "data": {
      "text/plain": [
       "array(['stroma', 'tumor', 'missing'], dtype=object)"
      ]
     },
     "execution_count": 5,
     "metadata": {},
     "output_type": "execute_result"
    }
   ],
   "source": [
    "cell_data.tissue_category.unique()"
   ]
  },
  {
   "cell_type": "code",
   "execution_count": 50,
   "id": "superior-fraud",
   "metadata": {},
   "outputs": [
    {
     "data": {
      "text/plain": [
       "tumor          51559\n",
       "stroma         11977\n",
       "T                818\n",
       "MISSING          769\n",
       "macrophages      205\n",
       "B                118\n",
       "dendtritic        59\n",
       "NK                29\n",
       "Name: phenotype, dtype: int64"
      ]
     },
     "execution_count": 50,
     "metadata": {},
     "output_type": "execute_result"
    }
   ],
   "source": [
    "cell_data.phenotype.value_counts()"
   ]
  },
  {
   "cell_type": "code",
   "execution_count": 6,
   "id": "suburban-selling",
   "metadata": {},
   "outputs": [
    {
     "data": {
      "text/plain": [
       "tumor      58955\n",
       "stroma      6559\n",
       "missing       20\n",
       "Name: tissue_category, dtype: int64"
      ]
     },
     "execution_count": 6,
     "metadata": {},
     "output_type": "execute_result"
    }
   ],
   "source": [
    "cell_data.tissue_category.value_counts()"
   ]
  },
  {
   "cell_type": "code",
   "execution_count": 7,
   "id": "inside-opposition",
   "metadata": {},
   "outputs": [],
   "source": [
    "columns_to_keep = ['cell_id','cell_x_position','cell_y_position','tissue_category']\n",
    "cell_data_restricted = cell_data[columns_to_keep]"
   ]
  },
  {
   "cell_type": "markdown",
   "id": "ultimate-screw",
   "metadata": {},
   "source": [
    "## Computing pairwise distances"
   ]
  },
  {
   "cell_type": "markdown",
   "id": "defensive-reconstruction",
   "metadata": {},
   "source": [
    "### Compute pairwise distances"
   ]
  },
  {
   "cell_type": "code",
   "execution_count": 8,
   "id": "published-russian",
   "metadata": {},
   "outputs": [],
   "source": [
    "UNIQUE_ID = cell_data_restricted.cell_id.unique()\n",
    "N_CELL = len(cell_data_restricted.cell_id.unique())\n",
    "N_REPARTITION = 30\n",
    "repartition =[int(x) for x in np.linspace(0,N_CELL,N_REPARTITION)]"
   ]
  },
  {
   "cell_type": "markdown",
   "id": "several-brass",
   "metadata": {},
   "source": [
    "## All pairwise distances"
   ]
  },
  {
   "cell_type": "code",
   "execution_count": 9,
   "id": "incredible-reunion",
   "metadata": {},
   "outputs": [],
   "source": [
    "def set_query(lower_bound_tab_1 =0, upper_bound_tab_1 = 1000, lower_bound_table_2 =0):\n",
    "    \n",
    "    query = '''SELECT\n",
    "  distance,\n",
    "  cell_id_1,\n",
    "  cell_id_2\n",
    "  tissue_category_1,\n",
    "  tissue_category_2\n",
    "FROM (\n",
    "  SELECT\n",
    "    table_1.cell_id_1,\n",
    "    table_2.cell_id_2,\n",
    "    table_1.x_1,\n",
    "    table_1.y_1,\n",
    "    table_2.x_2,\n",
    "    table_2.y_2,\n",
    "    tissue_category_1,\n",
    "    tissue_category_2 ,\n",
    "\n",
    "    SQRT(POW((x_1-x_2),2)+POWER((y_1-y_2),2)) AS distance\n",
    "  FROM (\n",
    "    SELECT\n",
    "      cell_x_position AS x_1,\n",
    "      cell_y_position AS y_1,\n",
    "      cell_id AS cell_id_1,\n",
    "      tissue_category as tissue_category_1\n",
    "    FROM\n",
    "      `advance-sonar-306410.deepmelo.cell_data`\n",
    "      Where (cell_id>{lower1}) and  (cell_id<={upper1}) ) AS table_1\n",
    "  CROSS JOIN (\n",
    "    SELECT\n",
    "      cell_x_position AS x_2,\n",
    "      cell_y_position AS y_2,\n",
    "      cell_id AS cell_id_2,\n",
    "      tissue_category as tissue_category_2\n",
    "    FROM\n",
    "      `advance-sonar-306410.deepmelo.cell_data` \n",
    "      Where (cell_id>{lower2})) AS table_2 )'''.format(lower1=lower_bound_tab_1,upper1=upper_bound_tab_1,lower2=lower_bound_table_2)\n",
    "    \n",
    "    return query"
   ]
  },
  {
   "cell_type": "markdown",
   "id": "immediate-variance",
   "metadata": {},
   "source": [
    "## Bipartite graph query"
   ]
  },
  {
   "cell_type": "code",
   "execution_count": 5,
   "id": "digital-cookie",
   "metadata": {},
   "outputs": [],
   "source": [
    "def pairwise_distance_threshold(upper_thrd =100):\n",
    "    \n",
    "    query = '''SELECT\n",
    "  distance,\n",
    "  cell_id_1,\n",
    "  cell_id_2,\n",
    "  tissue_category_1,\n",
    "  tissue_category_2\n",
    "FROM (\n",
    "  SELECT\n",
    "    table_1.cell_id_1,\n",
    "    table_2.cell_id_2,\n",
    "    table_1.x_1,\n",
    "    table_1.y_1,\n",
    "    table_2.x_2,\n",
    "    table_2.y_2,\n",
    "    tissue_category_1,\n",
    "    tissue_category_2 ,\n",
    "\n",
    "    SQRT(POW((x_1-x_2),2)+POWER((y_1-y_2),2)) AS distance\n",
    "  FROM (\n",
    "    SELECT\n",
    "      cell_x_position AS x_1,\n",
    "      cell_y_position AS y_1,\n",
    "      cell_id AS cell_id_1,\n",
    "      tissue_category as tissue_category_1\n",
    "    FROM\n",
    "      `advance-sonar-306410.deepmelo.cell_data`\n",
    "      Where (tissue_category = 'stroma' )) AS table_1\n",
    "  CROSS JOIN (\n",
    "    SELECT\n",
    "      cell_x_position AS x_2,\n",
    "      cell_y_position AS y_2,\n",
    "      cell_id AS cell_id_2,\n",
    "      tissue_category as tissue_category_2\n",
    "    FROM\n",
    "      `advance-sonar-306410.deepmelo.cell_data` \n",
    "      Where (tissue_category = 'tumor')) AS table_2 )\n",
    "\n",
    "Where distance<{upper} '''.format(upper=upper_thrd)\n",
    "    \n",
    "    return query\n",
    "    \n",
    "    "
   ]
  },
  {
   "cell_type": "markdown",
   "id": "declared-upset",
   "metadata": {},
   "source": [
    "## Extracting statistics from pairwise distances"
   ]
  },
  {
   "cell_type": "markdown",
   "id": "mental-toner",
   "metadata": {},
   "source": [
    "### Defining a function running queries on Bigquery"
   ]
  },
  {
   "cell_type": "code",
   "execution_count": 6,
   "id": "european-green",
   "metadata": {},
   "outputs": [],
   "source": [
    "def run_bq(query_name,return_df_csv = True):\n",
    "    client = bigquery.Client() \n",
    "    \n",
    "    query_job = client.query(queries[query_name])\n",
    "    if return_df_csv:\n",
    "        df = query_job.result().to_dataframe()\n",
    "        df.to_csv('./data/output/'+query_name+ '.csv', index =False)\n",
    "        print(\"Query results loaded to the table {} on VM\".format(query_name))\n",
    "        #return df\n",
    "   "
   ]
  },
  {
   "cell_type": "markdown",
   "id": "played-corpus",
   "metadata": {},
   "source": [
    "### Defining query names"
   ]
  },
  {
   "cell_type": "code",
   "execution_count": 7,
   "id": "developed-movie",
   "metadata": {},
   "outputs": [],
   "source": [
    "### Queries names\n",
    "\n",
    "BIPARTITE_QUERY = 'bipartite_tumor_stroma'\n",
    "STATISTICS_STROMA = 'distance_statistics_to_stroma'\n",
    "STATISTICS_TUMOR = 'distance_statistics_to_tumor'\n",
    "STATISTICS_ALL_CELL = 'distance_statistics_all_cells'\n"
   ]
  },
  {
   "cell_type": "markdown",
   "id": "greatest-wedding",
   "metadata": {},
   "source": [
    "### Running distance statistics queries"
   ]
  },
  {
   "cell_type": "code",
   "execution_count": 8,
   "id": "inclusive-equation",
   "metadata": {},
   "outputs": [],
   "source": [
    "### statistics queries \n",
    "#statistics_all_cells = run_bq(STATISTICS_ALL_CELL)\n",
    "#statistics_tumor = run_bq(STATISTICS_TUMOR)\n",
    "#statistics_stroma = run_bq(STATISTICS_STROMA)"
   ]
  },
  {
   "cell_type": "markdown",
   "id": "iraqi-interaction",
   "metadata": {},
   "source": [
    "# Running bipartite Stroma vs Tumor"
   ]
  },
  {
   "cell_type": "markdown",
   "id": "listed-romania",
   "metadata": {},
   "source": [
    "Fix a distance thereshold first that will determine the relational data base, we consider theresholds 20, 50, 80, 100, 200"
   ]
  },
  {
   "cell_type": "markdown",
   "id": "lonely-necklace",
   "metadata": {},
   "source": [
    "### Getting pairwise distances by fixing cell_id lower and upper bounds"
   ]
  },
  {
   "cell_type": "code",
   "execution_count": 10,
   "id": "cooked-smile",
   "metadata": {},
   "outputs": [
    {
     "name": "stdout",
     "output_type": "stream",
     "text": [
      "Dataframe with threshold 150 extracted\n",
      "Dataframe with threshold 200 extracted\n",
      "Dataframe with threshold 250 extracted\n"
     ]
    }
   ],
   "source": [
    "thrd_list = [150,200,250]\n",
    "\n",
    "for thrd in thrd_list :\n",
    "    table_name = 'pairwise_distances_thrd_{}'.format(thrd)\n",
    "    client = bigquery.Client()\n",
    "    query = pairwise_distance_threshold(thrd)\n",
    "    df = client.query(query).to_dataframe()\n",
    "    print('Dataframe with threshold {} extracted'.format(thrd))\n",
    "    df.to_csv('./data/output/' + table_name + '.csv', index = False)"
   ]
  },
  {
   "cell_type": "markdown",
   "id": "corrected-format",
   "metadata": {},
   "source": [
    "## Extracting edges with distance threshold 50"
   ]
  },
  {
   "cell_type": "markdown",
   "id": "legal-fossil",
   "metadata": {},
   "source": [
    "### Defining query"
   ]
  },
  {
   "cell_type": "code",
   "execution_count": 8,
   "id": "paperback-tactics",
   "metadata": {},
   "outputs": [],
   "source": [
    "def query_distance_threshold(thrd=50):\n",
    "    \n",
    "    query = '''SELECT\n",
    "    distance,\n",
    "    cell_id_1,\n",
    "  cell_id_2,\n",
    "  tissue_category_1,\n",
    "  tissue_category_2,\n",
    "  phenotype_1,\n",
    "  phenotype_2,\n",
    "FROM (\n",
    "  SELECT\n",
    "    table_1.cell_id_1,\n",
    "    table_2.cell_id_2,\n",
    "    table_1.x_1,\n",
    "    table_1.y_1,\n",
    "    table_2.x_2,\n",
    "    table_2.y_2,\n",
    "    tissue_category_1,\n",
    "    tissue_category_2 ,\n",
    "    phenotype_1,\n",
    "    phenotype_2,\n",
    "    SQRT(POW((x_1-x_2),2)+POWER((y_1-y_2),2)) AS distance\n",
    "    \n",
    "  FROM (\n",
    "    SELECT\n",
    "      cell_x_position AS x_1,\n",
    "      cell_y_position AS y_1,\n",
    "      cell_id AS cell_id_1,\n",
    "      tissue_category as tissue_category_1,\n",
    "      phenotype as phenotype_1\n",
    "\n",
    "    FROM\n",
    "      `advance-sonar-306410.deepmelo.cell_data`\n",
    "      Where (cell_id>0) ) AS table_1\n",
    "  CROSS JOIN (\n",
    "    SELECT\n",
    "      cell_x_position AS x_2,\n",
    "      cell_y_position AS y_2,\n",
    "      cell_id AS cell_id_2,\n",
    "      tissue_category as tissue_category_2,\n",
    "      phenotype as phenotype_2,\n",
    "\n",
    "    FROM\n",
    "      `advance-sonar-306410.deepmelo.cell_data` \n",
    "      Where (cell_id>0)) AS table_2 )\n",
    "\n",
    " where distance < {thrd} and (cell_id_1 < cell_id_2)\n",
    "      '''.format(thrd=thrd)\n",
    "    return query"
   ]
  },
  {
   "cell_type": "code",
   "execution_count": 9,
   "id": "ranking-lexington",
   "metadata": {},
   "outputs": [
    {
     "name": "stdout",
     "output_type": "stream",
     "text": [
      "Dataframe with threshold 100 extracted\n"
     ]
    }
   ],
   "source": [
    "THRSHOLD = 100\n",
    "table_name = 'edges_thrd_{}'.format(THRSHOLD)\n",
    "client = bigquery.Client()\n",
    "query = query_distance_threshold(THRSHOLD)\n",
    "df = client.query(query).to_dataframe()\n",
    "print('Dataframe with threshold {} extracted'.format(THRSHOLD))\n",
    "df.to_csv('./data/output/' + table_name + '.csv', index = False)"
   ]
  },
  {
   "cell_type": "code",
   "execution_count": 10,
   "id": "collected-court",
   "metadata": {},
   "outputs": [
    {
     "data": {
      "text/plain": [
       "7887092"
      ]
     },
     "execution_count": 10,
     "metadata": {},
     "output_type": "execute_result"
    }
   ],
   "source": [
    "len(df)"
   ]
  },
  {
   "cell_type": "code",
   "execution_count": 44,
   "id": "worse-breakfast",
   "metadata": {},
   "outputs": [],
   "source": [
    "#!gsutil cp -r ./data/output/  gs://cell-deep-melo-lts4"
   ]
  },
  {
   "cell_type": "markdown",
   "id": "adjustable-scale",
   "metadata": {},
   "source": [
    "# Extracting degrees"
   ]
  },
  {
   "cell_type": "markdown",
   "id": "instrumental-brother",
   "metadata": {},
   "source": [
    "## Extracting degrees with threshold 50 and without border"
   ]
  },
  {
   "cell_type": "code",
   "execution_count": 6,
   "id": "split-limitation",
   "metadata": {},
   "outputs": [],
   "source": [
    "total_edges = pd.read_csv('./data/output/edges_thrd_100.csv')"
   ]
  },
  {
   "cell_type": "code",
   "execution_count": 7,
   "id": "speaking-joint",
   "metadata": {},
   "outputs": [],
   "source": [
    "edges_data = graph_wrangling(total_edges, 50, False)\n",
    "edges_data['phenotype_1'] = edges_data['phenotype_1'].apply(lambda x: get_phenotype(x))\n",
    "edges_data['phenotype_2'] = edges_data['phenotype_2'].apply(lambda x: get_phenotype(x))"
   ]
  },
  {
   "cell_type": "code",
   "execution_count": 8,
   "id": "preliminary-heritage",
   "metadata": {},
   "outputs": [],
   "source": [
    "edges_data['is_border'] = edges_data.apply((lambda x : 1 if ( x.tissue_category_1 != x.tissue_category_2) else  0), axis = 1)"
   ]
  },
  {
   "cell_type": "code",
   "execution_count": 9,
   "id": "english-toronto",
   "metadata": {},
   "outputs": [
    {
     "data": {
      "text/html": [
       "<div>\n",
       "<style scoped>\n",
       "    .dataframe tbody tr th:only-of-type {\n",
       "        vertical-align: middle;\n",
       "    }\n",
       "\n",
       "    .dataframe tbody tr th {\n",
       "        vertical-align: top;\n",
       "    }\n",
       "\n",
       "    .dataframe thead th {\n",
       "        text-align: right;\n",
       "    }\n",
       "</style>\n",
       "<table border=\"1\" class=\"dataframe\">\n",
       "  <thead>\n",
       "    <tr style=\"text-align: right;\">\n",
       "      <th></th>\n",
       "      <th>distance</th>\n",
       "      <th>cell_id_1</th>\n",
       "      <th>cell_id_2</th>\n",
       "      <th>tissue_category_1</th>\n",
       "      <th>tissue_category_2</th>\n",
       "      <th>phenotype_1</th>\n",
       "      <th>phenotype_2</th>\n",
       "      <th>is_border</th>\n",
       "    </tr>\n",
       "  </thead>\n",
       "  <tbody>\n",
       "    <tr>\n",
       "      <th>0</th>\n",
       "      <td>43.811528</td>\n",
       "      <td>6821</td>\n",
       "      <td>6894</td>\n",
       "      <td>stroma</td>\n",
       "      <td>stroma</td>\n",
       "      <td>T</td>\n",
       "      <td>stroma</td>\n",
       "      <td>0</td>\n",
       "    </tr>\n",
       "    <tr>\n",
       "      <th>8</th>\n",
       "      <td>27.397993</td>\n",
       "      <td>34746</td>\n",
       "      <td>34779</td>\n",
       "      <td>stroma</td>\n",
       "      <td>stroma</td>\n",
       "      <td>T</td>\n",
       "      <td>stroma</td>\n",
       "      <td>0</td>\n",
       "    </tr>\n",
       "    <tr>\n",
       "      <th>9</th>\n",
       "      <td>40.121441</td>\n",
       "      <td>35764</td>\n",
       "      <td>35871</td>\n",
       "      <td>stroma</td>\n",
       "      <td>tumor</td>\n",
       "      <td>T</td>\n",
       "      <td>tumor</td>\n",
       "      <td>1</td>\n",
       "    </tr>\n",
       "  </tbody>\n",
       "</table>\n",
       "</div>"
      ],
      "text/plain": [
       "    distance  cell_id_1  cell_id_2 tissue_category_1 tissue_category_2  \\\n",
       "0  43.811528       6821       6894            stroma            stroma   \n",
       "8  27.397993      34746      34779            stroma            stroma   \n",
       "9  40.121441      35764      35871            stroma             tumor   \n",
       "\n",
       "  phenotype_1 phenotype_2  is_border  \n",
       "0           T      stroma          0  \n",
       "8           T      stroma          0  \n",
       "9           T       tumor          1  "
      ]
     },
     "execution_count": 9,
     "metadata": {},
     "output_type": "execute_result"
    }
   ],
   "source": [
    "edges_data.head(3)"
   ]
  },
  {
   "cell_type": "code",
   "execution_count": null,
   "id": "alone-supervision",
   "metadata": {},
   "outputs": [],
   "source": []
  },
  {
   "cell_type": "markdown",
   "id": "peaceful-example",
   "metadata": {},
   "source": [
    "## Extracing border cells"
   ]
  },
  {
   "cell_type": "markdown",
   "id": "furnished-siemens",
   "metadata": {},
   "source": [
    "### Extracting the cells that are neighbours to the exact border"
   ]
  },
  {
   "cell_type": "code",
   "execution_count": 12,
   "id": "accredited-latter",
   "metadata": {},
   "outputs": [],
   "source": [
    "exact_border_df = edges_data[edges_data.is_border == 1].copy()\n",
    "### Getting a list of cell_id  that are on the border\n",
    "border_cells = get_cells_from_edges(exact_border_df)\n",
    "### Fixing the radius of the neighberhood\n",
    "border_radius = 30\n",
    "### Getting all edges inside the area determined by the radius\n",
    "border_neighbours = total_edges[total_edges.distance< border_radius].copy()\n",
    "### keep only the edges having a border_cell ending point \n",
    "condition_1 = (border_neighbours['cell_id_1'].apply(lambda x: x in border_cells))|(border_neighbours['cell_id_2'].apply(lambda x: x in border_cells))\n",
    "border_neighbours['is_border'] = condition_1\n",
    "\n"
   ]
  },
  {
   "cell_type": "markdown",
   "id": "separate-kidney",
   "metadata": {},
   "source": [
    "### Extracting a cell list with all border neighbors"
   ]
  },
  {
   "cell_type": "code",
   "execution_count": 13,
   "id": "existing-support",
   "metadata": {},
   "outputs": [],
   "source": [
    "border_neighbours_df = border_neighbours[border_neighbours['is_border']==True]\n",
    "border_cells_neighbors = get_cells_from_edges(border_neighbours_df)"
   ]
  },
  {
   "cell_type": "markdown",
   "id": "hybrid-kingston",
   "metadata": {},
   "source": [
    "### The border column to the edges dataframe"
   ]
  },
  {
   "cell_type": "code",
   "execution_count": 14,
   "id": "legendary-cycling",
   "metadata": {},
   "outputs": [
    {
     "name": "stdout",
     "output_type": "stream",
     "text": [
      "The number of cells on the border 22123\n",
      "The number of cells in the  30  neighberhood 35237\n"
     ]
    }
   ],
   "source": [
    "print('The number of cells on the border', len(border_cells))\n",
    "print('The number of cells in the ', border_radius ,' radius neighberhood',len(border_cells_neighbors))"
   ]
  },
  {
   "cell_type": "markdown",
   "id": "blessed-assumption",
   "metadata": {},
   "source": [
    "## Visualising border cells"
   ]
  },
  {
   "cell_type": "code",
   "execution_count": 16,
   "id": "romantic-rebound",
   "metadata": {},
   "outputs": [],
   "source": [
    "cell_data_with_border = cell_data[['cell_id','cell_x_position','cell_y_position','tissue_category','phenotype']].copy()\n",
    "cell_data_with_border['on_border'] = cell_data_with_border['cell_id'].apply(lambda cell: cell in border_cells_neighbors)"
   ]
  },
  {
   "cell_type": "markdown",
   "id": "according-tender",
   "metadata": {},
   "source": [
    "subject to tissue type"
   ]
  },
  {
   "cell_type": "code",
   "execution_count": 19,
   "id": "damaged-transparency",
   "metadata": {},
   "outputs": [],
   "source": [
    "visualise_cells = cell_data_with_border[cell_data_with_border['on_border'] == True]\n",
    "fig, ax = plt.subplots(figsize = (30,15))\n",
    "fig = sns.scatterplot(data = visualise_cells , x='cell_x_position', y= 'cell_y_position', hue = 'tissue_category')\n",
    "fig.savefig('./plots/scatterplot_cells_border_tissue.png')"
   ]
  },
  {
   "cell_type": "markdown",
   "id": "located-asset",
   "metadata": {},
   "source": [
    "subject to phenotype"
   ]
  },
  {
   "cell_type": "code",
   "execution_count": 18,
   "id": "applicable-warrant",
   "metadata": {},
   "outputs": [],
   "source": [
    "fig, ax = plt.subplots(figsize = (30,15))\n",
    "sns.scatterplot(data = visualise_cells , x='cell_x_position', y= 'cell_y_position', hue = 'phenotype')\n",
    "fig.savefig('./plots/scatterplot_cells_border_phenotype.png')"
   ]
  },
  {
   "cell_type": "markdown",
   "id": "frequent-diving",
   "metadata": {},
   "source": [
    "Removing stroma cells "
   ]
  },
  {
   "cell_type": "code",
   "execution_count": 61,
   "id": "assured-dietary",
   "metadata": {},
   "outputs": [],
   "source": [
    "#fig, ax = plt.subplots(figsize = (30,15))\n",
    "#visualise_cells = visualise_cells[visualise_cells.phenotype != 'stroma']\n",
    "#sns.scatterplot(data = visualise_cells , x='cell_x_position', y= 'cell_y_position', hue = 'phenotype')\n",
    "#fig.savefig('./plots/scatterplot_cells_border_no_stroma.png')\n"
   ]
  },
  {
   "cell_type": "markdown",
   "id": "friendly-auditor",
   "metadata": {},
   "source": [
    "### Adding neighbour cells to edge data"
   ]
  },
  {
   "cell_type": "code",
   "execution_count": 62,
   "id": "inside-security",
   "metadata": {},
   "outputs": [],
   "source": [
    "condition = (edges_data['cell_id_1'].apply(lambda x: x in border_cells_neighbors))|(edges_data['cell_id_2'].apply(lambda x: x in border_cells_neighbors))\n",
    "edges_data['is_border'] = condition"
   ]
  },
  {
   "cell_type": "markdown",
   "id": "elder-wyoming",
   "metadata": {},
   "source": [
    "## Saving nodes to csv"
   ]
  },
  {
   "cell_type": "code",
   "execution_count": 29,
   "id": "charitable-magazine",
   "metadata": {},
   "outputs": [],
   "source": [
    "cell_data_with_border.to_csv('./data/nodes_with_border.csv', index = False)"
   ]
  },
  {
   "cell_type": "markdown",
   "id": "comfortable-happening",
   "metadata": {},
   "source": [
    "## Saving edges to csv"
   ]
  },
  {
   "cell_type": "code",
   "execution_count": 63,
   "id": "proper-guest",
   "metadata": {},
   "outputs": [],
   "source": [
    "edges_data.to_csv('./data/edges_border.csv', index = False)"
   ]
  },
  {
   "cell_type": "markdown",
   "id": "sunrise-experience",
   "metadata": {},
   "source": [
    "## Neighbourhood on tissue level"
   ]
  },
  {
   "cell_type": "code",
   "execution_count": 132,
   "id": "maritime-third",
   "metadata": {},
   "outputs": [],
   "source": [
    "#edges_data = remove_ordinary_stroma_cells(edges_data)"
   ]
  },
  {
   "cell_type": "code",
   "execution_count": 31,
   "id": "handmade-pickup",
   "metadata": {},
   "outputs": [],
   "source": [
    "edges_data_grouped = edges_data.groupby(['cell_id_1','tissue_category_2']).agg('count')['cell_id_2'].reset_index()"
   ]
  },
  {
   "cell_type": "code",
   "execution_count": 32,
   "id": "adjacent-colombia",
   "metadata": {},
   "outputs": [
    {
     "data": {
      "text/html": [
       "<div>\n",
       "<style scoped>\n",
       "    .dataframe tbody tr th:only-of-type {\n",
       "        vertical-align: middle;\n",
       "    }\n",
       "\n",
       "    .dataframe tbody tr th {\n",
       "        vertical-align: top;\n",
       "    }\n",
       "\n",
       "    .dataframe thead th {\n",
       "        text-align: right;\n",
       "    }\n",
       "</style>\n",
       "<table border=\"1\" class=\"dataframe\">\n",
       "  <thead>\n",
       "    <tr style=\"text-align: right;\">\n",
       "      <th></th>\n",
       "      <th>cell_id_1</th>\n",
       "      <th>tissue_category_2</th>\n",
       "      <th>cell_id_2</th>\n",
       "    </tr>\n",
       "  </thead>\n",
       "  <tbody>\n",
       "    <tr>\n",
       "      <th>0</th>\n",
       "      <td>1</td>\n",
       "      <td>stroma</td>\n",
       "      <td>28</td>\n",
       "    </tr>\n",
       "    <tr>\n",
       "      <th>1</th>\n",
       "      <td>2</td>\n",
       "      <td>stroma</td>\n",
       "      <td>31</td>\n",
       "    </tr>\n",
       "  </tbody>\n",
       "</table>\n",
       "</div>"
      ],
      "text/plain": [
       "   cell_id_1 tissue_category_2  cell_id_2\n",
       "0          1            stroma         28\n",
       "1          2            stroma         31"
      ]
     },
     "execution_count": 32,
     "metadata": {},
     "output_type": "execute_result"
    }
   ],
   "source": [
    "edges_data_grouped.head(2)"
   ]
  },
  {
   "cell_type": "code",
   "execution_count": 33,
   "id": "regional-script",
   "metadata": {},
   "outputs": [],
   "source": [
    "degree_table = pd.pivot_table(edges_data_grouped, values='cell_id_2', index=['cell_id_1'],\n",
    "                    columns=['tissue_category_2'], aggfunc=np.sum)\n",
    "\n",
    "degree_table.columns.name = None"
   ]
  },
  {
   "cell_type": "code",
   "execution_count": 34,
   "id": "adequate-civilian",
   "metadata": {},
   "outputs": [
    {
     "data": {
      "text/html": [
       "<div>\n",
       "<style scoped>\n",
       "    .dataframe tbody tr th:only-of-type {\n",
       "        vertical-align: middle;\n",
       "    }\n",
       "\n",
       "    .dataframe tbody tr th {\n",
       "        vertical-align: top;\n",
       "    }\n",
       "\n",
       "    .dataframe thead th {\n",
       "        text-align: right;\n",
       "    }\n",
       "</style>\n",
       "<table border=\"1\" class=\"dataframe\">\n",
       "  <thead>\n",
       "    <tr style=\"text-align: right;\">\n",
       "      <th></th>\n",
       "      <th>missing</th>\n",
       "      <th>stroma</th>\n",
       "      <th>tumor</th>\n",
       "    </tr>\n",
       "    <tr>\n",
       "      <th>cell_id_1</th>\n",
       "      <th></th>\n",
       "      <th></th>\n",
       "      <th></th>\n",
       "    </tr>\n",
       "  </thead>\n",
       "  <tbody>\n",
       "    <tr>\n",
       "      <th>1</th>\n",
       "      <td>NaN</td>\n",
       "      <td>28.0</td>\n",
       "      <td>NaN</td>\n",
       "    </tr>\n",
       "    <tr>\n",
       "      <th>2</th>\n",
       "      <td>NaN</td>\n",
       "      <td>31.0</td>\n",
       "      <td>NaN</td>\n",
       "    </tr>\n",
       "  </tbody>\n",
       "</table>\n",
       "</div>"
      ],
      "text/plain": [
       "           missing  stroma  tumor\n",
       "cell_id_1                        \n",
       "1              NaN    28.0    NaN\n",
       "2              NaN    31.0    NaN"
      ]
     },
     "execution_count": 34,
     "metadata": {},
     "output_type": "execute_result"
    }
   ],
   "source": [
    "degree_table.head(2)"
   ]
  },
  {
   "cell_type": "code",
   "execution_count": 35,
   "id": "experimental-jacob",
   "metadata": {},
   "outputs": [],
   "source": [
    "degree_table = degree_table.reset_index().rename( columns = {'missing':'missing_degree','tumor':'tumor_degree','stroma':'stroma_degree'})"
   ]
  },
  {
   "cell_type": "code",
   "execution_count": 36,
   "id": "greater-calvin",
   "metadata": {},
   "outputs": [],
   "source": [
    "degree_table = degree_table.fillna(0)"
   ]
  },
  {
   "cell_type": "code",
   "execution_count": 37,
   "id": "delayed-fluid",
   "metadata": {},
   "outputs": [
    {
     "data": {
      "text/html": [
       "<div>\n",
       "<style scoped>\n",
       "    .dataframe tbody tr th:only-of-type {\n",
       "        vertical-align: middle;\n",
       "    }\n",
       "\n",
       "    .dataframe tbody tr th {\n",
       "        vertical-align: top;\n",
       "    }\n",
       "\n",
       "    .dataframe thead th {\n",
       "        text-align: right;\n",
       "    }\n",
       "</style>\n",
       "<table border=\"1\" class=\"dataframe\">\n",
       "  <thead>\n",
       "    <tr style=\"text-align: right;\">\n",
       "      <th></th>\n",
       "      <th>cell_id_1</th>\n",
       "      <th>missing_degree</th>\n",
       "      <th>stroma_degree</th>\n",
       "      <th>tumor_degree</th>\n",
       "    </tr>\n",
       "  </thead>\n",
       "  <tbody>\n",
       "    <tr>\n",
       "      <th>0</th>\n",
       "      <td>1</td>\n",
       "      <td>0.0</td>\n",
       "      <td>28.0</td>\n",
       "      <td>0.0</td>\n",
       "    </tr>\n",
       "    <tr>\n",
       "      <th>1</th>\n",
       "      <td>2</td>\n",
       "      <td>0.0</td>\n",
       "      <td>31.0</td>\n",
       "      <td>0.0</td>\n",
       "    </tr>\n",
       "    <tr>\n",
       "      <th>2</th>\n",
       "      <td>3</td>\n",
       "      <td>0.0</td>\n",
       "      <td>32.0</td>\n",
       "      <td>0.0</td>\n",
       "    </tr>\n",
       "  </tbody>\n",
       "</table>\n",
       "</div>"
      ],
      "text/plain": [
       "   cell_id_1  missing_degree  stroma_degree  tumor_degree\n",
       "0          1             0.0           28.0           0.0\n",
       "1          2             0.0           31.0           0.0\n",
       "2          3             0.0           32.0           0.0"
      ]
     },
     "execution_count": 37,
     "metadata": {},
     "output_type": "execute_result"
    }
   ],
   "source": [
    "degree_table.head(3)"
   ]
  },
  {
   "cell_type": "code",
   "execution_count": 38,
   "id": "northern-singing",
   "metadata": {},
   "outputs": [],
   "source": [
    "degree_table['total_degree'] = degree_table.apply(lambda x :  + x.tumor_degree + x.stroma_degree , axis =1)"
   ]
  },
  {
   "cell_type": "code",
   "execution_count": 39,
   "id": "embedded-stroke",
   "metadata": {},
   "outputs": [
    {
     "data": {
      "text/html": [
       "<div>\n",
       "<style scoped>\n",
       "    .dataframe tbody tr th:only-of-type {\n",
       "        vertical-align: middle;\n",
       "    }\n",
       "\n",
       "    .dataframe tbody tr th {\n",
       "        vertical-align: top;\n",
       "    }\n",
       "\n",
       "    .dataframe thead th {\n",
       "        text-align: right;\n",
       "    }\n",
       "</style>\n",
       "<table border=\"1\" class=\"dataframe\">\n",
       "  <thead>\n",
       "    <tr style=\"text-align: right;\">\n",
       "      <th></th>\n",
       "      <th>cell_id_1</th>\n",
       "      <th>missing_degree</th>\n",
       "      <th>stroma_degree</th>\n",
       "      <th>tumor_degree</th>\n",
       "      <th>total_degree</th>\n",
       "    </tr>\n",
       "  </thead>\n",
       "  <tbody>\n",
       "    <tr>\n",
       "      <th>0</th>\n",
       "      <td>1</td>\n",
       "      <td>0.0</td>\n",
       "      <td>28.0</td>\n",
       "      <td>0.0</td>\n",
       "      <td>28.0</td>\n",
       "    </tr>\n",
       "    <tr>\n",
       "      <th>1</th>\n",
       "      <td>2</td>\n",
       "      <td>0.0</td>\n",
       "      <td>31.0</td>\n",
       "      <td>0.0</td>\n",
       "      <td>31.0</td>\n",
       "    </tr>\n",
       "    <tr>\n",
       "      <th>2</th>\n",
       "      <td>3</td>\n",
       "      <td>0.0</td>\n",
       "      <td>32.0</td>\n",
       "      <td>0.0</td>\n",
       "      <td>32.0</td>\n",
       "    </tr>\n",
       "  </tbody>\n",
       "</table>\n",
       "</div>"
      ],
      "text/plain": [
       "   cell_id_1  missing_degree  stroma_degree  tumor_degree  total_degree\n",
       "0          1             0.0           28.0           0.0          28.0\n",
       "1          2             0.0           31.0           0.0          31.0\n",
       "2          3             0.0           32.0           0.0          32.0"
      ]
     },
     "execution_count": 39,
     "metadata": {},
     "output_type": "execute_result"
    }
   ],
   "source": [
    "degree_table.head(3)"
   ]
  },
  {
   "cell_type": "markdown",
   "id": "standing-editing",
   "metadata": {},
   "source": [
    "## Neighbourhood on Phenotype level\n"
   ]
  },
  {
   "cell_type": "code",
   "execution_count": 40,
   "id": "sitting-edwards",
   "metadata": {},
   "outputs": [],
   "source": [
    "phenotype_grouped = edges_data.groupby(['cell_id_1','phenotype_2']).agg('count')['cell_id_2'].reset_index()"
   ]
  },
  {
   "cell_type": "code",
   "execution_count": 41,
   "id": "oriented-quebec",
   "metadata": {},
   "outputs": [],
   "source": [
    "phenotype_degree_table = pd.pivot_table(phenotype_grouped, values='cell_id_2', index=['cell_id_1'],\n",
    "                    columns=['phenotype_2'], aggfunc=np.sum)\n",
    "\n",
    "phenotype_degree_table.columns.name = None\n",
    "phenotype_degree_table = phenotype_degree_table.fillna(0).reset_index()"
   ]
  },
  {
   "cell_type": "code",
   "execution_count": 42,
   "id": "domestic-agriculture",
   "metadata": {},
   "outputs": [
    {
     "data": {
      "text/html": [
       "<div>\n",
       "<style scoped>\n",
       "    .dataframe tbody tr th:only-of-type {\n",
       "        vertical-align: middle;\n",
       "    }\n",
       "\n",
       "    .dataframe tbody tr th {\n",
       "        vertical-align: top;\n",
       "    }\n",
       "\n",
       "    .dataframe thead th {\n",
       "        text-align: right;\n",
       "    }\n",
       "</style>\n",
       "<table border=\"1\" class=\"dataframe\">\n",
       "  <thead>\n",
       "    <tr style=\"text-align: right;\">\n",
       "      <th></th>\n",
       "      <th>cell_id_1</th>\n",
       "      <th>B</th>\n",
       "      <th>MISSING</th>\n",
       "      <th>NK</th>\n",
       "      <th>T</th>\n",
       "      <th>dendtritic</th>\n",
       "      <th>macrophages</th>\n",
       "      <th>stroma</th>\n",
       "      <th>tumor</th>\n",
       "    </tr>\n",
       "  </thead>\n",
       "  <tbody>\n",
       "    <tr>\n",
       "      <th>0</th>\n",
       "      <td>1</td>\n",
       "      <td>0.0</td>\n",
       "      <td>3.0</td>\n",
       "      <td>0.0</td>\n",
       "      <td>0.0</td>\n",
       "      <td>0.0</td>\n",
       "      <td>0.0</td>\n",
       "      <td>25.0</td>\n",
       "      <td>0.0</td>\n",
       "    </tr>\n",
       "    <tr>\n",
       "      <th>1</th>\n",
       "      <td>2</td>\n",
       "      <td>0.0</td>\n",
       "      <td>2.0</td>\n",
       "      <td>0.0</td>\n",
       "      <td>0.0</td>\n",
       "      <td>0.0</td>\n",
       "      <td>0.0</td>\n",
       "      <td>29.0</td>\n",
       "      <td>0.0</td>\n",
       "    </tr>\n",
       "    <tr>\n",
       "      <th>2</th>\n",
       "      <td>3</td>\n",
       "      <td>0.0</td>\n",
       "      <td>1.0</td>\n",
       "      <td>0.0</td>\n",
       "      <td>0.0</td>\n",
       "      <td>0.0</td>\n",
       "      <td>0.0</td>\n",
       "      <td>31.0</td>\n",
       "      <td>0.0</td>\n",
       "    </tr>\n",
       "  </tbody>\n",
       "</table>\n",
       "</div>"
      ],
      "text/plain": [
       "   cell_id_1    B  MISSING   NK    T  dendtritic  macrophages  stroma  tumor\n",
       "0          1  0.0      3.0  0.0  0.0         0.0          0.0    25.0    0.0\n",
       "1          2  0.0      2.0  0.0  0.0         0.0          0.0    29.0    0.0\n",
       "2          3  0.0      1.0  0.0  0.0         0.0          0.0    31.0    0.0"
      ]
     },
     "execution_count": 42,
     "metadata": {},
     "output_type": "execute_result"
    }
   ],
   "source": [
    "phenotype_degree_table.head(3)"
   ]
  },
  {
   "cell_type": "markdown",
   "id": "bright-trouble",
   "metadata": {},
   "source": [
    "## Appending all cell features together"
   ]
  },
  {
   "cell_type": "code",
   "execution_count": 43,
   "id": "marine-functionality",
   "metadata": {},
   "outputs": [],
   "source": [
    "cell_degree_grouped = degree_table.merge(phenotype_degree_table, on = 'cell_id_1', how = 'left')"
   ]
  },
  {
   "cell_type": "code",
   "execution_count": 44,
   "id": "industrial-celebration",
   "metadata": {},
   "outputs": [
    {
     "data": {
      "text/html": [
       "<div>\n",
       "<style scoped>\n",
       "    .dataframe tbody tr th:only-of-type {\n",
       "        vertical-align: middle;\n",
       "    }\n",
       "\n",
       "    .dataframe tbody tr th {\n",
       "        vertical-align: top;\n",
       "    }\n",
       "\n",
       "    .dataframe thead th {\n",
       "        text-align: right;\n",
       "    }\n",
       "</style>\n",
       "<table border=\"1\" class=\"dataframe\">\n",
       "  <thead>\n",
       "    <tr style=\"text-align: right;\">\n",
       "      <th></th>\n",
       "      <th>cell_id_1</th>\n",
       "      <th>missing_degree</th>\n",
       "      <th>stroma_degree</th>\n",
       "      <th>tumor_degree</th>\n",
       "      <th>total_degree</th>\n",
       "      <th>B</th>\n",
       "      <th>MISSING</th>\n",
       "      <th>NK</th>\n",
       "      <th>T</th>\n",
       "      <th>dendtritic</th>\n",
       "      <th>macrophages</th>\n",
       "      <th>stroma</th>\n",
       "      <th>tumor</th>\n",
       "    </tr>\n",
       "  </thead>\n",
       "  <tbody>\n",
       "    <tr>\n",
       "      <th>0</th>\n",
       "      <td>1</td>\n",
       "      <td>0.0</td>\n",
       "      <td>28.0</td>\n",
       "      <td>0.0</td>\n",
       "      <td>28.0</td>\n",
       "      <td>0.0</td>\n",
       "      <td>3.0</td>\n",
       "      <td>0.0</td>\n",
       "      <td>0.0</td>\n",
       "      <td>0.0</td>\n",
       "      <td>0.0</td>\n",
       "      <td>25.0</td>\n",
       "      <td>0.0</td>\n",
       "    </tr>\n",
       "    <tr>\n",
       "      <th>1</th>\n",
       "      <td>2</td>\n",
       "      <td>0.0</td>\n",
       "      <td>31.0</td>\n",
       "      <td>0.0</td>\n",
       "      <td>31.0</td>\n",
       "      <td>0.0</td>\n",
       "      <td>2.0</td>\n",
       "      <td>0.0</td>\n",
       "      <td>0.0</td>\n",
       "      <td>0.0</td>\n",
       "      <td>0.0</td>\n",
       "      <td>29.0</td>\n",
       "      <td>0.0</td>\n",
       "    </tr>\n",
       "    <tr>\n",
       "      <th>2</th>\n",
       "      <td>3</td>\n",
       "      <td>0.0</td>\n",
       "      <td>32.0</td>\n",
       "      <td>0.0</td>\n",
       "      <td>32.0</td>\n",
       "      <td>0.0</td>\n",
       "      <td>1.0</td>\n",
       "      <td>0.0</td>\n",
       "      <td>0.0</td>\n",
       "      <td>0.0</td>\n",
       "      <td>0.0</td>\n",
       "      <td>31.0</td>\n",
       "      <td>0.0</td>\n",
       "    </tr>\n",
       "  </tbody>\n",
       "</table>\n",
       "</div>"
      ],
      "text/plain": [
       "   cell_id_1  missing_degree  stroma_degree  tumor_degree  total_degree    B  \\\n",
       "0          1             0.0           28.0           0.0          28.0  0.0   \n",
       "1          2             0.0           31.0           0.0          31.0  0.0   \n",
       "2          3             0.0           32.0           0.0          32.0  0.0   \n",
       "\n",
       "   MISSING   NK    T  dendtritic  macrophages  stroma  tumor  \n",
       "0      3.0  0.0  0.0         0.0          0.0    25.0    0.0  \n",
       "1      2.0  0.0  0.0         0.0          0.0    29.0    0.0  \n",
       "2      1.0  0.0  0.0         0.0          0.0    31.0    0.0  "
      ]
     },
     "execution_count": 44,
     "metadata": {},
     "output_type": "execute_result"
    }
   ],
   "source": [
    "cell_degree_grouped.head(3)"
   ]
  },
  {
   "cell_type": "code",
   "execution_count": 45,
   "id": "medium-makeup",
   "metadata": {},
   "outputs": [],
   "source": [
    "cell_degree_grouped.to_csv('./data/output/cell_degree.csv', index = False)"
   ]
  },
  {
   "cell_type": "markdown",
   "id": "enormous-rapid",
   "metadata": {},
   "source": [
    "## Counting the occurence of edges"
   ]
  },
  {
   "cell_type": "code",
   "execution_count": 46,
   "id": "silent-soundtrack",
   "metadata": {},
   "outputs": [],
   "source": [
    "edge_phenotype_count = edges_data.groupby(['phenotype_1','phenotype_2']).agg('count')[['cell_id_1']]"
   ]
  },
  {
   "cell_type": "code",
   "execution_count": 47,
   "id": "crazy-reservoir",
   "metadata": {},
   "outputs": [],
   "source": [
    "edge_phenotype_count = edge_phenotype_count.reset_index()"
   ]
  },
  {
   "cell_type": "code",
   "execution_count": 48,
   "id": "quarterly-washington",
   "metadata": {},
   "outputs": [
    {
     "data": {
      "text/html": [
       "<div>\n",
       "<style scoped>\n",
       "    .dataframe tbody tr th:only-of-type {\n",
       "        vertical-align: middle;\n",
       "    }\n",
       "\n",
       "    .dataframe tbody tr th {\n",
       "        vertical-align: top;\n",
       "    }\n",
       "\n",
       "    .dataframe thead th {\n",
       "        text-align: right;\n",
       "    }\n",
       "</style>\n",
       "<table border=\"1\" class=\"dataframe\">\n",
       "  <thead>\n",
       "    <tr style=\"text-align: right;\">\n",
       "      <th></th>\n",
       "      <th>phenotype_1</th>\n",
       "      <th>phenotype_2</th>\n",
       "      <th>cell_id_1</th>\n",
       "    </tr>\n",
       "  </thead>\n",
       "  <tbody>\n",
       "    <tr>\n",
       "      <th>0</th>\n",
       "      <td>B</td>\n",
       "      <td>B</td>\n",
       "      <td>376</td>\n",
       "    </tr>\n",
       "    <tr>\n",
       "      <th>1</th>\n",
       "      <td>B</td>\n",
       "      <td>MISSING</td>\n",
       "      <td>15</td>\n",
       "    </tr>\n",
       "    <tr>\n",
       "      <th>2</th>\n",
       "      <td>B</td>\n",
       "      <td>NK</td>\n",
       "      <td>1</td>\n",
       "    </tr>\n",
       "  </tbody>\n",
       "</table>\n",
       "</div>"
      ],
      "text/plain": [
       "  phenotype_1 phenotype_2  cell_id_1\n",
       "0           B           B        376\n",
       "1           B     MISSING         15\n",
       "2           B          NK          1"
      ]
     },
     "execution_count": 48,
     "metadata": {},
     "output_type": "execute_result"
    }
   ],
   "source": [
    "edge_phenotype_count.head(3)"
   ]
  },
  {
   "cell_type": "code",
   "execution_count": 49,
   "id": "tough-pendant",
   "metadata": {},
   "outputs": [],
   "source": [
    "edge_phenotype_count_pivotted = pd.pivot_table(edge_phenotype_count, values='cell_id_1', index=['phenotype_1'],\n",
    "                    columns=['phenotype_2'], aggfunc=np.sum)\n",
    "\n",
    "edge_phenotype_count_pivotted.columns.name = None\n",
    "\n",
    "edge_phenotype_count_pivotted = edge_phenotype_count_pivotted.fillna(0)"
   ]
  },
  {
   "cell_type": "code",
   "execution_count": 50,
   "id": "completed-cabin",
   "metadata": {},
   "outputs": [
    {
     "data": {
      "text/html": [
       "<div>\n",
       "<style scoped>\n",
       "    .dataframe tbody tr th:only-of-type {\n",
       "        vertical-align: middle;\n",
       "    }\n",
       "\n",
       "    .dataframe tbody tr th {\n",
       "        vertical-align: top;\n",
       "    }\n",
       "\n",
       "    .dataframe thead th {\n",
       "        text-align: right;\n",
       "    }\n",
       "</style>\n",
       "<table border=\"1\" class=\"dataframe\">\n",
       "  <thead>\n",
       "    <tr style=\"text-align: right;\">\n",
       "      <th></th>\n",
       "      <th>B</th>\n",
       "      <th>MISSING</th>\n",
       "      <th>NK</th>\n",
       "      <th>T</th>\n",
       "      <th>dendtritic</th>\n",
       "      <th>macrophages</th>\n",
       "      <th>stroma</th>\n",
       "      <th>tumor</th>\n",
       "    </tr>\n",
       "    <tr>\n",
       "      <th>phenotype_1</th>\n",
       "      <th></th>\n",
       "      <th></th>\n",
       "      <th></th>\n",
       "      <th></th>\n",
       "      <th></th>\n",
       "      <th></th>\n",
       "      <th></th>\n",
       "      <th></th>\n",
       "    </tr>\n",
       "  </thead>\n",
       "  <tbody>\n",
       "    <tr>\n",
       "      <th>B</th>\n",
       "      <td>376.0</td>\n",
       "      <td>15.0</td>\n",
       "      <td>1.0</td>\n",
       "      <td>1119.0</td>\n",
       "      <td>69.0</td>\n",
       "      <td>3.0</td>\n",
       "      <td>1354.0</td>\n",
       "      <td>771.0</td>\n",
       "    </tr>\n",
       "    <tr>\n",
       "      <th>MISSING</th>\n",
       "      <td>37.0</td>\n",
       "      <td>1240.0</td>\n",
       "      <td>5.0</td>\n",
       "      <td>119.0</td>\n",
       "      <td>0.0</td>\n",
       "      <td>38.0</td>\n",
       "      <td>3053.0</td>\n",
       "      <td>16332.0</td>\n",
       "    </tr>\n",
       "    <tr>\n",
       "      <th>NK</th>\n",
       "      <td>3.0</td>\n",
       "      <td>16.0</td>\n",
       "      <td>4.0</td>\n",
       "      <td>37.0</td>\n",
       "      <td>1.0</td>\n",
       "      <td>1.0</td>\n",
       "      <td>254.0</td>\n",
       "      <td>472.0</td>\n",
       "    </tr>\n",
       "    <tr>\n",
       "      <th>T</th>\n",
       "      <td>778.0</td>\n",
       "      <td>109.0</td>\n",
       "      <td>65.0</td>\n",
       "      <td>4429.0</td>\n",
       "      <td>322.0</td>\n",
       "      <td>78.0</td>\n",
       "      <td>8507.0</td>\n",
       "      <td>8490.0</td>\n",
       "    </tr>\n",
       "    <tr>\n",
       "      <th>dendtritic</th>\n",
       "      <td>37.0</td>\n",
       "      <td>6.0</td>\n",
       "      <td>9.0</td>\n",
       "      <td>342.0</td>\n",
       "      <td>98.0</td>\n",
       "      <td>5.0</td>\n",
       "      <td>708.0</td>\n",
       "      <td>346.0</td>\n",
       "    </tr>\n",
       "  </tbody>\n",
       "</table>\n",
       "</div>"
      ],
      "text/plain": [
       "                 B  MISSING    NK       T  dendtritic  macrophages  stroma  \\\n",
       "phenotype_1                                                                  \n",
       "B            376.0     15.0   1.0  1119.0        69.0          3.0  1354.0   \n",
       "MISSING       37.0   1240.0   5.0   119.0         0.0         38.0  3053.0   \n",
       "NK             3.0     16.0   4.0    37.0         1.0          1.0   254.0   \n",
       "T            778.0    109.0  65.0  4429.0       322.0         78.0  8507.0   \n",
       "dendtritic    37.0      6.0   9.0   342.0        98.0          5.0   708.0   \n",
       "\n",
       "               tumor  \n",
       "phenotype_1           \n",
       "B              771.0  \n",
       "MISSING      16332.0  \n",
       "NK             472.0  \n",
       "T             8490.0  \n",
       "dendtritic     346.0  "
      ]
     },
     "execution_count": 50,
     "metadata": {},
     "output_type": "execute_result"
    }
   ],
   "source": [
    "edge_phenotype_count_pivotted.head()"
   ]
  },
  {
   "cell_type": "code",
   "execution_count": 51,
   "id": "nutritional-syria",
   "metadata": {},
   "outputs": [],
   "source": [
    "count_matrix = edge_phenotype_count_pivotted.to_numpy()\n",
    "diagonal_matrix = np.diag(np.diag(count_matrix))\n",
    "transpose_matrix = count_matrix.transpose()\n",
    "total = transpose_matrix + count_matrix - diagonal_matrix"
   ]
  },
  {
   "cell_type": "code",
   "execution_count": 52,
   "id": "capable-arthur",
   "metadata": {},
   "outputs": [],
   "source": [
    "columns = edge_phenotype_count_pivotted.columns\n",
    "index = edge_phenotype_count_pivotted.index\n",
    "edge_phenotype_count = pd.DataFrame(data = total, columns = columns, index = index)"
   ]
  },
  {
   "cell_type": "code",
   "execution_count": 53,
   "id": "regulated-laser",
   "metadata": {},
   "outputs": [
    {
     "data": {
      "text/html": [
       "<div>\n",
       "<style scoped>\n",
       "    .dataframe tbody tr th:only-of-type {\n",
       "        vertical-align: middle;\n",
       "    }\n",
       "\n",
       "    .dataframe tbody tr th {\n",
       "        vertical-align: top;\n",
       "    }\n",
       "\n",
       "    .dataframe thead th {\n",
       "        text-align: right;\n",
       "    }\n",
       "</style>\n",
       "<table border=\"1\" class=\"dataframe\">\n",
       "  <thead>\n",
       "    <tr style=\"text-align: right;\">\n",
       "      <th></th>\n",
       "      <th>B</th>\n",
       "      <th>MISSING</th>\n",
       "      <th>NK</th>\n",
       "      <th>T</th>\n",
       "      <th>dendtritic</th>\n",
       "      <th>macrophages</th>\n",
       "      <th>stroma</th>\n",
       "      <th>tumor</th>\n",
       "    </tr>\n",
       "    <tr>\n",
       "      <th>phenotype_1</th>\n",
       "      <th></th>\n",
       "      <th></th>\n",
       "      <th></th>\n",
       "      <th></th>\n",
       "      <th></th>\n",
       "      <th></th>\n",
       "      <th></th>\n",
       "      <th></th>\n",
       "    </tr>\n",
       "  </thead>\n",
       "  <tbody>\n",
       "    <tr>\n",
       "      <th>B</th>\n",
       "      <td>376.0</td>\n",
       "      <td>52.0</td>\n",
       "      <td>4.0</td>\n",
       "      <td>1897.0</td>\n",
       "      <td>106.0</td>\n",
       "      <td>16.0</td>\n",
       "      <td>2696.0</td>\n",
       "      <td>1517.0</td>\n",
       "    </tr>\n",
       "    <tr>\n",
       "      <th>MISSING</th>\n",
       "      <td>52.0</td>\n",
       "      <td>1240.0</td>\n",
       "      <td>21.0</td>\n",
       "      <td>228.0</td>\n",
       "      <td>6.0</td>\n",
       "      <td>63.0</td>\n",
       "      <td>5825.0</td>\n",
       "      <td>37273.0</td>\n",
       "    </tr>\n",
       "    <tr>\n",
       "      <th>NK</th>\n",
       "      <td>4.0</td>\n",
       "      <td>21.0</td>\n",
       "      <td>4.0</td>\n",
       "      <td>102.0</td>\n",
       "      <td>10.0</td>\n",
       "      <td>5.0</td>\n",
       "      <td>539.0</td>\n",
       "      <td>878.0</td>\n",
       "    </tr>\n",
       "    <tr>\n",
       "      <th>T</th>\n",
       "      <td>1897.0</td>\n",
       "      <td>228.0</td>\n",
       "      <td>102.0</td>\n",
       "      <td>4429.0</td>\n",
       "      <td>664.0</td>\n",
       "      <td>194.0</td>\n",
       "      <td>17189.0</td>\n",
       "      <td>16783.0</td>\n",
       "    </tr>\n",
       "    <tr>\n",
       "      <th>dendtritic</th>\n",
       "      <td>106.0</td>\n",
       "      <td>6.0</td>\n",
       "      <td>10.0</td>\n",
       "      <td>664.0</td>\n",
       "      <td>98.0</td>\n",
       "      <td>8.0</td>\n",
       "      <td>1452.0</td>\n",
       "      <td>528.0</td>\n",
       "    </tr>\n",
       "    <tr>\n",
       "      <th>macrophages</th>\n",
       "      <td>16.0</td>\n",
       "      <td>63.0</td>\n",
       "      <td>5.0</td>\n",
       "      <td>194.0</td>\n",
       "      <td>8.0</td>\n",
       "      <td>161.0</td>\n",
       "      <td>2739.0</td>\n",
       "      <td>4360.0</td>\n",
       "    </tr>\n",
       "    <tr>\n",
       "      <th>stroma</th>\n",
       "      <td>2696.0</td>\n",
       "      <td>5825.0</td>\n",
       "      <td>539.0</td>\n",
       "      <td>17189.0</td>\n",
       "      <td>1452.0</td>\n",
       "      <td>2739.0</td>\n",
       "      <td>94578.0</td>\n",
       "      <td>357793.0</td>\n",
       "    </tr>\n",
       "    <tr>\n",
       "      <th>tumor</th>\n",
       "      <td>1517.0</td>\n",
       "      <td>37273.0</td>\n",
       "      <td>878.0</td>\n",
       "      <td>16783.0</td>\n",
       "      <td>528.0</td>\n",
       "      <td>4360.0</td>\n",
       "      <td>357793.0</td>\n",
       "      <td>1477740.0</td>\n",
       "    </tr>\n",
       "  </tbody>\n",
       "</table>\n",
       "</div>"
      ],
      "text/plain": [
       "                  B  MISSING     NK        T  dendtritic  macrophages  \\\n",
       "phenotype_1                                                             \n",
       "B             376.0     52.0    4.0   1897.0       106.0         16.0   \n",
       "MISSING        52.0   1240.0   21.0    228.0         6.0         63.0   \n",
       "NK              4.0     21.0    4.0    102.0        10.0          5.0   \n",
       "T            1897.0    228.0  102.0   4429.0       664.0        194.0   \n",
       "dendtritic    106.0      6.0   10.0    664.0        98.0          8.0   \n",
       "macrophages    16.0     63.0    5.0    194.0         8.0        161.0   \n",
       "stroma       2696.0   5825.0  539.0  17189.0      1452.0       2739.0   \n",
       "tumor        1517.0  37273.0  878.0  16783.0       528.0       4360.0   \n",
       "\n",
       "               stroma      tumor  \n",
       "phenotype_1                       \n",
       "B              2696.0     1517.0  \n",
       "MISSING        5825.0    37273.0  \n",
       "NK              539.0      878.0  \n",
       "T             17189.0    16783.0  \n",
       "dendtritic     1452.0      528.0  \n",
       "macrophages    2739.0     4360.0  \n",
       "stroma        94578.0   357793.0  \n",
       "tumor        357793.0  1477740.0  "
      ]
     },
     "execution_count": 53,
     "metadata": {},
     "output_type": "execute_result"
    }
   ],
   "source": [
    "edge_phenotype_count"
   ]
  },
  {
   "cell_type": "code",
   "execution_count": 54,
   "id": "therapeutic-smell",
   "metadata": {},
   "outputs": [],
   "source": [
    "heatmap_df = edge_phenotype_count.drop(['MISSING'],axis=1)"
   ]
  },
  {
   "cell_type": "code",
   "execution_count": 57,
   "id": "recovered-member",
   "metadata": {},
   "outputs": [],
   "source": [
    "#fig, ax = plt.subplots(figsize = (15,15))\n",
    "#sns_fig = sns.heatmap(heatmap_df.iloc[:,:5], cmap=sns.color_palette(\"light:b\", as_cmap=True)).get_figure()\n",
    "#sns_fig.savefig('./plots/heatmap.png')"
   ]
  },
  {
   "cell_type": "code",
   "execution_count": null,
   "id": "increasing-compiler",
   "metadata": {},
   "outputs": [],
   "source": []
  },
  {
   "cell_type": "code",
   "execution_count": null,
   "id": "sweet-barrel",
   "metadata": {},
   "outputs": [],
   "source": []
  }
 ],
 "metadata": {
  "environment": {
   "name": "common-cpu.mnightly-2021-02-12-debian-10-test",
   "type": "gcloud",
   "uri": "gcr.io/deeplearning-platform-release/base-cpu:mnightly-2021-02-12-debian-10-test"
  },
  "kernelspec": {
   "display_name": "Python 3",
   "language": "python",
   "name": "python3"
  },
  "language_info": {
   "codemirror_mode": {
    "name": "ipython",
    "version": 3
   },
   "file_extension": ".py",
   "mimetype": "text/x-python",
   "name": "python",
   "nbconvert_exporter": "python",
   "pygments_lexer": "ipython3",
   "version": "3.7.9"
  }
 },
 "nbformat": 4,
 "nbformat_minor": 5
}
