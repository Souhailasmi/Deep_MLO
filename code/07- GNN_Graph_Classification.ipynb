{
 "cells": [
  {
   "cell_type": "code",
   "execution_count": 3,
   "metadata": {},
   "outputs": [],
   "source": [
    "#!pip install torch"
   ]
  },
  {
   "cell_type": "code",
   "execution_count": 12,
   "metadata": {},
   "outputs": [
    {
     "name": "stdout",
     "output_type": "stream",
     "text": [
      "Collecting torch-scatter\n",
      "  Using cached torch_scatter-2.0.6.tar.gz (21 kB)\n",
      "Building wheels for collected packages: torch-scatter\n",
      "  Building wheel for torch-scatter (setup.py) ... \u001b[?25ldone\n",
      "\u001b[?25h  Created wheel for torch-scatter: filename=torch_scatter-2.0.6-cp37-cp37m-macosx_10_9_x86_64.whl size=300695 sha256=2a620cc98b01820923ae7f14efda0928e07f2b83efac805e73f279752eef4ba2\n",
      "  Stored in directory: /Users/asmisouhail/Library/Caches/pip/wheels/30/6f/0c/dbdc62f111a9f09962331fd1c13b05806d6c2a2340d27fc0dc\n",
      "Successfully built torch-scatter\n",
      "Installing collected packages: torch-scatter\n",
      "Successfully installed torch-scatter-2.0.6\n"
     ]
    }
   ],
   "source": [
    "#!pip install torch-geometric\n",
    "#!pip install -q torch-sparse\n",
    "#!pip install torch-scatter"
   ]
  },
  {
   "cell_type": "markdown",
   "metadata": {},
   "source": [
    "# Libraries"
   ]
  },
  {
   "cell_type": "code",
   "execution_count": 13,
   "metadata": {},
   "outputs": [],
   "source": [
    "from queries import*\n",
    "from utilities import*\n",
    "from scipy.spatial import Delaunay\n",
    "from numpy import linalg\n",
    "from sklearn import preprocessing\n",
    "import copy\n",
    "import torch\n",
    "from torch.nn import Linear\n",
    "import torch.nn.functional as F\n",
    "from torch_geometric.nn import GCNConv\n",
    "from torch_geometric.nn import global_mean_pool"
   ]
  },
  {
   "cell_type": "markdown",
   "metadata": {},
   "source": [
    "## Data"
   ]
  },
  {
   "cell_type": "code",
   "execution_count": 15,
   "metadata": {},
   "outputs": [],
   "source": [
    "PATIENT_ID = '1D1'\n",
    "INPUT_PATH = './data/input/DEEPMEL_' + PATIENT_ID + '/'\n",
    "OUTPUT_PATH = './data/output/DEEPMEL_' + PATIENT_ID +'/'\n",
    "PLOT_PATH ='./plots/DEEPMEL_' + PATIENT_ID +'/'\n",
    "\n",
    "patch_data = pd.read_csv(OUTPUT_PATH + 'patch_data.csv')\n",
    "patch_edge_data = pd.read_csv(OUTPUT_PATH + 'patch_edge_data.csv')"
   ]
  },
  {
   "cell_type": "code",
   "execution_count": 27,
   "metadata": {},
   "outputs": [
    {
     "data": {
      "text/html": [
       "<div>\n",
       "<style scoped>\n",
       "    .dataframe tbody tr th:only-of-type {\n",
       "        vertical-align: middle;\n",
       "    }\n",
       "\n",
       "    .dataframe tbody tr th {\n",
       "        vertical-align: top;\n",
       "    }\n",
       "\n",
       "    .dataframe thead th {\n",
       "        text-align: right;\n",
       "    }\n",
       "</style>\n",
       "<table border=\"1\" class=\"dataframe\">\n",
       "  <thead>\n",
       "    <tr style=\"text-align: right;\">\n",
       "      <th></th>\n",
       "      <th>patch_number_1</th>\n",
       "      <th>patch_1</th>\n",
       "      <th>patch_number_2</th>\n",
       "      <th>patch_2</th>\n",
       "      <th>distance</th>\n",
       "    </tr>\n",
       "  </thead>\n",
       "  <tbody>\n",
       "    <tr>\n",
       "      <th>0</th>\n",
       "      <td>0</td>\n",
       "      <td>(0.0, 3.0)</td>\n",
       "      <td>1</td>\n",
       "      <td>(0.0, 4.0)</td>\n",
       "      <td>1.0</td>\n",
       "    </tr>\n",
       "    <tr>\n",
       "      <th>1</th>\n",
       "      <td>0</td>\n",
       "      <td>(0.0, 3.0)</td>\n",
       "      <td>6</td>\n",
       "      <td>(1.0, 3.0)</td>\n",
       "      <td>1.0</td>\n",
       "    </tr>\n",
       "    <tr>\n",
       "      <th>2</th>\n",
       "      <td>1</td>\n",
       "      <td>(0.0, 4.0)</td>\n",
       "      <td>0</td>\n",
       "      <td>(0.0, 3.0)</td>\n",
       "      <td>1.0</td>\n",
       "    </tr>\n",
       "  </tbody>\n",
       "</table>\n",
       "</div>"
      ],
      "text/plain": [
       "   patch_number_1     patch_1  patch_number_2     patch_2  distance\n",
       "0               0  (0.0, 3.0)               1  (0.0, 4.0)       1.0\n",
       "1               0  (0.0, 3.0)               6  (1.0, 3.0)       1.0\n",
       "2               1  (0.0, 4.0)               0  (0.0, 3.0)       1.0"
      ]
     },
     "execution_count": 27,
     "metadata": {},
     "output_type": "execute_result"
    }
   ],
   "source": [
    "patch_edge_data.head(3)"
   ]
  },
  {
   "cell_type": "code",
   "execution_count": 18,
   "metadata": {},
   "outputs": [],
   "source": [
    "def get_edge_tensor(edge_df):\n",
    "    \n",
    "    patch_number_1 = edge_df.patch_number_1.values\n",
    "    patch_number_2 = edge_df.patch_number_2.values\n",
    "    \n",
    "    edges_index = torch.tensor([patch_number_1,patch_number_2])\n",
    "    \n",
    "    return edges_index\n"
   ]
  },
  {
   "cell_type": "code",
   "execution_count": 21,
   "metadata": {},
   "outputs": [
    {
     "data": {
      "text/plain": [
       "torch.Size([2, 180])"
      ]
     },
     "execution_count": 21,
     "metadata": {},
     "output_type": "execute_result"
    }
   ],
   "source": [
    "get_edge_tensor(patch_edge_data).shape"
   ]
  },
  {
   "cell_type": "code",
   "execution_count": 24,
   "metadata": {},
   "outputs": [],
   "source": [
    "patch_data = patch_data.sort_values('patch_number')"
   ]
  },
  {
   "cell_type": "code",
   "execution_count": 25,
   "metadata": {},
   "outputs": [],
   "source": [
    "Directory = os.getcwd()\n",
    "Directory_path = Directory + '/data/output'\n",
    "files = os.listdir(Directory_path)"
   ]
  },
  {
   "cell_type": "markdown",
   "metadata": {},
   "source": [
    "# Getting labels "
   ]
  },
  {
   "cell_type": "code",
   "execution_count": 26,
   "metadata": {},
   "outputs": [
    {
     "data": {
      "text/plain": [
       "['DEEPMEL_2P1',\n",
       " 'DEEPMEL_3I1',\n",
       " 'DEEPMEL_1F1',\n",
       " 'DEEPMEL_1L1',\n",
       " 'DEEPMEL_3C1',\n",
       " 'DEEPMEL_2U2',\n",
       " 'DEEPMEL_2Z1',\n",
       " 'DEEPMEL_3J1',\n",
       " 'DEEPMEL_2S1',\n",
       " 'DEEPMEL_1J2',\n",
       " 'DEEPMEL_1E1',\n",
       " 'DEEPMEL_1O1',\n",
       " 'DEEPMEL_2Y1',\n",
       " '.DS_Store',\n",
       " 'DEEPMEL_2K1',\n",
       " 'DEEPMEL_2A1',\n",
       " 'DEEPMEL_1W1',\n",
       " 'DEEPMEL_1X2',\n",
       " 'DEEPMEL_2H1',\n",
       " 'DEEPMEL_1X3',\n",
       " 'DEEPMEL_2B1',\n",
       " 'DEEPMEL_2L1',\n",
       " 'DEEPMEL_1P1',\n",
       " 'DEEPMEL_2O1',\n",
       " 'DEEPMEL_1Y1',\n",
       " 'DEEPMEL_1V2',\n",
       " 'DEEPMEL_1S1',\n",
       " 'DEEPMEL_2E1',\n",
       " 'pheno_count.csv',\n",
       " 'DEEPMEL_2W1',\n",
       " 'DEEPMEL_3N1',\n",
       " 'DEEPMEL_3D1',\n",
       " 'DEEPMEL_1K1',\n",
       " 'DEEPMEL_3M1',\n",
       " 'DEEPMEL_2T1',\n",
       " 'DEEPMEL_3G1',\n",
       " 'DEEPMEL_1C1',\n",
       " 'DEEPMEL_2U1',\n",
       " 'DEEPMEL_3F1',\n",
       " 'DEEPMEL_1O2',\n",
       " 'DEEPMEL_2V1',\n",
       " 'DEEPMEL_3E1',\n",
       " 'nodes_features.csv',\n",
       " 'DEEPMEL_3J2',\n",
       " 'DEEPMEL_1J1',\n",
       " 'DEEPMEL_1X1',\n",
       " 'DEEPMEL_1R1',\n",
       " 'DEEPMEL_2D1',\n",
       " 'DEEPMEL_2B2',\n",
       " 'DEEPMEL_2K3',\n",
       " 'DEEPMEL_2G1',\n",
       " '.ipynb_checkpoints',\n",
       " 'DEEPMEL_3P1',\n",
       " 'DEEPMEL_2C1',\n",
       " 'clustering_coefficients_statistics.csv',\n",
       " 'DEEPMEL_1Z2',\n",
       " 'DEEPMEL_1U1',\n",
       " 'DEEPMEL_2J1',\n",
       " 'DEEPMEL_1V1',\n",
       " 'DEEPMEL_2R1',\n",
       " 'laplace_quadratics_features.csv',\n",
       " 'DEEPMEL_1D1',\n",
       " 'DEEPMEL_1N1',\n",
       " 'DEEPMEL_2X1',\n",
       " 'DEEPMEL_3A1',\n",
       " 'DEEPMEL_2Q1',\n",
       " 'DEEPMEL_3H1',\n",
       " 'DEEPMEL_1M1',\n",
       " 'DEEPMEL_2T2']"
      ]
     },
     "execution_count": 26,
     "metadata": {},
     "output_type": "execute_result"
    }
   ],
   "source": [
    "files"
   ]
  },
  {
   "cell_type": "code",
   "execution_count": null,
   "metadata": {},
   "outputs": [],
   "source": []
  }
 ],
 "metadata": {
  "kernelspec": {
   "display_name": "Python 3",
   "language": "python",
   "name": "python3"
  },
  "language_info": {
   "codemirror_mode": {
    "name": "ipython",
    "version": 3
   },
   "file_extension": ".py",
   "mimetype": "text/x-python",
   "name": "python",
   "nbconvert_exporter": "python",
   "pygments_lexer": "ipython3",
   "version": "3.7.7"
  }
 },
 "nbformat": 4,
 "nbformat_minor": 4
}
