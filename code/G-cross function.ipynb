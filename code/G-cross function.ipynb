{
 "cells": [
  {
   "cell_type": "markdown",
   "id": "finished-calcium",
   "metadata": {},
   "source": [
    "# The G-cross function computes the probability distribution of immune cells nearest to tumor cells within any given distance\n"
   ]
  },
  {
   "cell_type": "code",
   "execution_count": 1,
   "id": "thorough-target",
   "metadata": {},
   "outputs": [],
   "source": [
    "from queries import*\n",
    "from utilities import*\n",
    "from scipy.spatial import Delaunay\n",
    "from numpy import linalg\n",
    "from sklearn import preprocessing"
   ]
  },
  {
   "cell_type": "markdown",
   "id": "incorrect-consciousness",
   "metadata": {},
   "source": [
    "## Importing edges"
   ]
  },
  {
   "cell_type": "code",
   "execution_count": 44,
   "id": "baking-mailman",
   "metadata": {},
   "outputs": [],
   "source": [
    "edges = pd.read_csv('./data/output/edges_thrd_100.csv')"
   ]
  },
  {
   "cell_type": "code",
   "execution_count": 45,
   "id": "unique-occasions",
   "metadata": {},
   "outputs": [],
   "source": [
    "THRESHOLD =100\n",
    "edges = graph_wrangling(edges,THRESHOLD, only_border = True)"
   ]
  },
  {
   "cell_type": "code",
   "execution_count": 48,
   "id": "interior-monte",
   "metadata": {},
   "outputs": [],
   "source": [
    "edges['phenotype_1'] = edges['phenotype_1'].apply(lambda x: get_phenotype(x))\n",
    "edges['phenotype_2'] = edges['phenotype_2'].apply(lambda x: get_phenotype(x))"
   ]
  },
  {
   "cell_type": "code",
   "execution_count": 49,
   "id": "demographic-stockholm",
   "metadata": {},
   "outputs": [
    {
     "data": {
      "text/html": [
       "<div>\n",
       "<style scoped>\n",
       "    .dataframe tbody tr th:only-of-type {\n",
       "        vertical-align: middle;\n",
       "    }\n",
       "\n",
       "    .dataframe tbody tr th {\n",
       "        vertical-align: top;\n",
       "    }\n",
       "\n",
       "    .dataframe thead th {\n",
       "        text-align: right;\n",
       "    }\n",
       "</style>\n",
       "<table border=\"1\" class=\"dataframe\">\n",
       "  <thead>\n",
       "    <tr style=\"text-align: right;\">\n",
       "      <th></th>\n",
       "      <th>distance</th>\n",
       "      <th>cell_id_1</th>\n",
       "      <th>cell_id_2</th>\n",
       "      <th>tissue_category_1</th>\n",
       "      <th>tissue_category_2</th>\n",
       "      <th>phenotype_1</th>\n",
       "      <th>phenotype_2</th>\n",
       "    </tr>\n",
       "  </thead>\n",
       "  <tbody>\n",
       "    <tr>\n",
       "      <th>9</th>\n",
       "      <td>40.121441</td>\n",
       "      <td>35764</td>\n",
       "      <td>35871</td>\n",
       "      <td>stroma</td>\n",
       "      <td>tumor</td>\n",
       "      <td>T</td>\n",
       "      <td>tumor</td>\n",
       "    </tr>\n",
       "    <tr>\n",
       "      <th>11</th>\n",
       "      <td>89.542448</td>\n",
       "      <td>35764</td>\n",
       "      <td>36167</td>\n",
       "      <td>stroma</td>\n",
       "      <td>tumor</td>\n",
       "      <td>T</td>\n",
       "      <td>tumor</td>\n",
       "    </tr>\n",
       "    <tr>\n",
       "      <th>12</th>\n",
       "      <td>75.152179</td>\n",
       "      <td>35764</td>\n",
       "      <td>35898</td>\n",
       "      <td>stroma</td>\n",
       "      <td>tumor</td>\n",
       "      <td>T</td>\n",
       "      <td>tumor</td>\n",
       "    </tr>\n",
       "    <tr>\n",
       "      <th>13</th>\n",
       "      <td>41.571384</td>\n",
       "      <td>35764</td>\n",
       "      <td>35864</td>\n",
       "      <td>stroma</td>\n",
       "      <td>tumor</td>\n",
       "      <td>T</td>\n",
       "      <td>tumor</td>\n",
       "    </tr>\n",
       "    <tr>\n",
       "      <th>19</th>\n",
       "      <td>45.496483</td>\n",
       "      <td>44539</td>\n",
       "      <td>44711</td>\n",
       "      <td>stroma</td>\n",
       "      <td>tumor</td>\n",
       "      <td>T</td>\n",
       "      <td>T</td>\n",
       "    </tr>\n",
       "  </tbody>\n",
       "</table>\n",
       "</div>"
      ],
      "text/plain": [
       "     distance  cell_id_1  cell_id_2 tissue_category_1 tissue_category_2  \\\n",
       "9   40.121441      35764      35871            stroma             tumor   \n",
       "11  89.542448      35764      36167            stroma             tumor   \n",
       "12  75.152179      35764      35898            stroma             tumor   \n",
       "13  41.571384      35764      35864            stroma             tumor   \n",
       "19  45.496483      44539      44711            stroma             tumor   \n",
       "\n",
       "   phenotype_1 phenotype_2  \n",
       "9            T       tumor  \n",
       "11           T       tumor  \n",
       "12           T       tumor  \n",
       "13           T       tumor  \n",
       "19           T           T  "
      ]
     },
     "execution_count": 49,
     "metadata": {},
     "output_type": "execute_result"
    }
   ],
   "source": [
    "edges.head(5)"
   ]
  },
  {
   "cell_type": "code",
   "execution_count": 50,
   "id": "subtle-yahoo",
   "metadata": {},
   "outputs": [],
   "source": [
    "vector_distances =list(np.linspace(10,100,20))\n",
    "TILs = ['T','B']\n",
    "TILs_condition = (edges.phenotype_1.apply(lambda x: x in TILs)) | (edges.phenotype_2.apply(lambda x: x in TILs))\n",
    "edges = edges[TILs_condition]"
   ]
  },
  {
   "cell_type": "code",
   "execution_count": 63,
   "id": "communist-grammar",
   "metadata": {},
   "outputs": [],
   "source": [
    "def G_cross_function(edges,vector_distances):\n",
    "    total_number = len(edges)\n",
    "    n = len(vector_distances)\n",
    "    distribution = {}\n",
    "    d_0 = vector_distances[0]\n",
    "    df = edges[edges.distance< d_0].copy()\n",
    "    distribution[d_0] = len(df)/total_number\n",
    "    \n",
    "    for index in range(n-1):\n",
    "        d_1 = vector_distances[index]\n",
    "        d_2 = vector_distances[index+1]\n",
    "        condition = edges.distance< d_2\n",
    "        df = edges[condition].copy()\n",
    "        distribution[d_2] = len(df)/total_number\n",
    "    distribution = pd.melt(pd.DataFrame(distribution, index = [0])  ) \n",
    "        \n",
    "    return  distribution\n",
    "        \n",
    "        \n",
    "    \n",
    "    "
   ]
  },
  {
   "cell_type": "code",
   "execution_count": 65,
   "id": "promotional-madison",
   "metadata": {},
   "outputs": [],
   "source": [
    "distribution = G_cross_function(edges,vector_distances)"
   ]
  },
  {
   "cell_type": "code",
   "execution_count": 66,
   "id": "automated-monster",
   "metadata": {},
   "outputs": [
    {
     "data": {
      "text/html": [
       "<div>\n",
       "<style scoped>\n",
       "    .dataframe tbody tr th:only-of-type {\n",
       "        vertical-align: middle;\n",
       "    }\n",
       "\n",
       "    .dataframe tbody tr th {\n",
       "        vertical-align: top;\n",
       "    }\n",
       "\n",
       "    .dataframe thead th {\n",
       "        text-align: right;\n",
       "    }\n",
       "</style>\n",
       "<table border=\"1\" class=\"dataframe\">\n",
       "  <thead>\n",
       "    <tr style=\"text-align: right;\">\n",
       "      <th></th>\n",
       "      <th>variable</th>\n",
       "      <th>value</th>\n",
       "    </tr>\n",
       "  </thead>\n",
       "  <tbody>\n",
       "    <tr>\n",
       "      <th>0</th>\n",
       "      <td>10.000000</td>\n",
       "      <td>0.001789</td>\n",
       "    </tr>\n",
       "    <tr>\n",
       "      <th>1</th>\n",
       "      <td>14.736842</td>\n",
       "      <td>0.005804</td>\n",
       "    </tr>\n",
       "    <tr>\n",
       "      <th>2</th>\n",
       "      <td>19.473684</td>\n",
       "      <td>0.014061</td>\n",
       "    </tr>\n",
       "    <tr>\n",
       "      <th>3</th>\n",
       "      <td>24.210526</td>\n",
       "      <td>0.026070</td>\n",
       "    </tr>\n",
       "    <tr>\n",
       "      <th>4</th>\n",
       "      <td>28.947368</td>\n",
       "      <td>0.042958</td>\n",
       "    </tr>\n",
       "    <tr>\n",
       "      <th>5</th>\n",
       "      <td>33.684211</td>\n",
       "      <td>0.064937</td>\n",
       "    </tr>\n",
       "    <tr>\n",
       "      <th>6</th>\n",
       "      <td>38.421053</td>\n",
       "      <td>0.092158</td>\n",
       "    </tr>\n",
       "    <tr>\n",
       "      <th>7</th>\n",
       "      <td>43.157895</td>\n",
       "      <td>0.124357</td>\n",
       "    </tr>\n",
       "    <tr>\n",
       "      <th>8</th>\n",
       "      <td>47.894737</td>\n",
       "      <td>0.162024</td>\n",
       "    </tr>\n",
       "    <tr>\n",
       "      <th>9</th>\n",
       "      <td>52.631579</td>\n",
       "      <td>0.204969</td>\n",
       "    </tr>\n",
       "    <tr>\n",
       "      <th>10</th>\n",
       "      <td>57.368421</td>\n",
       "      <td>0.254644</td>\n",
       "    </tr>\n",
       "    <tr>\n",
       "      <th>11</th>\n",
       "      <td>62.105263</td>\n",
       "      <td>0.310837</td>\n",
       "    </tr>\n",
       "    <tr>\n",
       "      <th>12</th>\n",
       "      <td>66.842105</td>\n",
       "      <td>0.373610</td>\n",
       "    </tr>\n",
       "    <tr>\n",
       "      <th>13</th>\n",
       "      <td>71.578947</td>\n",
       "      <td>0.443663</td>\n",
       "    </tr>\n",
       "    <tr>\n",
       "      <th>14</th>\n",
       "      <td>76.315789</td>\n",
       "      <td>0.518583</td>\n",
       "    </tr>\n",
       "    <tr>\n",
       "      <th>15</th>\n",
       "      <td>81.052632</td>\n",
       "      <td>0.600771</td>\n",
       "    </tr>\n",
       "    <tr>\n",
       "      <th>16</th>\n",
       "      <td>85.789474</td>\n",
       "      <td>0.689313</td>\n",
       "    </tr>\n",
       "    <tr>\n",
       "      <th>17</th>\n",
       "      <td>90.526316</td>\n",
       "      <td>0.786312</td>\n",
       "    </tr>\n",
       "    <tr>\n",
       "      <th>18</th>\n",
       "      <td>95.263158</td>\n",
       "      <td>0.889403</td>\n",
       "    </tr>\n",
       "    <tr>\n",
       "      <th>19</th>\n",
       "      <td>100.000000</td>\n",
       "      <td>1.000000</td>\n",
       "    </tr>\n",
       "  </tbody>\n",
       "</table>\n",
       "</div>"
      ],
      "text/plain": [
       "      variable     value\n",
       "0    10.000000  0.001789\n",
       "1    14.736842  0.005804\n",
       "2    19.473684  0.014061\n",
       "3    24.210526  0.026070\n",
       "4    28.947368  0.042958\n",
       "5    33.684211  0.064937\n",
       "6    38.421053  0.092158\n",
       "7    43.157895  0.124357\n",
       "8    47.894737  0.162024\n",
       "9    52.631579  0.204969\n",
       "10   57.368421  0.254644\n",
       "11   62.105263  0.310837\n",
       "12   66.842105  0.373610\n",
       "13   71.578947  0.443663\n",
       "14   76.315789  0.518583\n",
       "15   81.052632  0.600771\n",
       "16   85.789474  0.689313\n",
       "17   90.526316  0.786312\n",
       "18   95.263158  0.889403\n",
       "19  100.000000  1.000000"
      ]
     },
     "execution_count": 66,
     "metadata": {},
     "output_type": "execute_result"
    }
   ],
   "source": [
    "distribution"
   ]
  },
  {
   "cell_type": "code",
   "execution_count": 69,
   "id": "headed-antibody",
   "metadata": {},
   "outputs": [
    {
     "data": {
      "text/plain": [
       "Text(0.5, 1.0, 'cumulatative probability  distribution of the number of TILs inside a given radius')"
      ]
     },
     "execution_count": 69,
     "metadata": {},
     "output_type": "execute_result"
    },
    {
     "data": {
      "image/png": "[encoded data removed]",
      "text/plain": [
       "<Figure size 1080x504 with 1 Axes>"
      ]
     },
     "metadata": {
      "needs_background": "light"
     },
     "output_type": "display_data"
    }
   ],
   "source": [
    "fig = distribution.plot(x='variable',y='value',figsize=(15,7))\n",
    "plt.grid()\n",
    "plt.xlabel('Radius')\n",
    "plt.ylabel('Cumulatative probability')\n",
    "plt.title('cumulatative probability  distribution of the number of TILs inside a given radius')"
   ]
  },
  {
   "cell_type": "code",
   "execution_count": null,
   "id": "chicken-charity",
   "metadata": {},
   "outputs": [],
   "source": [
    "area = 0\n"
   ]
  }
 ],
 "metadata": {
  "environment": {
   "name": "common-cpu.mnightly-2021-02-12-debian-10-test",
   "type": "gcloud",
   "uri": "gcr.io/deeplearning-platform-release/base-cpu:mnightly-2021-02-12-debian-10-test"
  },
  "kernelspec": {
   "display_name": "Python 3",
   "language": "python",
   "name": "python3"
  },
  "language_info": {
   "codemirror_mode": {
    "name": "ipython",
    "version": 3
   },
   "file_extension": ".py",
   "mimetype": "text/x-python",
   "name": "python",
   "nbconvert_exporter": "python",
   "pygments_lexer": "ipython3",
   "version": "3.7.9"
  }
 },
 "nbformat": 4,
 "nbformat_minor": 5
}
