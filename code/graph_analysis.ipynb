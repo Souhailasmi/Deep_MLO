{
 "cells": [
  {
   "cell_type": "code",
   "execution_count": 290,
   "id": "curious-storage",
   "metadata": {},
   "outputs": [],
   "source": [
    "from queries import*\n",
    "from utilities import*\n",
    "from scipy.spatial import Delaunay\n",
    "from numpy import linalg\n",
    "from sklearn import preprocessing\n"
   ]
  },
  {
   "cell_type": "code",
   "execution_count": 158,
   "id": "curious-collapse",
   "metadata": {},
   "outputs": [],
   "source": [
    "#!pip install networkx==2.5.0 python-louvain"
   ]
  },
  {
   "cell_type": "code",
   "execution_count": 159,
   "id": "essential-angola",
   "metadata": {},
   "outputs": [],
   "source": [
    "#nx.__version__"
   ]
  },
  {
   "cell_type": "markdown",
   "id": "direct-surfing",
   "metadata": {},
   "source": [
    "## Functions"
   ]
  },
  {
   "cell_type": "code",
   "execution_count": 373,
   "id": "valuable-paste",
   "metadata": {},
   "outputs": [],
   "source": [
    "def get_quadratic_laplacian_forms(df,vertices,edges):\n",
    "    n=len(df)\n",
    "    df = min_max_scaler(df.iloc[:,1:])\n",
    "    signals = df.columns\n",
    "    component_graph = nx.Graph() # for a directed graph use nx.DiGraph()\n",
    "    component_graph.add_nodes_from(range(len(vertices)))  # add multiple nodes at once\n",
    "    component_graph.add_edges_from(edges)\n",
    "    L = nx.laplacian_matrix(component_graph).A\n",
    "    quad = {}\n",
    "    for signal in signals:\n",
    "        f = np.array(df[signal].fillna(0).values)\n",
    "        inner = np.inner(f, L.dot(f))\n",
    "        quad[signal] = inner\n",
    "        \n",
    "        \n",
    "    quadtratics = pd.DataFrame(data = quad,index =[0])\n",
    "        \n",
    "    return  quadtratics "
   ]
  },
  {
   "cell_type": "code",
   "execution_count": 247,
   "id": "adjustable-affect",
   "metadata": {},
   "outputs": [],
   "source": [
    "def get_high_level_graph(high_level, thresh=None):\n",
    "    \"\"\"\n",
    "    Get the high level delaunay triangulation graph of connected regions.\n",
    "    Each region is representend by a unique node.\n",
    "    ---\n",
    "    Arguments :\n",
    "        high_level : dataframe obtained with get_tils\n",
    "        thresh : maximum distance threshold for edges\n",
    "    Output :\n",
    "        coord : array, node coordinates\n",
    "        edges: set of edges below the threshold\n",
    "    \"\"\"\n",
    "    coord = []\n",
    "    for i, row in high_level.iterrows():\n",
    "        coord.append([row.cell_x_position, row.cell_y_position])\n",
    "    coord = np.array(coord)\n",
    "    tri = Delaunay(coord)\n",
    "    edges = set()\n",
    "    dists = []\n",
    "    for tr in tri.vertices:\n",
    "        for i in range(3):\n",
    "            edge_idx0 = tr[i]\n",
    "            edge_idx1 = tr[(i+1)%3]\n",
    "            if (edge_idx1, edge_idx0) in edges:\n",
    "                continue  # already visited this edge from other side\n",
    "            p0 = coord[edge_idx0]\n",
    "            p1 = coord[edge_idx1]\n",
    "            dists.append(np.linalg.norm(p1 - p0))\n",
    "            if thresh is not None :\n",
    "                if np.linalg.norm(p1 - p0) <  thresh:\n",
    "                    edges.add((edge_idx0, edge_idx1))\n",
    "            else :\n",
    "                edges.add((edge_idx0, edge_idx1))\n",
    "    return coord, edges\n"
   ]
  },
  {
   "cell_type": "code",
   "execution_count": 255,
   "id": "amazing-crazy",
   "metadata": {},
   "outputs": [],
   "source": [
    "def project_signal(graph,signal, plot_signal= True, color='r', savefig=False,figname=''):\n",
    "    laplacian_matrix = nx.laplacian_matrix(component_graph).A\n",
    "    eigen_vals, eigen_vects = np.linalg.eig(laplacian_matrix)\n",
    "    idx = (-eigen_vals).argsort()[::-1]   \n",
    "    eigenValues = eigen_vals[idx]\n",
    "    eigenVectors = eigen_vects[:,idx]\n",
    "    signal = signal\n",
    "    P_transpose = eigenVectors.transpose()\n",
    "    projection = np.dot(P_transpose,signal)\n",
    "    if plot_signal :\n",
    "        fig = plt.figure(figsize=(15,7))\n",
    "        plt.plot(eigenValues,projection, color='r')\n",
    "        plt.grid()\n",
    "        plt.ylabel(\"Magnitude\", size=\"large\")\n",
    "        plt.xlabel(\"Nodes\", size=\"large\")\n",
    "        plt.title(figname, size=\"large\")\n",
    "        plt.show();\n",
    "        if savefig:\n",
    "            fig.savefig('./plots/signals/'+ figname+'.png')\n",
    "    return projection  "
   ]
  },
  {
   "cell_type": "code",
   "execution_count": 160,
   "id": "searching-article",
   "metadata": {},
   "outputs": [],
   "source": [
    "def plot_relplot(data ,x,y,color='Reds',title='',savefig=False):\n",
    "    fig = sns.relplot(data=data,kind=\"line\", x=x, y=y, height=5, aspect=3,palette=color)  \n",
    "    plt.xlabel(x)\n",
    "    plt.ylabel(y)\n",
    "    plt.grid()\n",
    "    plt.title(title)\n",
    "    plt.show()\n",
    "    if savefig :\n",
    "        fig.savefig('./plots/'+title+'.png')"
   ]
  },
  {
   "cell_type": "code",
   "execution_count": 161,
   "id": "similar-genealogy",
   "metadata": {},
   "outputs": [],
   "source": [
    "def plot_density_per_component(data,metric,components=[1,2,3],phenotypes=['T','B'], savefig=False):\n",
    "    data_copy = data.copy()  \n",
    "    \n",
    "    filter_phenotype = data_copy[data_copy.apply(lambda x: (x.phenotype in phenotypes) and (x.component in components), axis=1)]\n",
    "\n",
    "    fig = sns.displot(filter_phenotype,x=metric, hue=\"phenotype\",col='component', kind=\"kde\")\n",
    "    if savefig:\n",
    "        fig.savefig('./plots/density_per_component'+METRIC+'.png')"
   ]
  },
  {
   "cell_type": "code",
   "execution_count": 162,
   "id": "intensive-opening",
   "metadata": {},
   "outputs": [],
   "source": [
    "def order_phenotypes(pheno_1, pheno_2):\n",
    "    if pheno_1 > pheno_2:\n",
    "        return str(pheno_1) + '-' + str(pheno_2)\n",
    "    else:\n",
    "        return str(pheno_2) + '-' + str(pheno_1)"
   ]
  },
  {
   "cell_type": "code",
   "execution_count": 163,
   "id": "overall-colonial",
   "metadata": {},
   "outputs": [],
   "source": [
    "def scatter_plot(data, x, y, title='',  savefig=False):\n",
    "    data_copy = data.copy()\n",
    "    \n",
    "    plt.figure(figsize=(15,7))\n",
    "    cmap = sns.cubehelix_palette(dark=.3, light=.8, as_cmap=True)\n",
    "    ax = sns.scatterplot(data= data_copy,x=x, y=y, palette=cmap )\n",
    "    plt.grid()\n",
    "    plt.title(title)    \n",
    "    if savefig:\n",
    "        fig.savefig('./plot/'+ title)"
   ]
  },
  {
   "cell_type": "code",
   "execution_count": 164,
   "id": "entire-adult",
   "metadata": {},
   "outputs": [],
   "source": [
    "def get_subnodes(G , attribute, value : list):\n",
    "    \n",
    "    nodes_list = []\n",
    "    \n",
    "    for n in G.nodes():\n",
    "        if G.nodes[n][attribute] in value :\n",
    "            \n",
    "            nodes_list.append(n)\n",
    "            \n",
    "    return nodes_list   "
   ]
  },
  {
   "cell_type": "code",
   "execution_count": 165,
   "id": "conservative-prefix",
   "metadata": {},
   "outputs": [],
   "source": [
    "def visualize_graph(G, with_labels=False, k=None, alpha=0.1, color_attribute ='phenotype' ,node_shape='.',bipartite = False, savefig =False, figname =''):\n",
    "    #nx.draw_spring(G, with_labels=with_labels, alpha = alpha)\n",
    "    fig = plt.figure(figsize=(30,20))\n",
    "\n",
    "    tumor_nodes = get_subnodes(G, 'phenotype',['tumor'])\n",
    "    color_mapping = {'tumor':'darkred', 'stroma':'peru', 'T':'springgreen', \n",
    "                     'B':'turquoise','macrophages':'khaki', 'dendtritic':'orange', 'NK':'gray', 'MISSING' :'slategray'}\n",
    "    if bipartite:\n",
    "        pos = nx.bipartite_layout(G, tumor_nodes ,align ='vertical')\n",
    "     \n",
    "    else:\n",
    "        pos = nx.spring_layout(G)\n",
    "    \n",
    "    ec = nx.draw_networkx_edges(G, pos, alpha=alpha)\n",
    "    nc = nx.draw_networkx_nodes(G, pos, nodelist=G.nodes() ,node_color=[color_mapping[G.nodes[n][color_attribute]] for n in G.nodes()], \n",
    "                             alpha=0.8, node_shape = node_shape)\n",
    "    #plt.colorbar(nc)\n",
    "    plt.axis('off')\n",
    "    plt.show()\n",
    "    if savefig:\n",
    "        fig.savefig('./plots/'+figname)"
   ]
  },
  {
   "cell_type": "code",
   "execution_count": 166,
   "id": "respected-cleanup",
   "metadata": {},
   "outputs": [],
   "source": [
    "def plot_component(graph, MIN_ELEMENTS_PER_CLUSTER= 200,component_number = 0 ,remove_stroma =False, bipartite =False, savefig=False, figname=''):\n",
    "    \n",
    "    components = list(nx.connected_components(graph))\n",
    "    components = filtering_components(components, MIN_ELEMENTS_PER_CLUSTER)\n",
    "    print('The cell graph contains', len(components), 'connected components')\n",
    "    components = sorted(components, key=len, reverse=False)\n",
    "    subgraphs = [cell_graph.subgraph(c).copy() for c in components]\n",
    "    main_component = subgraphs[component_number]\n",
    "    if remove_stroma :\n",
    "        nodes_list =[]\n",
    "        for n in main_component.nodes():\n",
    "            if main_component.nodes[n][\"phenotype\"] != 'stroma' :\n",
    "                nodes_list.append(n) \n",
    "        main_component =main_component.subgraph(nodes_list)\n",
    "        \n",
    "   # print(nx.info(main_component))\n",
    "    visualize_graph(main_component,bipartite=bipartite, savefig=savefig, figname=figname)"
   ]
  },
  {
   "cell_type": "code",
   "execution_count": 374,
   "id": "discrete-reputation",
   "metadata": {},
   "outputs": [],
   "source": [
    "def min_max_scaler(data):\n",
    "    df = data.copy()\n",
    "    columns_name = df.columns\n",
    "    x = df.values #returns a numpy array\n",
    "    min_max_scaler = preprocessing.MinMaxScaler()\n",
    "    x_scaled = min_max_scaler.fit_transform(x)\n",
    "    df = pd.DataFrame(x_scaled, columns = columns_name)\n",
    "    \n",
    "    return df"
   ]
  },
  {
   "cell_type": "markdown",
   "id": "documentary-accreditation",
   "metadata": {},
   "source": [
    "## Read data :"
   ]
  },
  {
   "cell_type": "markdown",
   "id": "together-spanking",
   "metadata": {},
   "source": [
    "### Nodes "
   ]
  },
  {
   "cell_type": "code",
   "execution_count": 167,
   "id": "turkish-error",
   "metadata": {},
   "outputs": [],
   "source": [
    "nodes = pd.read_csv('data/nodes_with_border.csv')\n",
    "                    \n",
    "### Setting cell_id as index\n",
    "\n",
    "nodes.set_index('cell_id', inplace=True)\n"
   ]
  },
  {
   "cell_type": "markdown",
   "id": "wooden-break",
   "metadata": {},
   "source": [
    "### Edges : Bipartite Graph (Tumor vs other cells)\n",
    "In this part we will only consider the border "
   ]
  },
  {
   "cell_type": "code",
   "execution_count": 378,
   "id": "disciplinary-liquid",
   "metadata": {},
   "outputs": [],
   "source": [
    "### Importing edges with distance threshold 100\n",
    "\n",
    "edges = pd.read_csv('./data/edges_border.csv')\n",
    "\n",
    "#### Fixing distance threshold and removing tumor border\n",
    "\n",
    "#THRESHOLD = 50\n",
    "\n",
    "#edges = graph_wrangling(edges,THRESHOLD, only_border = True)\n"
   ]
  },
  {
   "cell_type": "code",
   "execution_count": 383,
   "id": "pretty-jenny",
   "metadata": {},
   "outputs": [
    {
     "data": {
      "text/html": [
       "<div>\n",
       "<style scoped>\n",
       "    .dataframe tbody tr th:only-of-type {\n",
       "        vertical-align: middle;\n",
       "    }\n",
       "\n",
       "    .dataframe tbody tr th {\n",
       "        vertical-align: top;\n",
       "    }\n",
       "\n",
       "    .dataframe thead th {\n",
       "        text-align: right;\n",
       "    }\n",
       "</style>\n",
       "<table border=\"1\" class=\"dataframe\">\n",
       "  <thead>\n",
       "    <tr style=\"text-align: right;\">\n",
       "      <th></th>\n",
       "      <th>distance</th>\n",
       "      <th>cell_id_1</th>\n",
       "      <th>cell_id_2</th>\n",
       "      <th>tissue_category_1</th>\n",
       "      <th>tissue_category_2</th>\n",
       "      <th>phenotype_1</th>\n",
       "      <th>phenotype_2</th>\n",
       "      <th>is_border</th>\n",
       "    </tr>\n",
       "  </thead>\n",
       "  <tbody>\n",
       "    <tr>\n",
       "      <th>0</th>\n",
       "      <td>43.811528</td>\n",
       "      <td>6821</td>\n",
       "      <td>6894</td>\n",
       "      <td>stroma</td>\n",
       "      <td>stroma</td>\n",
       "      <td>T</td>\n",
       "      <td>stroma</td>\n",
       "      <td>True</td>\n",
       "    </tr>\n",
       "    <tr>\n",
       "      <th>1</th>\n",
       "      <td>27.397993</td>\n",
       "      <td>34746</td>\n",
       "      <td>34779</td>\n",
       "      <td>stroma</td>\n",
       "      <td>stroma</td>\n",
       "      <td>T</td>\n",
       "      <td>stroma</td>\n",
       "      <td>False</td>\n",
       "    </tr>\n",
       "    <tr>\n",
       "      <th>2</th>\n",
       "      <td>40.121441</td>\n",
       "      <td>35764</td>\n",
       "      <td>35871</td>\n",
       "      <td>stroma</td>\n",
       "      <td>tumor</td>\n",
       "      <td>T</td>\n",
       "      <td>tumor</td>\n",
       "      <td>True</td>\n",
       "    </tr>\n",
       "    <tr>\n",
       "      <th>3</th>\n",
       "      <td>41.571384</td>\n",
       "      <td>35764</td>\n",
       "      <td>35864</td>\n",
       "      <td>stroma</td>\n",
       "      <td>tumor</td>\n",
       "      <td>T</td>\n",
       "      <td>tumor</td>\n",
       "      <td>True</td>\n",
       "    </tr>\n",
       "    <tr>\n",
       "      <th>4</th>\n",
       "      <td>49.064957</td>\n",
       "      <td>39869</td>\n",
       "      <td>40243</td>\n",
       "      <td>tumor</td>\n",
       "      <td>tumor</td>\n",
       "      <td>tumor</td>\n",
       "      <td>tumor</td>\n",
       "      <td>True</td>\n",
       "    </tr>\n",
       "  </tbody>\n",
       "</table>\n",
       "</div>"
      ],
      "text/plain": [
       "    distance  cell_id_1  cell_id_2 tissue_category_1 tissue_category_2  \\\n",
       "0  43.811528       6821       6894            stroma            stroma   \n",
       "1  27.397993      34746      34779            stroma            stroma   \n",
       "2  40.121441      35764      35871            stroma             tumor   \n",
       "3  41.571384      35764      35864            stroma             tumor   \n",
       "4  49.064957      39869      40243             tumor             tumor   \n",
       "\n",
       "  phenotype_1 phenotype_2  is_border  \n",
       "0           T      stroma       True  \n",
       "1           T      stroma      False  \n",
       "2           T       tumor       True  \n",
       "3           T       tumor       True  \n",
       "4       tumor       tumor       True  "
      ]
     },
     "execution_count": 383,
     "metadata": {},
     "output_type": "execute_result"
    }
   ],
   "source": [
    "edges.head(5)"
   ]
  },
  {
   "cell_type": "code",
   "execution_count": 380,
   "id": "confirmed-feeding",
   "metadata": {},
   "outputs": [
    {
     "data": {
      "text/plain": [
       "2031574"
      ]
     },
     "execution_count": 380,
     "metadata": {},
     "output_type": "execute_result"
    }
   ],
   "source": [
    "len(edges)"
   ]
  },
  {
   "cell_type": "code",
   "execution_count": 384,
   "id": "convertible-fever",
   "metadata": {},
   "outputs": [
    {
     "data": {
      "text/html": [
       "<div>\n",
       "<style scoped>\n",
       "    .dataframe tbody tr th:only-of-type {\n",
       "        vertical-align: middle;\n",
       "    }\n",
       "\n",
       "    .dataframe tbody tr th {\n",
       "        vertical-align: top;\n",
       "    }\n",
       "\n",
       "    .dataframe thead th {\n",
       "        text-align: right;\n",
       "    }\n",
       "</style>\n",
       "<table border=\"1\" class=\"dataframe\">\n",
       "  <thead>\n",
       "    <tr style=\"text-align: right;\">\n",
       "      <th></th>\n",
       "      <th>distance</th>\n",
       "      <th>cell_id_1</th>\n",
       "      <th>cell_id_2</th>\n",
       "    </tr>\n",
       "  </thead>\n",
       "  <tbody>\n",
       "    <tr>\n",
       "      <th>count</th>\n",
       "      <td>2.031574e+06</td>\n",
       "      <td>2.031574e+06</td>\n",
       "      <td>2.031574e+06</td>\n",
       "    </tr>\n",
       "    <tr>\n",
       "      <th>mean</th>\n",
       "      <td>3.327279e+01</td>\n",
       "      <td>3.332873e+04</td>\n",
       "      <td>3.418804e+04</td>\n",
       "    </tr>\n",
       "    <tr>\n",
       "      <th>std</th>\n",
       "      <td>1.166505e+01</td>\n",
       "      <td>1.875347e+04</td>\n",
       "      <td>1.879219e+04</td>\n",
       "    </tr>\n",
       "    <tr>\n",
       "      <th>min</th>\n",
       "      <td>1.118034e+00</td>\n",
       "      <td>1.000000e+00</td>\n",
       "      <td>2.000000e+00</td>\n",
       "    </tr>\n",
       "    <tr>\n",
       "      <th>25%</th>\n",
       "      <td>2.482680e+01</td>\n",
       "      <td>1.701800e+04</td>\n",
       "      <td>1.780200e+04</td>\n",
       "    </tr>\n",
       "    <tr>\n",
       "      <th>50%</th>\n",
       "      <td>3.519730e+01</td>\n",
       "      <td>3.334600e+04</td>\n",
       "      <td>3.442400e+04</td>\n",
       "    </tr>\n",
       "    <tr>\n",
       "      <th>75%</th>\n",
       "      <td>4.320567e+01</td>\n",
       "      <td>4.972700e+04</td>\n",
       "      <td>5.054800e+04</td>\n",
       "    </tr>\n",
       "    <tr>\n",
       "      <th>max</th>\n",
       "      <td>4.999850e+01</td>\n",
       "      <td>6.553000e+04</td>\n",
       "      <td>6.553400e+04</td>\n",
       "    </tr>\n",
       "  </tbody>\n",
       "</table>\n",
       "</div>"
      ],
      "text/plain": [
       "           distance     cell_id_1     cell_id_2\n",
       "count  2.031574e+06  2.031574e+06  2.031574e+06\n",
       "mean   3.327279e+01  3.332873e+04  3.418804e+04\n",
       "std    1.166505e+01  1.875347e+04  1.879219e+04\n",
       "min    1.118034e+00  1.000000e+00  2.000000e+00\n",
       "25%    2.482680e+01  1.701800e+04  1.780200e+04\n",
       "50%    3.519730e+01  3.334600e+04  3.442400e+04\n",
       "75%    4.320567e+01  4.972700e+04  5.054800e+04\n",
       "max    4.999850e+01  6.553000e+04  6.553400e+04"
      ]
     },
     "execution_count": 384,
     "metadata": {},
     "output_type": "execute_result"
    }
   ],
   "source": [
    "edges.describe()"
   ]
  },
  {
   "cell_type": "markdown",
   "id": "mature-sector",
   "metadata": {},
   "source": [
    "## Edge counting and degree analysis"
   ]
  },
  {
   "cell_type": "markdown",
   "id": "minimal-theta",
   "metadata": {},
   "source": [
    "### Degree per tissue and phenotype"
   ]
  },
  {
   "cell_type": "code",
   "execution_count": 170,
   "id": "upper-essex",
   "metadata": {},
   "outputs": [],
   "source": [
    "edges_data_grouped = edges.groupby(['cell_id_1','tissue_category_2']).agg('count')['cell_id_2'].reset_index()\n",
    "degree_table = pd.pivot_table(edges_data_grouped, values='cell_id_2', index=['cell_id_1'],\n",
    "                    columns=['tissue_category_2'], aggfunc=np.sum)\n",
    "\n",
    "degree_table.columns.name = None\n",
    "degree_table = degree_table.reset_index().rename( columns = {'missing':'missing_degree','tumor':'tumor_degree','stroma':'stroma_degree'})\n",
    "degree_table = degree_table.fillna(0)\n",
    "degree_table['total_degree'] = degree_table.apply(lambda x :  + x.tumor_degree + x.stroma_degree , axis =1)"
   ]
  },
  {
   "cell_type": "code",
   "execution_count": 171,
   "id": "atlantic-tourist",
   "metadata": {},
   "outputs": [],
   "source": [
    "phenotype_grouped = edges.groupby(['cell_id_1','phenotype_2']).agg('count')['cell_id_2'].reset_index()\n",
    "phenotype_degree_table = pd.pivot_table(phenotype_grouped, values='cell_id_2', index=['cell_id_1'],\n",
    "                    columns=['phenotype_2'], aggfunc=np.sum)\n",
    "\n",
    "phenotype_degree_table.columns.name = None\n",
    "phenotype_degree_table = phenotype_degree_table.fillna(0).reset_index()\n",
    "cell_degree_grouped = degree_table.merge(phenotype_degree_table, on = 'cell_id_1', how = 'left')\n",
    "cell_degree_grouped = cell_degree_grouped.rename(columns = {'cell_id_1':'cell_id','B':'B_degree','MISSING':'MISSING_degree','NK':'NK_degree','T':'T_degree',\n",
    "                                                            'dendtritic':'dendtritic_degree','macrophages':'macrophages_degrees','stroma':'stroma_pheno_degree','tumor':'tumor_pheno_degree'\n",
    "                                                           })"
   ]
  },
  {
   "cell_type": "code",
   "execution_count": 172,
   "id": "existing-disclaimer",
   "metadata": {},
   "outputs": [
    {
     "data": {
      "text/html": [
       "<div>\n",
       "<style scoped>\n",
       "    .dataframe tbody tr th:only-of-type {\n",
       "        vertical-align: middle;\n",
       "    }\n",
       "\n",
       "    .dataframe tbody tr th {\n",
       "        vertical-align: top;\n",
       "    }\n",
       "\n",
       "    .dataframe thead th {\n",
       "        text-align: right;\n",
       "    }\n",
       "</style>\n",
       "<table border=\"1\" class=\"dataframe\">\n",
       "  <thead>\n",
       "    <tr style=\"text-align: right;\">\n",
       "      <th></th>\n",
       "      <th>cell_id</th>\n",
       "      <th>missing_degree</th>\n",
       "      <th>stroma_degree</th>\n",
       "      <th>tumor_degree</th>\n",
       "      <th>total_degree</th>\n",
       "      <th>B_degree</th>\n",
       "      <th>MISSING_degree</th>\n",
       "      <th>NK_degree</th>\n",
       "      <th>T_degree</th>\n",
       "      <th>dendtritic_degree</th>\n",
       "      <th>macrophages_degrees</th>\n",
       "      <th>stroma_pheno_degree</th>\n",
       "      <th>tumor_pheno_degree</th>\n",
       "    </tr>\n",
       "  </thead>\n",
       "  <tbody>\n",
       "    <tr>\n",
       "      <th>0</th>\n",
       "      <td>13</td>\n",
       "      <td>0.0</td>\n",
       "      <td>4.0</td>\n",
       "      <td>0.0</td>\n",
       "      <td>4.0</td>\n",
       "      <td>0.0</td>\n",
       "      <td>0.0</td>\n",
       "      <td>0.0</td>\n",
       "      <td>0.0</td>\n",
       "      <td>0.0</td>\n",
       "      <td>0.0</td>\n",
       "      <td>4.0</td>\n",
       "      <td>0.0</td>\n",
       "    </tr>\n",
       "    <tr>\n",
       "      <th>1</th>\n",
       "      <td>254</td>\n",
       "      <td>0.0</td>\n",
       "      <td>0.0</td>\n",
       "      <td>26.0</td>\n",
       "      <td>26.0</td>\n",
       "      <td>0.0</td>\n",
       "      <td>2.0</td>\n",
       "      <td>0.0</td>\n",
       "      <td>0.0</td>\n",
       "      <td>0.0</td>\n",
       "      <td>0.0</td>\n",
       "      <td>2.0</td>\n",
       "      <td>22.0</td>\n",
       "    </tr>\n",
       "    <tr>\n",
       "      <th>2</th>\n",
       "      <td>261</td>\n",
       "      <td>0.0</td>\n",
       "      <td>0.0</td>\n",
       "      <td>34.0</td>\n",
       "      <td>34.0</td>\n",
       "      <td>0.0</td>\n",
       "      <td>2.0</td>\n",
       "      <td>0.0</td>\n",
       "      <td>0.0</td>\n",
       "      <td>0.0</td>\n",
       "      <td>0.0</td>\n",
       "      <td>4.0</td>\n",
       "      <td>28.0</td>\n",
       "    </tr>\n",
       "    <tr>\n",
       "      <th>3</th>\n",
       "      <td>276</td>\n",
       "      <td>0.0</td>\n",
       "      <td>1.0</td>\n",
       "      <td>0.0</td>\n",
       "      <td>1.0</td>\n",
       "      <td>0.0</td>\n",
       "      <td>0.0</td>\n",
       "      <td>0.0</td>\n",
       "      <td>0.0</td>\n",
       "      <td>0.0</td>\n",
       "      <td>0.0</td>\n",
       "      <td>1.0</td>\n",
       "      <td>0.0</td>\n",
       "    </tr>\n",
       "    <tr>\n",
       "      <th>4</th>\n",
       "      <td>278</td>\n",
       "      <td>0.0</td>\n",
       "      <td>1.0</td>\n",
       "      <td>0.0</td>\n",
       "      <td>1.0</td>\n",
       "      <td>0.0</td>\n",
       "      <td>0.0</td>\n",
       "      <td>0.0</td>\n",
       "      <td>0.0</td>\n",
       "      <td>0.0</td>\n",
       "      <td>0.0</td>\n",
       "      <td>1.0</td>\n",
       "      <td>0.0</td>\n",
       "    </tr>\n",
       "  </tbody>\n",
       "</table>\n",
       "</div>"
      ],
      "text/plain": [
       "   cell_id  missing_degree  stroma_degree  tumor_degree  total_degree  \\\n",
       "0       13             0.0            4.0           0.0           4.0   \n",
       "1      254             0.0            0.0          26.0          26.0   \n",
       "2      261             0.0            0.0          34.0          34.0   \n",
       "3      276             0.0            1.0           0.0           1.0   \n",
       "4      278             0.0            1.0           0.0           1.0   \n",
       "\n",
       "   B_degree  MISSING_degree  NK_degree  T_degree  dendtritic_degree  \\\n",
       "0       0.0             0.0        0.0       0.0                0.0   \n",
       "1       0.0             2.0        0.0       0.0                0.0   \n",
       "2       0.0             2.0        0.0       0.0                0.0   \n",
       "3       0.0             0.0        0.0       0.0                0.0   \n",
       "4       0.0             0.0        0.0       0.0                0.0   \n",
       "\n",
       "   macrophages_degrees  stroma_pheno_degree  tumor_pheno_degree  \n",
       "0                  0.0                  4.0                 0.0  \n",
       "1                  0.0                  2.0                22.0  \n",
       "2                  0.0                  4.0                28.0  \n",
       "3                  0.0                  1.0                 0.0  \n",
       "4                  0.0                  1.0                 0.0  "
      ]
     },
     "execution_count": 172,
     "metadata": {},
     "output_type": "execute_result"
    }
   ],
   "source": [
    "cell_degree_grouped.head()"
   ]
  },
  {
   "cell_type": "code",
   "execution_count": 173,
   "id": "minute-brave",
   "metadata": {},
   "outputs": [],
   "source": [
    "nodes = nodes.merge(cell_degree_grouped, on='cell_id',how='left')"
   ]
  },
  {
   "cell_type": "markdown",
   "id": "continent-publicity",
   "metadata": {},
   "source": [
    "## Building the graph"
   ]
  },
  {
   "cell_type": "code",
   "execution_count": 174,
   "id": "voluntary-european",
   "metadata": {},
   "outputs": [
    {
     "name": "stdout",
     "output_type": "stream",
     "text": [
      "Name: \n",
      "Type: Graph\n",
      "Number of nodes: 22123\n",
      "Number of edges: 83287\n",
      "Average degree:   7.5294\n",
      "Graph is not connected\n",
      "Diameter and Avg shortest path length are not defined!\n",
      "Sparsity: 0.0003\n",
      "Global clustering coefficient aka Transitivity: 0.0002\n"
     ]
    }
   ],
   "source": [
    "cell_graph =nx.from_pandas_edgelist(edges, 'cell_id_1', 'cell_id_2', edge_attr=None, create_using= nx.Graph())\n",
    "describe_graph(cell_graph)"
   ]
  },
  {
   "cell_type": "markdown",
   "id": "least-birthday",
   "metadata": {},
   "source": [
    "### Adding singular edges"
   ]
  },
  {
   "cell_type": "markdown",
   "id": "acute-bangkok",
   "metadata": {},
   "source": [
    "### Degree distribution"
   ]
  },
  {
   "cell_type": "code",
   "execution_count": 175,
   "id": "dependent-poison",
   "metadata": {},
   "outputs": [],
   "source": [
    "#plot_degree_distribution(cell_graph,savefig = True, figname = 'Degreed_itribution_bipartite.png' )"
   ]
  },
  {
   "cell_type": "markdown",
   "id": "focal-tenant",
   "metadata": {},
   "source": [
    "### Adding nodes attributes"
   ]
  },
  {
   "cell_type": "code",
   "execution_count": 176,
   "id": "minimal-night",
   "metadata": {},
   "outputs": [],
   "source": [
    "nx.set_node_attributes(cell_graph, nodes['cell_x_position'].to_dict(), 'x_position' )\n",
    "nx.set_node_attributes(cell_graph, nodes['cell_y_position'].to_dict(), 'y_position' )\n",
    "nx.set_node_attributes(cell_graph, nodes['tissue_category'].to_dict(), 'tissue_category' )\n",
    "nx.set_node_attributes(cell_graph, nodes['phenotype'].to_dict(), 'phenotype' )\n",
    "nx.set_node_attributes(cell_graph, nodes['on_border'].to_dict(), 'border' )\n"
   ]
  },
  {
   "cell_type": "code",
   "execution_count": 177,
   "id": "included-objective",
   "metadata": {},
   "outputs": [
    {
     "data": {
      "text/plain": [
       "{'x_position': 19056.4,\n",
       " 'y_position': 38731.5,\n",
       " 'tissue_category': 'tumor',\n",
       " 'phenotype': 'tumor',\n",
       " 'border': True}"
      ]
     },
     "execution_count": 177,
     "metadata": {},
     "output_type": "execute_result"
    }
   ],
   "source": [
    "cell_graph.nodes[35980]"
   ]
  },
  {
   "cell_type": "markdown",
   "id": "rising-piano",
   "metadata": {},
   "source": [
    "### Connected components"
   ]
  },
  {
   "cell_type": "code",
   "execution_count": 178,
   "id": "lined-scene",
   "metadata": {},
   "outputs": [
    {
     "name": "stdout",
     "output_type": "stream",
     "text": [
      "The cell graph contains 124 connected components\n"
     ]
    }
   ],
   "source": [
    "components = list(nx.connected_components(cell_graph))\n",
    "print('The cell graph contains', len(components), 'connected components')"
   ]
  },
  {
   "cell_type": "code",
   "execution_count": 179,
   "id": "assigned-blast",
   "metadata": {},
   "outputs": [
    {
     "name": "stdout",
     "output_type": "stream",
     "text": [
      "The largest component has 2418 nodes accounting for 10.93 % of the nodes\n"
     ]
    }
   ],
   "source": [
    "largest_comp = max(components, key=len)\n",
    "percentage_lcc = len(largest_comp)/cell_graph.number_of_nodes() * 100\n",
    "print('The largest component has', len(largest_comp), 'nodes', 'accounting for %.2f'% percentage_lcc, '% of the nodes')"
   ]
  },
  {
   "cell_type": "markdown",
   "id": "noticed-compact",
   "metadata": {},
   "source": [
    "### Filtering components"
   ]
  },
  {
   "cell_type": "code",
   "execution_count": 180,
   "id": "decimal-smith",
   "metadata": {},
   "outputs": [],
   "source": [
    "MIN_ELEMENTS_PER_CLUSTER = 1\n",
    "components = filtering_components(components, MIN_ELEMENTS_PER_CLUSTER)\n",
    "components = sorted(components, key=len, reverse=False)"
   ]
  },
  {
   "cell_type": "code",
   "execution_count": 181,
   "id": "equivalent-charm",
   "metadata": {},
   "outputs": [
    {
     "data": {
      "text/plain": [
       "124"
      ]
     },
     "execution_count": 181,
     "metadata": {},
     "output_type": "execute_result"
    }
   ],
   "source": [
    "len(components)"
   ]
  },
  {
   "cell_type": "markdown",
   "id": "broke-newman",
   "metadata": {},
   "source": [
    "### Betweeness Centrality T_cells and B_Cells\n",
    "Betweenness centrality of a node 𝑣 is the sum of the fraction of all-pairs shortest paths that pass through 𝑣\n",
    "\n",
    "$c_{B}(v)=\\sum_{s, t \\in V} \\frac{\\sigma(s, t \\mid v)}{\\sigma(s, t)}$"
   ]
  },
  {
   "cell_type": "code",
   "execution_count": 182,
   "id": "established-bunny",
   "metadata": {},
   "outputs": [],
   "source": [
    "t_b_nk_cells = get_subnodes(cell_graph,'phenotype',['T','B','NK','macrophages', 'dendtritic','MISSING'])\n",
    "tumor_cells = get_subnodes(cell_graph,'phenotype',['tumor'])\n",
    "bc = nx.betweenness_centrality_subset(cell_graph, t_b_nk_cells ,tumor_cells)"
   ]
  },
  {
   "cell_type": "code",
   "execution_count": 183,
   "id": "radical-mount",
   "metadata": {},
   "outputs": [],
   "source": [
    "cell_bc_df = pd.DataFrame(bc.items(),columns=['cell_id','betweeness_centrality'])"
   ]
  },
  {
   "cell_type": "code",
   "execution_count": 184,
   "id": "indian-charity",
   "metadata": {},
   "outputs": [
    {
     "data": {
      "text/plain": [
       "22123"
      ]
     },
     "execution_count": 184,
     "metadata": {},
     "output_type": "execute_result"
    }
   ],
   "source": [
    "len(cell_bc_df)"
   ]
  },
  {
   "cell_type": "code",
   "execution_count": 185,
   "id": "considered-apparatus",
   "metadata": {},
   "outputs": [],
   "source": [
    "nodes = nodes.merge(cell_bc_df, on ='cell_id', how='left')"
   ]
  },
  {
   "cell_type": "markdown",
   "id": "precious-embassy",
   "metadata": {},
   "source": [
    "### Clustering coefficient"
   ]
  },
  {
   "cell_type": "markdown",
   "id": "offensive-replication",
   "metadata": {},
   "source": [
    "Compute the clustering coefficient for nodes.\n",
    "For unweighted graphs, the clustering of a node $u$ is the fraction of possible triangles through that node that exist,\n",
    "$$\n",
    "c_{u}=\\frac{2 T(u)}{\\operatorname{deg}(u)(\\operatorname{deg}(u)-1)}\n",
    "$$\n",
    "where $T(u)$ is the number of triangles through node $u$ and $\\operatorname{deg}(u)$ is the degree of $u$."
   ]
  },
  {
   "cell_type": "code",
   "execution_count": 186,
   "id": "municipal-reynolds",
   "metadata": {},
   "outputs": [],
   "source": [
    "#nodes_of_interest = get_subnodes(cell_graph,'phenotype',['T','B','NK','macrophages', 'dendtritic','tumor'])\n",
    "clustering_coef = nx.clustering(cell_graph)"
   ]
  },
  {
   "cell_type": "code",
   "execution_count": 187,
   "id": "requested-investigation",
   "metadata": {},
   "outputs": [],
   "source": [
    "clustering_df =  pd.DataFrame(clustering_coef.items(),columns=['cell_id','clustering_coef'])\n",
    "nodes = nodes.merge(clustering_df, on ='cell_id', how='left')"
   ]
  },
  {
   "cell_type": "markdown",
   "id": "celtic-mixture",
   "metadata": {},
   "source": [
    "## Plotting Betweeness centrality and clustering coefficient"
   ]
  },
  {
   "cell_type": "code",
   "execution_count": 188,
   "id": "electric-narrow",
   "metadata": {},
   "outputs": [],
   "source": [
    "#columns_to_plot = ['betweeness_centrality','clustering_coef','phenotype']\n",
    "#phenotypes = ['T','B','NK']\n",
    "#nodes_to_plot = nodes[columns_to_plot].copy()\n",
    "#nodes_to_plot = nodes_to_plot[nodes_to_plot.phenotype.apply(lambda phenotype: phenotype in phenotypes)]\n",
    "#nodes_to_plot = nodes_to_plot.dropna(axis=0,how='any',subset=['betweeness_centrality'] )\n",
    "#fig = sns.displot(nodes_to_plot, x=\"betweeness_centrality\", hue=\"phenotype\", kind=\"kde\", height =10)\n",
    "#fig.savefig('./plots/density_plot_betweeness.png')"
   ]
  },
  {
   "cell_type": "markdown",
   "id": "derived-robin",
   "metadata": {},
   "source": [
    "We see a positive density for negative values which is weird since the dataframe does not contain any negative value for BC : Dispolt problem from seaborn"
   ]
  },
  {
   "cell_type": "code",
   "execution_count": 189,
   "id": "flying-contrast",
   "metadata": {},
   "outputs": [],
   "source": [
    "#fig = sns.displot(nodes_to_plot, x=\"clustering_coef\", hue=\"phenotype\", kind=\"kde\", height =10)\n",
    "#fig.savefig('./plots/density_plot_clustering coefficient.png') "
   ]
  },
  {
   "cell_type": "markdown",
   "id": "excited-conservative",
   "metadata": {},
   "source": [
    "### Describe graph"
   ]
  },
  {
   "cell_type": "code",
   "execution_count": 190,
   "id": "appropriate-degree",
   "metadata": {},
   "outputs": [],
   "source": [
    "subgraphs = [cell_graph.subgraph(c).copy() for c in components]"
   ]
  },
  {
   "cell_type": "code",
   "execution_count": 191,
   "id": "anticipated-nylon",
   "metadata": {},
   "outputs": [],
   "source": [
    "#for index, component in enumerate(subgraphs):\n",
    "#    print('Component number :', index)\n",
    "#    print(nx.info(component))"
   ]
  },
  {
   "cell_type": "code",
   "execution_count": 192,
   "id": "spoken-reverse",
   "metadata": {},
   "outputs": [],
   "source": [
    "map_to_component = {}\n",
    "\n",
    "for index, component in enumerate(components) :\n",
    "    \n",
    "    elements_component = list(component)\n",
    "    for element in elements_component:\n",
    "        \n",
    "        map_to_component[element] = index\n",
    "\n",
    "    "
   ]
  },
  {
   "cell_type": "code",
   "execution_count": 193,
   "id": "incident-faculty",
   "metadata": {},
   "outputs": [],
   "source": [
    "nodes['component'] = nodes.reset_index()['cell_id'].apply(lambda x: map_to_component[x]if x in map_to_component.keys() else '')"
   ]
  },
  {
   "cell_type": "code",
   "execution_count": 194,
   "id": "packed-novel",
   "metadata": {},
   "outputs": [],
   "source": [
    "edges['component'] = edges.cell_id_1.apply(lambda x: map_to_component[x] if x in map_to_component.keys() else '')"
   ]
  },
  {
   "cell_type": "markdown",
   "id": "extensive-birmingham",
   "metadata": {},
   "source": [
    "## Counting edges per component"
   ]
  },
  {
   "cell_type": "code",
   "execution_count": 195,
   "id": "above-profile",
   "metadata": {},
   "outputs": [],
   "source": [
    "edge_phenotype_count = edges.groupby(['component','phenotype_1','phenotype_2']).agg('count')[['cell_id_1']].reset_index().rename(columns = {'cell_id_1':'edge_count'})"
   ]
  },
  {
   "cell_type": "code",
   "execution_count": 196,
   "id": "figured-sullivan",
   "metadata": {},
   "outputs": [],
   "source": [
    "edge_phenotype_count['edge_type'] = edge_phenotype_count.apply(lambda row : order_phenotypes(row.phenotype_1,row.phenotype_2), axis=1)"
   ]
  },
  {
   "cell_type": "code",
   "execution_count": 197,
   "id": "abstract-fundamentals",
   "metadata": {},
   "outputs": [],
   "source": [
    "edge_phenotype_count = edge_phenotype_count[['component','edge_count','edge_type']]"
   ]
  },
  {
   "cell_type": "code",
   "execution_count": 198,
   "id": "elect-miller",
   "metadata": {},
   "outputs": [],
   "source": [
    "edge_phenotype_count_pivotted = pd.pivot_table(edge_phenotype_count, values='edge_count', index=['component'],\n",
    "                    columns=['edge_type'], aggfunc=np.sum)\n",
    "edge_phenotype_count_pivotted.columns.name = None\n",
    "edge_phenotype_count_pivotted = edge_phenotype_count_pivotted.reset_index()\n",
    "edge_phenotype_count_pivotted = edge_phenotype_count_pivotted.fillna(0)"
   ]
  },
  {
   "cell_type": "code",
   "execution_count": 199,
   "id": "identified-asbestos",
   "metadata": {},
   "outputs": [],
   "source": [
    "columns_of_interest = ['component','tumor-B', 'tumor-MISSING', 'tumor-NK', 'tumor-T', 'tumor-dendtritic', 'tumor-macrophages','tumor-stroma']"
   ]
  },
  {
   "cell_type": "code",
   "execution_count": 200,
   "id": "inappropriate-frame",
   "metadata": {},
   "outputs": [],
   "source": [
    "edges_of_interest = edge_phenotype_count_pivotted[columns_of_interest]"
   ]
  },
  {
   "cell_type": "code",
   "execution_count": 201,
   "id": "internal-student",
   "metadata": {},
   "outputs": [
    {
     "data": {
      "text/html": [
       "<div>\n",
       "<style scoped>\n",
       "    .dataframe tbody tr th:only-of-type {\n",
       "        vertical-align: middle;\n",
       "    }\n",
       "\n",
       "    .dataframe tbody tr th {\n",
       "        vertical-align: top;\n",
       "    }\n",
       "\n",
       "    .dataframe thead th {\n",
       "        text-align: right;\n",
       "    }\n",
       "</style>\n",
       "<table border=\"1\" class=\"dataframe\">\n",
       "  <thead>\n",
       "    <tr style=\"text-align: right;\">\n",
       "      <th></th>\n",
       "      <th>component</th>\n",
       "      <th>tumor-B</th>\n",
       "      <th>tumor-MISSING</th>\n",
       "      <th>tumor-NK</th>\n",
       "      <th>tumor-T</th>\n",
       "      <th>tumor-dendtritic</th>\n",
       "      <th>tumor-macrophages</th>\n",
       "      <th>tumor-stroma</th>\n",
       "    </tr>\n",
       "  </thead>\n",
       "  <tbody>\n",
       "    <tr>\n",
       "      <th>0</th>\n",
       "      <td>0</td>\n",
       "      <td>0.0</td>\n",
       "      <td>0.0</td>\n",
       "      <td>0.0</td>\n",
       "      <td>0.0</td>\n",
       "      <td>0.0</td>\n",
       "      <td>0.0</td>\n",
       "      <td>0.0</td>\n",
       "    </tr>\n",
       "    <tr>\n",
       "      <th>1</th>\n",
       "      <td>1</td>\n",
       "      <td>0.0</td>\n",
       "      <td>0.0</td>\n",
       "      <td>0.0</td>\n",
       "      <td>0.0</td>\n",
       "      <td>0.0</td>\n",
       "      <td>0.0</td>\n",
       "      <td>0.0</td>\n",
       "    </tr>\n",
       "    <tr>\n",
       "      <th>2</th>\n",
       "      <td>2</td>\n",
       "      <td>0.0</td>\n",
       "      <td>0.0</td>\n",
       "      <td>0.0</td>\n",
       "      <td>0.0</td>\n",
       "      <td>0.0</td>\n",
       "      <td>0.0</td>\n",
       "      <td>0.0</td>\n",
       "    </tr>\n",
       "    <tr>\n",
       "      <th>3</th>\n",
       "      <td>3</td>\n",
       "      <td>0.0</td>\n",
       "      <td>0.0</td>\n",
       "      <td>0.0</td>\n",
       "      <td>0.0</td>\n",
       "      <td>0.0</td>\n",
       "      <td>0.0</td>\n",
       "      <td>0.0</td>\n",
       "    </tr>\n",
       "    <tr>\n",
       "      <th>4</th>\n",
       "      <td>4</td>\n",
       "      <td>0.0</td>\n",
       "      <td>0.0</td>\n",
       "      <td>0.0</td>\n",
       "      <td>0.0</td>\n",
       "      <td>0.0</td>\n",
       "      <td>0.0</td>\n",
       "      <td>0.0</td>\n",
       "    </tr>\n",
       "  </tbody>\n",
       "</table>\n",
       "</div>"
      ],
      "text/plain": [
       "   component  tumor-B  tumor-MISSING  tumor-NK  tumor-T  tumor-dendtritic  \\\n",
       "0          0      0.0            0.0       0.0      0.0               0.0   \n",
       "1          1      0.0            0.0       0.0      0.0               0.0   \n",
       "2          2      0.0            0.0       0.0      0.0               0.0   \n",
       "3          3      0.0            0.0       0.0      0.0               0.0   \n",
       "4          4      0.0            0.0       0.0      0.0               0.0   \n",
       "\n",
       "   tumor-macrophages  tumor-stroma  \n",
       "0                0.0           0.0  \n",
       "1                0.0           0.0  \n",
       "2                0.0           0.0  \n",
       "3                0.0           0.0  \n",
       "4                0.0           0.0  "
      ]
     },
     "execution_count": 201,
     "metadata": {},
     "output_type": "execute_result"
    }
   ],
   "source": [
    "edges_of_interest.head()"
   ]
  },
  {
   "cell_type": "code",
   "execution_count": 202,
   "id": "better-world",
   "metadata": {},
   "outputs": [],
   "source": [
    "#plot_relplot(edges_of_interest,'component','tumor-T','Reds','The of T-tumor edges across components',True)\n",
    "#plot_relplot(edges_of_interest,'component','tumor-B','Reds','The of B-tumor edges across components',True)\n",
    "#plot_relplot(edges_of_interest,'component','tumor-NK','Reds','The of NK-tumor edges across components',True)"
   ]
  },
  {
   "cell_type": "markdown",
   "id": "vital-savannah",
   "metadata": {},
   "source": [
    "We can merge the total information about edge counting but here we will restric only to tumor vs (T, B, NK,..)"
   ]
  },
  {
   "cell_type": "code",
   "execution_count": 203,
   "id": "ecological-comparison",
   "metadata": {},
   "outputs": [],
   "source": [
    "nodes = nodes.merge(edges_of_interest, on='component',how='left')"
   ]
  },
  {
   "cell_type": "code",
   "execution_count": 204,
   "id": "incorrect-feeding",
   "metadata": {},
   "outputs": [],
   "source": [
    "nodes = nodes.fillna(0)"
   ]
  },
  {
   "cell_type": "markdown",
   "id": "lucky-saturn",
   "metadata": {},
   "source": [
    "## Plotting nodes"
   ]
  },
  {
   "cell_type": "markdown",
   "id": "eight-capacity",
   "metadata": {},
   "source": [
    "### Differentiating components"
   ]
  },
  {
   "cell_type": "code",
   "execution_count": 205,
   "id": "distant-disaster",
   "metadata": {},
   "outputs": [],
   "source": [
    "#vis_nodes = nodes[nodes.phenotype != 'stroma']\n",
    "#fig, ax = plt.subplots(figsize = (30,15))\n",
    "#sns.scatterplot(data = vis_nodes , x='cell_x_position', y= 'cell_y_position', hue = 'component').get_figure().savefig('./plots/scatter_component_no_stroma.png')"
   ]
  },
  {
   "cell_type": "markdown",
   "id": "searching-pizza",
   "metadata": {},
   "source": [
    "### Differentiating Tissue"
   ]
  },
  {
   "cell_type": "code",
   "execution_count": 206,
   "id": "extreme-projector",
   "metadata": {},
   "outputs": [],
   "source": [
    "#vis_nodes = nodes[(nodes.phenotype != 'stroma') & (nodes.phenotype != 'tumor') & (nodes.phenotype != 'MISSING') ]\n",
    "#fig, ax = plt.subplots(figsize = (30,15))\n",
    "#sns.scatterplot(data = vis_nodes , x='cell_x_position', y= 'cell_y_position', hue = 'component', cmap =sns.color_palette(\"tab10\")).get_figure().savefig('./plots/scatter_only_components.png')"
   ]
  },
  {
   "cell_type": "code",
   "execution_count": 207,
   "id": "perceived-strength",
   "metadata": {},
   "outputs": [],
   "source": [
    "#vis_nodes = nodes[(nodes.phenotype != 'stroma') & (nodes.phenotype != 'tumor') & (nodes.phenotype != 'MISSING') ]\n",
    "#fig, ax = plt.subplots(figsize = (30,15))\n",
    "#sns.scatterplot(data = vis_nodes , x='cell_x_position', y= 'cell_y_position', hue = 'phenotype',\n",
    "                #cmap =sns.color_palette(\"tab10\")).get_figure().savefig('./plots/scatter_phenotype_no_stroma_no_tumor.png')"
   ]
  },
  {
   "cell_type": "markdown",
   "id": "jewish-winner",
   "metadata": {},
   "source": [
    "## plotting component graphs"
   ]
  },
  {
   "cell_type": "code",
   "execution_count": 208,
   "id": "indie-range",
   "metadata": {},
   "outputs": [],
   "source": [
    "MIN_NUMBER_PER__COMPONENT = 1\n",
    "COMPONENT_NUM = 40\n",
    "REMOVE_STROMA = True\n",
    "BIPARTITE = False\n",
    "SAVE_FIG = True\n",
    "FIG_NAME ='component_40_without_stroma'"
   ]
  },
  {
   "cell_type": "code",
   "execution_count": 209,
   "id": "collect-evans",
   "metadata": {},
   "outputs": [],
   "source": [
    "#plot_component(cell_graph,MIN_NUMBER_PER__COMPONENT,COMPONENT_NUM,\n",
    "#              remove_stroma =REMOVE_STROMA,bipartite =BIPARTITE,\n",
    "#               savefig=SAVE_FIG, figname=FIG_NAME)"
   ]
  },
  {
   "cell_type": "markdown",
   "id": "detected-linux",
   "metadata": {},
   "source": [
    "## Component analysis"
   ]
  },
  {
   "cell_type": "markdown",
   "id": "recovered-globe",
   "metadata": {},
   "source": [
    "Since it is a bipartite graph, we are only considering the border"
   ]
  },
  {
   "cell_type": "markdown",
   "id": "drawn-being",
   "metadata": {},
   "source": [
    "### Size"
   ]
  },
  {
   "cell_type": "code",
   "execution_count": 210,
   "id": "standing-approval",
   "metadata": {},
   "outputs": [],
   "source": [
    "size_df = nodes.groupby('component').agg('count').sort_values('cell_id')['cell_id'].reset_index().rename(columns = {'cell_id':'size'})"
   ]
  },
  {
   "cell_type": "code",
   "execution_count": 211,
   "id": "accessible-creature",
   "metadata": {},
   "outputs": [],
   "source": [
    "nodes = nodes.merge(size_df, on = 'component', how ='left') "
   ]
  },
  {
   "cell_type": "code",
   "execution_count": 212,
   "id": "continuous-calendar",
   "metadata": {},
   "outputs": [
    {
     "data": {
      "text/html": [
       "<div>\n",
       "<style scoped>\n",
       "    .dataframe tbody tr th:only-of-type {\n",
       "        vertical-align: middle;\n",
       "    }\n",
       "\n",
       "    .dataframe tbody tr th {\n",
       "        vertical-align: top;\n",
       "    }\n",
       "\n",
       "    .dataframe thead th {\n",
       "        text-align: right;\n",
       "    }\n",
       "</style>\n",
       "<table border=\"1\" class=\"dataframe\">\n",
       "  <thead>\n",
       "    <tr style=\"text-align: right;\">\n",
       "      <th></th>\n",
       "      <th>cell_id</th>\n",
       "      <th>cell_x_position</th>\n",
       "      <th>cell_y_position</th>\n",
       "      <th>tissue_category</th>\n",
       "      <th>phenotype</th>\n",
       "      <th>on_border</th>\n",
       "      <th>missing_degree</th>\n",
       "      <th>stroma_degree</th>\n",
       "      <th>tumor_degree</th>\n",
       "      <th>total_degree</th>\n",
       "      <th>...</th>\n",
       "      <th>clustering_coef</th>\n",
       "      <th>component</th>\n",
       "      <th>tumor-B</th>\n",
       "      <th>tumor-MISSING</th>\n",
       "      <th>tumor-NK</th>\n",
       "      <th>tumor-T</th>\n",
       "      <th>tumor-dendtritic</th>\n",
       "      <th>tumor-macrophages</th>\n",
       "      <th>tumor-stroma</th>\n",
       "      <th>size</th>\n",
       "    </tr>\n",
       "  </thead>\n",
       "  <tbody>\n",
       "    <tr>\n",
       "      <th>0</th>\n",
       "      <td>1</td>\n",
       "      <td>14040.7</td>\n",
       "      <td>37383.4</td>\n",
       "      <td>stroma</td>\n",
       "      <td>stroma</td>\n",
       "      <td>False</td>\n",
       "      <td>0.0</td>\n",
       "      <td>0.0</td>\n",
       "      <td>0.0</td>\n",
       "      <td>0.0</td>\n",
       "      <td>...</td>\n",
       "      <td>0.0</td>\n",
       "      <td></td>\n",
       "      <td>0.0</td>\n",
       "      <td>0.0</td>\n",
       "      <td>0.0</td>\n",
       "      <td>0.0</td>\n",
       "      <td>0.0</td>\n",
       "      <td>0.0</td>\n",
       "      <td>0.0</td>\n",
       "      <td>43411</td>\n",
       "    </tr>\n",
       "    <tr>\n",
       "      <th>1</th>\n",
       "      <td>2</td>\n",
       "      <td>14049.6</td>\n",
       "      <td>37381.9</td>\n",
       "      <td>stroma</td>\n",
       "      <td>MISSING</td>\n",
       "      <td>False</td>\n",
       "      <td>0.0</td>\n",
       "      <td>0.0</td>\n",
       "      <td>0.0</td>\n",
       "      <td>0.0</td>\n",
       "      <td>...</td>\n",
       "      <td>0.0</td>\n",
       "      <td></td>\n",
       "      <td>0.0</td>\n",
       "      <td>0.0</td>\n",
       "      <td>0.0</td>\n",
       "      <td>0.0</td>\n",
       "      <td>0.0</td>\n",
       "      <td>0.0</td>\n",
       "      <td>0.0</td>\n",
       "      <td>43411</td>\n",
       "    </tr>\n",
       "    <tr>\n",
       "      <th>2</th>\n",
       "      <td>3</td>\n",
       "      <td>14056.5</td>\n",
       "      <td>37381.9</td>\n",
       "      <td>stroma</td>\n",
       "      <td>MISSING</td>\n",
       "      <td>False</td>\n",
       "      <td>0.0</td>\n",
       "      <td>0.0</td>\n",
       "      <td>0.0</td>\n",
       "      <td>0.0</td>\n",
       "      <td>...</td>\n",
       "      <td>0.0</td>\n",
       "      <td></td>\n",
       "      <td>0.0</td>\n",
       "      <td>0.0</td>\n",
       "      <td>0.0</td>\n",
       "      <td>0.0</td>\n",
       "      <td>0.0</td>\n",
       "      <td>0.0</td>\n",
       "      <td>0.0</td>\n",
       "      <td>43411</td>\n",
       "    </tr>\n",
       "  </tbody>\n",
       "</table>\n",
       "<p>3 rows × 29 columns</p>\n",
       "</div>"
      ],
      "text/plain": [
       "   cell_id  cell_x_position  cell_y_position tissue_category phenotype  \\\n",
       "0        1          14040.7          37383.4          stroma    stroma   \n",
       "1        2          14049.6          37381.9          stroma   MISSING   \n",
       "2        3          14056.5          37381.9          stroma   MISSING   \n",
       "\n",
       "   on_border  missing_degree  stroma_degree  tumor_degree  total_degree  ...  \\\n",
       "0      False             0.0            0.0           0.0           0.0  ...   \n",
       "1      False             0.0            0.0           0.0           0.0  ...   \n",
       "2      False             0.0            0.0           0.0           0.0  ...   \n",
       "\n",
       "   clustering_coef  component  tumor-B  tumor-MISSING  tumor-NK  tumor-T  \\\n",
       "0              0.0                 0.0            0.0       0.0      0.0   \n",
       "1              0.0                 0.0            0.0       0.0      0.0   \n",
       "2              0.0                 0.0            0.0       0.0      0.0   \n",
       "\n",
       "   tumor-dendtritic  tumor-macrophages  tumor-stroma   size  \n",
       "0               0.0                0.0           0.0  43411  \n",
       "1               0.0                0.0           0.0  43411  \n",
       "2               0.0                0.0           0.0  43411  \n",
       "\n",
       "[3 rows x 29 columns]"
      ]
     },
     "execution_count": 212,
     "metadata": {},
     "output_type": "execute_result"
    }
   ],
   "source": [
    "nodes.head(3)"
   ]
  },
  {
   "cell_type": "markdown",
   "id": "accessory-possession",
   "metadata": {},
   "source": [
    "## Density analysis per component"
   ]
  },
  {
   "cell_type": "code",
   "execution_count": 213,
   "id": "fifth-gasoline",
   "metadata": {},
   "outputs": [],
   "source": [
    "phenotype_component_grouped = pd.DataFrame(nodes.groupby(['component','phenotype']).agg('count')['cell_id']).reset_index()"
   ]
  },
  {
   "cell_type": "code",
   "execution_count": 214,
   "id": "applied-archive",
   "metadata": {},
   "outputs": [
    {
     "data": {
      "text/html": [
       "<div>\n",
       "<style scoped>\n",
       "    .dataframe tbody tr th:only-of-type {\n",
       "        vertical-align: middle;\n",
       "    }\n",
       "\n",
       "    .dataframe tbody tr th {\n",
       "        vertical-align: top;\n",
       "    }\n",
       "\n",
       "    .dataframe thead th {\n",
       "        text-align: right;\n",
       "    }\n",
       "</style>\n",
       "<table border=\"1\" class=\"dataframe\">\n",
       "  <thead>\n",
       "    <tr style=\"text-align: right;\">\n",
       "      <th></th>\n",
       "      <th>component</th>\n",
       "      <th>phenotype</th>\n",
       "      <th>cell_id</th>\n",
       "    </tr>\n",
       "  </thead>\n",
       "  <tbody>\n",
       "    <tr>\n",
       "      <th>0</th>\n",
       "      <td>0</td>\n",
       "      <td>stroma</td>\n",
       "      <td>2</td>\n",
       "    </tr>\n",
       "    <tr>\n",
       "      <th>1</th>\n",
       "      <td>1</td>\n",
       "      <td>stroma</td>\n",
       "      <td>2</td>\n",
       "    </tr>\n",
       "    <tr>\n",
       "      <th>2</th>\n",
       "      <td>2</td>\n",
       "      <td>stroma</td>\n",
       "      <td>2</td>\n",
       "    </tr>\n",
       "  </tbody>\n",
       "</table>\n",
       "</div>"
      ],
      "text/plain": [
       "  component phenotype  cell_id\n",
       "0         0    stroma        2\n",
       "1         1    stroma        2\n",
       "2         2    stroma        2"
      ]
     },
     "execution_count": 214,
     "metadata": {},
     "output_type": "execute_result"
    }
   ],
   "source": [
    "phenotype_component_grouped.head(3)"
   ]
  },
  {
   "cell_type": "code",
   "execution_count": 215,
   "id": "sized-miller",
   "metadata": {},
   "outputs": [],
   "source": [
    "phenotype_component_pivotted = pd.pivot_table(phenotype_component_grouped, values='cell_id', index=['component'],\n",
    "                    columns=['phenotype'], aggfunc=np.sum)\n",
    "\n",
    "phenotype_component_pivotted.columns.name = None\n",
    "\n",
    "phenotype_component_pivotted = phenotype_component_pivotted.fillna(0).sort_values(['T']).reset_index()"
   ]
  },
  {
   "cell_type": "code",
   "execution_count": 216,
   "id": "shared-judge",
   "metadata": {},
   "outputs": [
    {
     "data": {
      "text/html": [
       "<div>\n",
       "<style scoped>\n",
       "    .dataframe tbody tr th:only-of-type {\n",
       "        vertical-align: middle;\n",
       "    }\n",
       "\n",
       "    .dataframe tbody tr th {\n",
       "        vertical-align: top;\n",
       "    }\n",
       "\n",
       "    .dataframe thead th {\n",
       "        text-align: right;\n",
       "    }\n",
       "</style>\n",
       "<table border=\"1\" class=\"dataframe\">\n",
       "  <thead>\n",
       "    <tr style=\"text-align: right;\">\n",
       "      <th></th>\n",
       "      <th>component</th>\n",
       "      <th>B</th>\n",
       "      <th>MISSING</th>\n",
       "      <th>NK</th>\n",
       "      <th>T</th>\n",
       "      <th>dendtritic</th>\n",
       "      <th>macrophages</th>\n",
       "      <th>stroma</th>\n",
       "      <th>tumor</th>\n",
       "    </tr>\n",
       "  </thead>\n",
       "  <tbody>\n",
       "    <tr>\n",
       "      <th>0</th>\n",
       "      <td>0</td>\n",
       "      <td>0.0</td>\n",
       "      <td>0.0</td>\n",
       "      <td>0.0</td>\n",
       "      <td>0.0</td>\n",
       "      <td>0.0</td>\n",
       "      <td>0.0</td>\n",
       "      <td>2.0</td>\n",
       "      <td>0.0</td>\n",
       "    </tr>\n",
       "    <tr>\n",
       "      <th>1</th>\n",
       "      <td>53</td>\n",
       "      <td>0.0</td>\n",
       "      <td>1.0</td>\n",
       "      <td>0.0</td>\n",
       "      <td>0.0</td>\n",
       "      <td>0.0</td>\n",
       "      <td>0.0</td>\n",
       "      <td>20.0</td>\n",
       "      <td>55.0</td>\n",
       "    </tr>\n",
       "    <tr>\n",
       "      <th>2</th>\n",
       "      <td>52</td>\n",
       "      <td>0.0</td>\n",
       "      <td>0.0</td>\n",
       "      <td>0.0</td>\n",
       "      <td>0.0</td>\n",
       "      <td>0.0</td>\n",
       "      <td>1.0</td>\n",
       "      <td>5.0</td>\n",
       "      <td>69.0</td>\n",
       "    </tr>\n",
       "    <tr>\n",
       "      <th>3</th>\n",
       "      <td>93</td>\n",
       "      <td>0.0</td>\n",
       "      <td>1.0</td>\n",
       "      <td>0.0</td>\n",
       "      <td>0.0</td>\n",
       "      <td>0.0</td>\n",
       "      <td>0.0</td>\n",
       "      <td>31.0</td>\n",
       "      <td>118.0</td>\n",
       "    </tr>\n",
       "    <tr>\n",
       "      <th>4</th>\n",
       "      <td>50</td>\n",
       "      <td>0.0</td>\n",
       "      <td>3.0</td>\n",
       "      <td>0.0</td>\n",
       "      <td>0.0</td>\n",
       "      <td>0.0</td>\n",
       "      <td>0.0</td>\n",
       "      <td>28.0</td>\n",
       "      <td>43.0</td>\n",
       "    </tr>\n",
       "  </tbody>\n",
       "</table>\n",
       "</div>"
      ],
      "text/plain": [
       "  component    B  MISSING   NK    T  dendtritic  macrophages  stroma  tumor\n",
       "0         0  0.0      0.0  0.0  0.0         0.0          0.0     2.0    0.0\n",
       "1        53  0.0      1.0  0.0  0.0         0.0          0.0    20.0   55.0\n",
       "2        52  0.0      0.0  0.0  0.0         0.0          1.0     5.0   69.0\n",
       "3        93  0.0      1.0  0.0  0.0         0.0          0.0    31.0  118.0\n",
       "4        50  0.0      3.0  0.0  0.0         0.0          0.0    28.0   43.0"
      ]
     },
     "execution_count": 216,
     "metadata": {},
     "output_type": "execute_result"
    }
   ],
   "source": [
    "phenotype_component_pivotted.head(5)"
   ]
  },
  {
   "cell_type": "code",
   "execution_count": 217,
   "id": "greek-bargain",
   "metadata": {},
   "outputs": [],
   "source": [
    "#phenotype_component_pivotted_copy = phenotype_component_pivotted[phenotype_component_pivotted.component!='']\n",
    "#plot_relplot(phenotype_component_pivotted_copy,'component','tumor','Reds','The number of tumorous cells per component',True)\n",
    "#plot_relplot(phenotype_component_pivotted_copy,'component','T','Reds','The number of T cells per component',True)\n",
    "#plot_relplot(phenotype_component_pivotted_copy,'component','B','Reds','The number of B cells per component',True)\n",
    "#plot_relplot(phenotype_component_pivotted_copy,'component','NK','Reds','The number of NK cells per component',True)\n"
   ]
  },
  {
   "cell_type": "code",
   "execution_count": 218,
   "id": "entertaining-lecture",
   "metadata": {},
   "outputs": [],
   "source": [
    "phenotype_component_pivotted = phenotype_component_pivotted.merge(size_df, on='component',how='left')"
   ]
  },
  {
   "cell_type": "markdown",
   "id": "hindu-communist",
   "metadata": {},
   "source": [
    "The cells that are not associated to a component are out of border cells which means that they interacts only with similar tissue type cells : ***Stroma-Stroma / Tumor-Tumor***\n",
    "\n",
    "We can use this component as a baseline, and compare the density of T_Cells/ B_Cells in each component in the border.\n",
    "\n",
    "We will consider two types of densities, density subject to the total number of cells and density subject to tumorous cells"
   ]
  },
  {
   "cell_type": "code",
   "execution_count": 219,
   "id": "exclusive-motor",
   "metadata": {},
   "outputs": [],
   "source": [
    "phenotype_component_pivotted = phenotype_component_pivotted[phenotype_component_pivotted.tumor != 0 ].copy()"
   ]
  },
  {
   "cell_type": "code",
   "execution_count": 220,
   "id": "honey-playlist",
   "metadata": {},
   "outputs": [],
   "source": [
    "phenotype_component_pivotted['T_tumor_density'] = phenotype_component_pivotted['T']/phenotype_component_pivotted['tumor']\n",
    "phenotype_component_pivotted['B_tumor_density'] = phenotype_component_pivotted['B']/phenotype_component_pivotted['tumor']\n",
    "phenotype_component_pivotted['NK_tumor_density'] = phenotype_component_pivotted['NK']/phenotype_component_pivotted['tumor']\n",
    "phenotype_component_pivotted['stroma_tumor_density'] = phenotype_component_pivotted['stroma']/phenotype_component_pivotted['tumor']\n",
    "phenotype_component_pivotted['T_density'] = phenotype_component_pivotted['T']/phenotype_component_pivotted['size']\n",
    "phenotype_component_pivotted['B_density'] = phenotype_component_pivotted['B']/phenotype_component_pivotted['size']\n",
    "phenotype_component_pivotted['NK_density'] = phenotype_component_pivotted['NK']/phenotype_component_pivotted['size']\n",
    "phenotype_component_pivotted['dendtritic_density'] = phenotype_component_pivotted['dendtritic']/phenotype_component_pivotted['size']\n",
    "phenotype_component_pivotted['macrophages_density'] = phenotype_component_pivotted['macrophages']/phenotype_component_pivotted['size']\n"
   ]
  },
  {
   "cell_type": "code",
   "execution_count": 221,
   "id": "working-architecture",
   "metadata": {},
   "outputs": [],
   "source": [
    "#plot_relplot(phenotype_component_pivotted_copy,'component','T_tumor_density','Reds','T cells density over Tumor cells',True)\n",
    "#plot_relplot(phenotype_component_pivotted_copy,'component','B_tumor_density','Reds','B cells density over Tumor cells',True)\n",
    "#plot_relplot(phenotype_component_pivotted_copy,'component','NK_tumor_density','Reds','NK cells density over Tumor cells',True)"
   ]
  },
  {
   "cell_type": "code",
   "execution_count": 222,
   "id": "human-opportunity",
   "metadata": {},
   "outputs": [
    {
     "data": {
      "image/png": "[encoded data removed]",
      "text/plain": [
       "<Figure size 1080x504 with 1 Axes>"
      ]
     },
     "metadata": {
      "needs_background": "light"
     },
     "output_type": "display_data"
    }
   ],
   "source": [
    "phenotype_component_pivotted_copy = phenotype_component_pivotted[phenotype_component_pivotted.component!='']\n",
    "\n",
    "scatter_plot(phenotype_component_pivotted_copy, 'T','tumor',title ='Tumor vs T per component',savefig=False)"
   ]
  },
  {
   "cell_type": "code",
   "execution_count": 223,
   "id": "manufactured-hello",
   "metadata": {},
   "outputs": [
    {
     "data": {
      "text/html": [
       "<div>\n",
       "<style scoped>\n",
       "    .dataframe tbody tr th:only-of-type {\n",
       "        vertical-align: middle;\n",
       "    }\n",
       "\n",
       "    .dataframe tbody tr th {\n",
       "        vertical-align: top;\n",
       "    }\n",
       "\n",
       "    .dataframe thead th {\n",
       "        text-align: right;\n",
       "    }\n",
       "</style>\n",
       "<table border=\"1\" class=\"dataframe\">\n",
       "  <thead>\n",
       "    <tr style=\"text-align: right;\">\n",
       "      <th></th>\n",
       "      <th>component</th>\n",
       "      <th>B</th>\n",
       "      <th>MISSING</th>\n",
       "      <th>NK</th>\n",
       "      <th>T</th>\n",
       "      <th>dendtritic</th>\n",
       "      <th>macrophages</th>\n",
       "      <th>stroma</th>\n",
       "      <th>tumor</th>\n",
       "      <th>size</th>\n",
       "      <th>T_tumor_density</th>\n",
       "      <th>B_tumor_density</th>\n",
       "      <th>NK_tumor_density</th>\n",
       "      <th>stroma_tumor_density</th>\n",
       "      <th>T_density</th>\n",
       "      <th>B_density</th>\n",
       "      <th>NK_density</th>\n",
       "      <th>dendtritic_density</th>\n",
       "      <th>macrophages_density</th>\n",
       "    </tr>\n",
       "  </thead>\n",
       "  <tbody>\n",
       "    <tr>\n",
       "      <th>1</th>\n",
       "      <td>53</td>\n",
       "      <td>0.0</td>\n",
       "      <td>1.0</td>\n",
       "      <td>0.0</td>\n",
       "      <td>0.0</td>\n",
       "      <td>0.0</td>\n",
       "      <td>0.0</td>\n",
       "      <td>20.0</td>\n",
       "      <td>55.0</td>\n",
       "      <td>76</td>\n",
       "      <td>0.0</td>\n",
       "      <td>0.0</td>\n",
       "      <td>0.0</td>\n",
       "      <td>0.363636</td>\n",
       "      <td>0.0</td>\n",
       "      <td>0.0</td>\n",
       "      <td>0.0</td>\n",
       "      <td>0.0</td>\n",
       "      <td>0.000000</td>\n",
       "    </tr>\n",
       "    <tr>\n",
       "      <th>2</th>\n",
       "      <td>52</td>\n",
       "      <td>0.0</td>\n",
       "      <td>0.0</td>\n",
       "      <td>0.0</td>\n",
       "      <td>0.0</td>\n",
       "      <td>0.0</td>\n",
       "      <td>1.0</td>\n",
       "      <td>5.0</td>\n",
       "      <td>69.0</td>\n",
       "      <td>75</td>\n",
       "      <td>0.0</td>\n",
       "      <td>0.0</td>\n",
       "      <td>0.0</td>\n",
       "      <td>0.072464</td>\n",
       "      <td>0.0</td>\n",
       "      <td>0.0</td>\n",
       "      <td>0.0</td>\n",
       "      <td>0.0</td>\n",
       "      <td>0.013333</td>\n",
       "    </tr>\n",
       "  </tbody>\n",
       "</table>\n",
       "</div>"
      ],
      "text/plain": [
       "  component    B  MISSING   NK    T  dendtritic  macrophages  stroma  tumor  \\\n",
       "1        53  0.0      1.0  0.0  0.0         0.0          0.0    20.0   55.0   \n",
       "2        52  0.0      0.0  0.0  0.0         0.0          1.0     5.0   69.0   \n",
       "\n",
       "   size  T_tumor_density  B_tumor_density  NK_tumor_density  \\\n",
       "1    76              0.0              0.0               0.0   \n",
       "2    75              0.0              0.0               0.0   \n",
       "\n",
       "   stroma_tumor_density  T_density  B_density  NK_density  dendtritic_density  \\\n",
       "1              0.363636        0.0        0.0         0.0                 0.0   \n",
       "2              0.072464        0.0        0.0         0.0                 0.0   \n",
       "\n",
       "   macrophages_density  \n",
       "1             0.000000  \n",
       "2             0.013333  "
      ]
     },
     "execution_count": 223,
     "metadata": {},
     "output_type": "execute_result"
    }
   ],
   "source": [
    "phenotype_component_pivotted.head(2)"
   ]
  },
  {
   "cell_type": "code",
   "execution_count": 224,
   "id": "military-atlas",
   "metadata": {},
   "outputs": [],
   "source": [
    "MIN_NUMBER_PER__COMPONENT = 1\n",
    "COMPONENT_NUM = 123\n",
    "REMOVE_STROMA = False\n",
    "BIPARTITE = False\n",
    "SAVE_FIG = True\n",
    "FIG_NAME ='component_123_with_stroma'"
   ]
  },
  {
   "cell_type": "code",
   "execution_count": 225,
   "id": "piano-wisdom",
   "metadata": {},
   "outputs": [],
   "source": [
    "#plot_component(cell_graph,MIN_NUMBER_PER__COMPONENT,COMPONENT_NUM,\n",
    "#              remove_stroma =REMOVE_STROMA,bipartite =BIPARTITE,\n",
    "#              savefig=SAVE_FIG, figname=FIG_NAME)"
   ]
  },
  {
   "cell_type": "code",
   "execution_count": 226,
   "id": "aerial-perry",
   "metadata": {},
   "outputs": [],
   "source": [
    "nodes = nodes.merge(phenotype_component_pivotted, on='component', how='left')"
   ]
  },
  {
   "cell_type": "markdown",
   "id": "remarkable-vault",
   "metadata": {},
   "source": [
    "## Betweeness centrality density accross Components"
   ]
  },
  {
   "cell_type": "code",
   "execution_count": 227,
   "id": "intimate-complaint",
   "metadata": {},
   "outputs": [],
   "source": [
    "PHENOTYPES = ['T','B']\n",
    "COMPONENTS = [123,122,121]\n",
    "METRIC = \"betweeness_centrality\""
   ]
  },
  {
   "cell_type": "markdown",
   "id": "injured-nitrogen",
   "metadata": {},
   "source": [
    "# High level Graph "
   ]
  },
  {
   "cell_type": "code",
   "execution_count": 228,
   "id": "after-torture",
   "metadata": {},
   "outputs": [
    {
     "data": {
      "text/html": [
       "<div>\n",
       "<style scoped>\n",
       "    .dataframe tbody tr th:only-of-type {\n",
       "        vertical-align: middle;\n",
       "    }\n",
       "\n",
       "    .dataframe tbody tr th {\n",
       "        vertical-align: top;\n",
       "    }\n",
       "\n",
       "    .dataframe thead th {\n",
       "        text-align: right;\n",
       "    }\n",
       "</style>\n",
       "<table border=\"1\" class=\"dataframe\">\n",
       "  <thead>\n",
       "    <tr style=\"text-align: right;\">\n",
       "      <th></th>\n",
       "      <th>cell_id</th>\n",
       "      <th>cell_x_position</th>\n",
       "      <th>cell_y_position</th>\n",
       "      <th>tissue_category</th>\n",
       "      <th>phenotype</th>\n",
       "      <th>on_border</th>\n",
       "      <th>missing_degree</th>\n",
       "      <th>stroma_degree</th>\n",
       "      <th>tumor_degree</th>\n",
       "      <th>total_degree</th>\n",
       "      <th>...</th>\n",
       "      <th>size_y</th>\n",
       "      <th>T_tumor_density</th>\n",
       "      <th>B_tumor_density</th>\n",
       "      <th>NK_tumor_density</th>\n",
       "      <th>stroma_tumor_density</th>\n",
       "      <th>T_density</th>\n",
       "      <th>B_density</th>\n",
       "      <th>NK_density</th>\n",
       "      <th>dendtritic_density</th>\n",
       "      <th>macrophages_density</th>\n",
       "    </tr>\n",
       "  </thead>\n",
       "  <tbody>\n",
       "    <tr>\n",
       "      <th>0</th>\n",
       "      <td>1</td>\n",
       "      <td>14040.7</td>\n",
       "      <td>37383.4</td>\n",
       "      <td>stroma</td>\n",
       "      <td>stroma</td>\n",
       "      <td>False</td>\n",
       "      <td>0.0</td>\n",
       "      <td>0.0</td>\n",
       "      <td>0.0</td>\n",
       "      <td>0.0</td>\n",
       "      <td>...</td>\n",
       "      <td>43411.0</td>\n",
       "      <td>0.004087</td>\n",
       "      <td>0.000654</td>\n",
       "      <td>0.000163</td>\n",
       "      <td>0.160033</td>\n",
       "      <td>0.003455</td>\n",
       "      <td>0.000553</td>\n",
       "      <td>0.000138</td>\n",
       "      <td>0.000184</td>\n",
       "      <td>0.00235</td>\n",
       "    </tr>\n",
       "    <tr>\n",
       "      <th>1</th>\n",
       "      <td>2</td>\n",
       "      <td>14049.6</td>\n",
       "      <td>37381.9</td>\n",
       "      <td>stroma</td>\n",
       "      <td>MISSING</td>\n",
       "      <td>False</td>\n",
       "      <td>0.0</td>\n",
       "      <td>0.0</td>\n",
       "      <td>0.0</td>\n",
       "      <td>0.0</td>\n",
       "      <td>...</td>\n",
       "      <td>43411.0</td>\n",
       "      <td>0.004087</td>\n",
       "      <td>0.000654</td>\n",
       "      <td>0.000163</td>\n",
       "      <td>0.160033</td>\n",
       "      <td>0.003455</td>\n",
       "      <td>0.000553</td>\n",
       "      <td>0.000138</td>\n",
       "      <td>0.000184</td>\n",
       "      <td>0.00235</td>\n",
       "    </tr>\n",
       "    <tr>\n",
       "      <th>2</th>\n",
       "      <td>3</td>\n",
       "      <td>14056.5</td>\n",
       "      <td>37381.9</td>\n",
       "      <td>stroma</td>\n",
       "      <td>MISSING</td>\n",
       "      <td>False</td>\n",
       "      <td>0.0</td>\n",
       "      <td>0.0</td>\n",
       "      <td>0.0</td>\n",
       "      <td>0.0</td>\n",
       "      <td>...</td>\n",
       "      <td>43411.0</td>\n",
       "      <td>0.004087</td>\n",
       "      <td>0.000654</td>\n",
       "      <td>0.000163</td>\n",
       "      <td>0.160033</td>\n",
       "      <td>0.003455</td>\n",
       "      <td>0.000553</td>\n",
       "      <td>0.000138</td>\n",
       "      <td>0.000184</td>\n",
       "      <td>0.00235</td>\n",
       "    </tr>\n",
       "  </tbody>\n",
       "</table>\n",
       "<p>3 rows × 47 columns</p>\n",
       "</div>"
      ],
      "text/plain": [
       "   cell_id  cell_x_position  cell_y_position tissue_category phenotype  \\\n",
       "0        1          14040.7          37383.4          stroma    stroma   \n",
       "1        2          14049.6          37381.9          stroma   MISSING   \n",
       "2        3          14056.5          37381.9          stroma   MISSING   \n",
       "\n",
       "   on_border  missing_degree  stroma_degree  tumor_degree  total_degree  ...  \\\n",
       "0      False             0.0            0.0           0.0           0.0  ...   \n",
       "1      False             0.0            0.0           0.0           0.0  ...   \n",
       "2      False             0.0            0.0           0.0           0.0  ...   \n",
       "\n",
       "    size_y  T_tumor_density  B_tumor_density  NK_tumor_density  \\\n",
       "0  43411.0         0.004087         0.000654          0.000163   \n",
       "1  43411.0         0.004087         0.000654          0.000163   \n",
       "2  43411.0         0.004087         0.000654          0.000163   \n",
       "\n",
       "   stroma_tumor_density  T_density  B_density  NK_density  dendtritic_density  \\\n",
       "0              0.160033   0.003455   0.000553    0.000138            0.000184   \n",
       "1              0.160033   0.003455   0.000553    0.000138            0.000184   \n",
       "2              0.160033   0.003455   0.000553    0.000138            0.000184   \n",
       "\n",
       "   macrophages_density  \n",
       "0              0.00235  \n",
       "1              0.00235  \n",
       "2              0.00235  \n",
       "\n",
       "[3 rows x 47 columns]"
      ]
     },
     "execution_count": 228,
     "metadata": {},
     "output_type": "execute_result"
    }
   ],
   "source": [
    "nodes.head(3)"
   ]
  },
  {
   "cell_type": "code",
   "execution_count": 229,
   "id": "waiting-doctrine",
   "metadata": {},
   "outputs": [
    {
     "data": {
      "text/plain": [
       "Index(['cell_id', 'cell_x_position', 'cell_y_position', 'tissue_category',\n",
       "       'phenotype', 'on_border', 'missing_degree', 'stroma_degree',\n",
       "       'tumor_degree', 'total_degree', 'B_degree', 'MISSING_degree',\n",
       "       'NK_degree', 'T_degree', 'dendtritic_degree', 'macrophages_degrees',\n",
       "       'stroma_pheno_degree', 'tumor_pheno_degree', 'betweeness_centrality',\n",
       "       'clustering_coef', 'component', 'tumor-B', 'tumor-MISSING', 'tumor-NK',\n",
       "       'tumor-T', 'tumor-dendtritic', 'tumor-macrophages', 'tumor-stroma',\n",
       "       'size_x', 'B', 'MISSING', 'NK', 'T', 'dendtritic', 'macrophages',\n",
       "       'stroma', 'tumor', 'size_y', 'T_tumor_density', 'B_tumor_density',\n",
       "       'NK_tumor_density', 'stroma_tumor_density', 'T_density', 'B_density',\n",
       "       'NK_density', 'dendtritic_density', 'macrophages_density'],\n",
       "      dtype='object')"
      ]
     },
     "execution_count": 229,
     "metadata": {},
     "output_type": "execute_result"
    }
   ],
   "source": [
    "nodes.columns"
   ]
  },
  {
   "cell_type": "markdown",
   "id": "intended-equipment",
   "metadata": {},
   "source": [
    "## Aggregations"
   ]
  },
  {
   "cell_type": "code",
   "execution_count": 264,
   "id": "liable-bhutan",
   "metadata": {},
   "outputs": [],
   "source": [
    "columns_to_sum = ['component','missing_degree', 'stroma_degree', 'tumor_degree', 'total_degree',\n",
    "       'B_degree', 'MISSING_degree', 'NK_degree', 'T_degree',\n",
    "       'dendtritic_degree', 'macrophages_degrees', 'tumor_pheno_degree', 'stroma_pheno_degree']\n",
    "\n",
    "columns_to_avg = ['component','cell_x_position', 'cell_y_position','betweeness_centrality', 'clustering_coef', 'tumor-B',\n",
    "       'tumor-MISSING', 'tumor-NK', 'tumor-T', 'tumor-dendtritic',\n",
    "       'tumor-macrophages', 'tumor-stroma', 'size_x', 'B', 'MISSING', 'NK',\n",
    "       'T', 'dendtritic', 'macrophages', 'stroma', 'tumor',\n",
    "       'T_tumor_density', 'B_tumor_density', 'NK_tumor_density',\n",
    "       'stroma_tumor_density', 'T_density', 'B_density', 'NK_density',\n",
    "       'dendtritic_density', 'macrophages_density']"
   ]
  },
  {
   "cell_type": "code",
   "execution_count": 265,
   "id": "caring-crazy",
   "metadata": {},
   "outputs": [],
   "source": [
    "component_nodes_sum = nodes[columns_to_sum].groupby(['component']).agg('sum').reset_index()\n",
    "component_nodes_avg = nodes[columns_to_avg].groupby(['component']).agg('mean').reset_index()\n",
    "component_nodes = component_nodes_sum.merge(component_nodes_avg, on='component', how ='left')"
   ]
  },
  {
   "cell_type": "code",
   "execution_count": 266,
   "id": "seasonal-tragedy",
   "metadata": {},
   "outputs": [
    {
     "data": {
      "text/html": [
       "<div>\n",
       "<style scoped>\n",
       "    .dataframe tbody tr th:only-of-type {\n",
       "        vertical-align: middle;\n",
       "    }\n",
       "\n",
       "    .dataframe tbody tr th {\n",
       "        vertical-align: top;\n",
       "    }\n",
       "\n",
       "    .dataframe thead th {\n",
       "        text-align: right;\n",
       "    }\n",
       "</style>\n",
       "<table border=\"1\" class=\"dataframe\">\n",
       "  <thead>\n",
       "    <tr style=\"text-align: right;\">\n",
       "      <th></th>\n",
       "      <th>component</th>\n",
       "      <th>missing_degree</th>\n",
       "      <th>stroma_degree</th>\n",
       "      <th>tumor_degree</th>\n",
       "      <th>total_degree</th>\n",
       "      <th>B_degree</th>\n",
       "      <th>MISSING_degree</th>\n",
       "      <th>NK_degree</th>\n",
       "      <th>T_degree</th>\n",
       "      <th>dendtritic_degree</th>\n",
       "      <th>...</th>\n",
       "      <th>tumor</th>\n",
       "      <th>T_tumor_density</th>\n",
       "      <th>B_tumor_density</th>\n",
       "      <th>NK_tumor_density</th>\n",
       "      <th>stroma_tumor_density</th>\n",
       "      <th>T_density</th>\n",
       "      <th>B_density</th>\n",
       "      <th>NK_density</th>\n",
       "      <th>dendtritic_density</th>\n",
       "      <th>macrophages_density</th>\n",
       "    </tr>\n",
       "  </thead>\n",
       "  <tbody>\n",
       "    <tr>\n",
       "      <th>120</th>\n",
       "      <td>120</td>\n",
       "      <td>5.0</td>\n",
       "      <td>1791.0</td>\n",
       "      <td>1860.0</td>\n",
       "      <td>3651.0</td>\n",
       "      <td>0.0</td>\n",
       "      <td>42.0</td>\n",
       "      <td>22.0</td>\n",
       "      <td>292.0</td>\n",
       "      <td>0.0</td>\n",
       "      <td>...</td>\n",
       "      <td>704.0</td>\n",
       "      <td>0.031250</td>\n",
       "      <td>0.000000</td>\n",
       "      <td>0.001420</td>\n",
       "      <td>0.451705</td>\n",
       "      <td>0.020542</td>\n",
       "      <td>0.000000</td>\n",
       "      <td>0.000934</td>\n",
       "      <td>0.000000</td>\n",
       "      <td>0.012138</td>\n",
       "    </tr>\n",
       "    <tr>\n",
       "      <th>121</th>\n",
       "      <td>121</td>\n",
       "      <td>11.0</td>\n",
       "      <td>1923.0</td>\n",
       "      <td>3700.0</td>\n",
       "      <td>5623.0</td>\n",
       "      <td>247.0</td>\n",
       "      <td>48.0</td>\n",
       "      <td>2.0</td>\n",
       "      <td>510.0</td>\n",
       "      <td>35.0</td>\n",
       "      <td>...</td>\n",
       "      <td>527.0</td>\n",
       "      <td>0.263757</td>\n",
       "      <td>0.066414</td>\n",
       "      <td>0.001898</td>\n",
       "      <td>0.827324</td>\n",
       "      <td>0.119621</td>\n",
       "      <td>0.030120</td>\n",
       "      <td>0.000861</td>\n",
       "      <td>0.010327</td>\n",
       "      <td>0.007745</td>\n",
       "    </tr>\n",
       "    <tr>\n",
       "      <th>122</th>\n",
       "      <td>122</td>\n",
       "      <td>0.0</td>\n",
       "      <td>4806.0</td>\n",
       "      <td>5553.0</td>\n",
       "      <td>10359.0</td>\n",
       "      <td>134.0</td>\n",
       "      <td>123.0</td>\n",
       "      <td>58.0</td>\n",
       "      <td>853.0</td>\n",
       "      <td>18.0</td>\n",
       "      <td>...</td>\n",
       "      <td>1024.0</td>\n",
       "      <td>0.095703</td>\n",
       "      <td>0.014648</td>\n",
       "      <td>0.005859</td>\n",
       "      <td>0.710938</td>\n",
       "      <td>0.051552</td>\n",
       "      <td>0.007891</td>\n",
       "      <td>0.003156</td>\n",
       "      <td>0.003682</td>\n",
       "      <td>0.000000</td>\n",
       "    </tr>\n",
       "    <tr>\n",
       "      <th>123</th>\n",
       "      <td>123</td>\n",
       "      <td>7.0</td>\n",
       "      <td>3304.0</td>\n",
       "      <td>5666.0</td>\n",
       "      <td>8970.0</td>\n",
       "      <td>61.0</td>\n",
       "      <td>142.0</td>\n",
       "      <td>12.0</td>\n",
       "      <td>703.0</td>\n",
       "      <td>6.0</td>\n",
       "      <td>...</td>\n",
       "      <td>1438.0</td>\n",
       "      <td>0.080668</td>\n",
       "      <td>0.010431</td>\n",
       "      <td>0.002782</td>\n",
       "      <td>0.528512</td>\n",
       "      <td>0.047974</td>\n",
       "      <td>0.006203</td>\n",
       "      <td>0.001654</td>\n",
       "      <td>0.008271</td>\n",
       "      <td>0.013234</td>\n",
       "    </tr>\n",
       "    <tr>\n",
       "      <th>124</th>\n",
       "      <td></td>\n",
       "      <td>0.0</td>\n",
       "      <td>0.0</td>\n",
       "      <td>0.0</td>\n",
       "      <td>0.0</td>\n",
       "      <td>0.0</td>\n",
       "      <td>0.0</td>\n",
       "      <td>0.0</td>\n",
       "      <td>0.0</td>\n",
       "      <td>0.0</td>\n",
       "      <td>...</td>\n",
       "      <td>36705.0</td>\n",
       "      <td>0.004087</td>\n",
       "      <td>0.000654</td>\n",
       "      <td>0.000163</td>\n",
       "      <td>0.160033</td>\n",
       "      <td>0.003455</td>\n",
       "      <td>0.000553</td>\n",
       "      <td>0.000138</td>\n",
       "      <td>0.000184</td>\n",
       "      <td>0.002350</td>\n",
       "    </tr>\n",
       "  </tbody>\n",
       "</table>\n",
       "<p>5 rows × 42 columns</p>\n",
       "</div>"
      ],
      "text/plain": [
       "    component  missing_degree  stroma_degree  tumor_degree  total_degree  \\\n",
       "120       120             5.0         1791.0        1860.0        3651.0   \n",
       "121       121            11.0         1923.0        3700.0        5623.0   \n",
       "122       122             0.0         4806.0        5553.0       10359.0   \n",
       "123       123             7.0         3304.0        5666.0        8970.0   \n",
       "124                       0.0            0.0           0.0           0.0   \n",
       "\n",
       "     B_degree  MISSING_degree  NK_degree  T_degree  dendtritic_degree  ...  \\\n",
       "120       0.0            42.0       22.0     292.0                0.0  ...   \n",
       "121     247.0            48.0        2.0     510.0               35.0  ...   \n",
       "122     134.0           123.0       58.0     853.0               18.0  ...   \n",
       "123      61.0           142.0       12.0     703.0                6.0  ...   \n",
       "124       0.0             0.0        0.0       0.0                0.0  ...   \n",
       "\n",
       "       tumor  T_tumor_density  B_tumor_density  NK_tumor_density  \\\n",
       "120    704.0         0.031250         0.000000          0.001420   \n",
       "121    527.0         0.263757         0.066414          0.001898   \n",
       "122   1024.0         0.095703         0.014648          0.005859   \n",
       "123   1438.0         0.080668         0.010431          0.002782   \n",
       "124  36705.0         0.004087         0.000654          0.000163   \n",
       "\n",
       "     stroma_tumor_density  T_density  B_density  NK_density  \\\n",
       "120              0.451705   0.020542   0.000000    0.000934   \n",
       "121              0.827324   0.119621   0.030120    0.000861   \n",
       "122              0.710938   0.051552   0.007891    0.003156   \n",
       "123              0.528512   0.047974   0.006203    0.001654   \n",
       "124              0.160033   0.003455   0.000553    0.000138   \n",
       "\n",
       "     dendtritic_density  macrophages_density  \n",
       "120            0.000000             0.012138  \n",
       "121            0.010327             0.007745  \n",
       "122            0.003682             0.000000  \n",
       "123            0.008271             0.013234  \n",
       "124            0.000184             0.002350  \n",
       "\n",
       "[5 rows x 42 columns]"
      ]
     },
     "execution_count": 266,
     "metadata": {},
     "output_type": "execute_result"
    }
   ],
   "source": [
    "component_nodes.tail()"
   ]
  },
  {
   "cell_type": "code",
   "execution_count": 267,
   "id": "fallen-capacity",
   "metadata": {},
   "outputs": [
    {
     "data": {
      "text/plain": [
       "Index(['component', 'missing_degree', 'stroma_degree', 'tumor_degree',\n",
       "       'total_degree', 'B_degree', 'MISSING_degree', 'NK_degree', 'T_degree',\n",
       "       'dendtritic_degree', 'macrophages_degrees', 'tumor_pheno_degree',\n",
       "       'stroma_pheno_degree', 'cell_x_position', 'cell_y_position',\n",
       "       'betweeness_centrality', 'clustering_coef', 'tumor-B', 'tumor-MISSING',\n",
       "       'tumor-NK', 'tumor-T', 'tumor-dendtritic', 'tumor-macrophages',\n",
       "       'tumor-stroma', 'size_x', 'B', 'MISSING', 'NK', 'T', 'dendtritic',\n",
       "       'macrophages', 'stroma', 'tumor', 'T_tumor_density', 'B_tumor_density',\n",
       "       'NK_tumor_density', 'stroma_tumor_density', 'T_density', 'B_density',\n",
       "       'NK_density', 'dendtritic_density', 'macrophages_density'],\n",
       "      dtype='object')"
      ]
     },
     "execution_count": 267,
     "metadata": {},
     "output_type": "execute_result"
    }
   ],
   "source": [
    "component_nodes.columns"
   ]
  },
  {
   "cell_type": "code",
   "execution_count": 268,
   "id": "fixed-lodging",
   "metadata": {},
   "outputs": [],
   "source": [
    "component_x = component_nodes.cell_x_position.values\n",
    "component_y = component_nodes.cell_y_position.values\n",
    "points = []\n",
    "for x,y in zip(component_x,component_y):\n",
    "    points.append([x,y])\n",
    "\n",
    "points = np.array(points)    \n",
    "tri = Delaunay(points)    "
   ]
  },
  {
   "cell_type": "code",
   "execution_count": 269,
   "id": "cleared-andrews",
   "metadata": {},
   "outputs": [
    {
     "data": {
      "image/png": "[encoded data removed]",
      "text/plain": [
       "<Figure size 1080x504 with 1 Axes>"
      ]
     },
     "metadata": {
      "needs_background": "light"
     },
     "output_type": "display_data"
    }
   ],
   "source": [
    "fig = plt.figure(figsize=(15,7))\n",
    "\n",
    "plt.triplot(points[:,0], points[:,1], tri.simplices)\n",
    "plt.plot(points[:,0], points[:,1], 'o')\n",
    "plt.title('Delaunay component triangularisation')    \n",
    "plt.show()\n",
    "fig.savefig('./plots/Delaunay_component_triangularisation.png')"
   ]
  },
  {
   "cell_type": "code",
   "execution_count": 270,
   "id": "impaired-twelve",
   "metadata": {},
   "outputs": [],
   "source": [
    "threshold = 1000\n",
    "vertices = component_nodes.component.values\n",
    "coord, edges = get_high_level_graph(component_nodes,threshold)"
   ]
  },
  {
   "cell_type": "code",
   "execution_count": 271,
   "id": "first-richards",
   "metadata": {},
   "outputs": [
    {
     "data": {
      "text/plain": [
       "125"
      ]
     },
     "execution_count": 271,
     "metadata": {},
     "output_type": "execute_result"
    }
   ],
   "source": [
    "len(vertices)"
   ]
  },
  {
   "cell_type": "code",
   "execution_count": 272,
   "id": "fallen-jewelry",
   "metadata": {},
   "outputs": [],
   "source": [
    "def visualize_component_graph(G, with_labels=False, k=None, alpha=1.0, node_shape='.',savefig=False,figname=''):\n",
    "    #nx.draw_spring(G, with_labels=with_labels, alpha = alpha)\n",
    "    fig = plt.figure(figsize=(30,20))\n",
    "\n",
    "    pos = nx.spring_layout(G, k=k)\n",
    "    if with_labels:\n",
    "        lab = nx.draw_networkx_labels(G, pos, labels=dict([(n, n) for n in G.nodes()]))\n",
    "    ec = nx.draw_networkx_edges(G, pos, alpha=alpha)\n",
    "    nc = nx.draw_networkx_nodes(G, pos, nodelist=G.nodes(), node_color='g', node_shape=node_shape)\n",
    "    plt.axis('off')\n",
    "    if savefig:\n",
    "        fig.savefig('./plots/'+figname)"
   ]
  },
  {
   "cell_type": "markdown",
   "id": "effective-nebraska",
   "metadata": {},
   "source": [
    "### Build graph"
   ]
  },
  {
   "cell_type": "code",
   "execution_count": 273,
   "id": "reverse-supply",
   "metadata": {},
   "outputs": [],
   "source": [
    "component_graph = nx.Graph() # for a directed graph use nx.DiGraph()\n",
    "\n",
    "component_graph.add_nodes_from(range(len(vertices)))  # add multiple nodes at once\n",
    "\n",
    "component_graph.add_edges_from(edges)\n",
    "\n",
    "#visualize_component_graph(component_graph,k=0.05, alpha=0.8,savefig=True,figname='High_level_graph_threshold_200.png')\n"
   ]
  },
  {
   "cell_type": "code",
   "execution_count": 274,
   "id": "human-niger",
   "metadata": {},
   "outputs": [],
   "source": [
    "laplacian_matrix = nx.laplacian_matrix(component_graph).A\n",
    "eigen_vals, eigen_vects = np.linalg.eig(laplacian_matrix)"
   ]
  },
  {
   "cell_type": "code",
   "execution_count": 275,
   "id": "sitting-framework",
   "metadata": {},
   "outputs": [],
   "source": [
    "idx = (-eigen_vals).argsort()[::-1]   \n",
    "eigenValues = eigen_vals[idx]\n",
    "eigenVectors = eigen_vects[:,idx]"
   ]
  },
  {
   "cell_type": "code",
   "execution_count": 276,
   "id": "quiet-european",
   "metadata": {},
   "outputs": [
    {
     "data": {
      "image/png": "[encoded data removed]",
      "text/plain": [
       "<Figure size 1080x504 with 1 Axes>"
      ]
     },
     "metadata": {
      "needs_background": "light"
     },
     "output_type": "display_data"
    }
   ],
   "source": [
    "fig = plt.figure(figsize=(15,7))\n",
    "plt.plot(eigenValues,color='r')\n",
    "plt.grid()\n",
    "plt.ylabel(\"eigenValues\", size=\"large\")\n",
    "plt.xlabel(\"Order\", size=\"large\")\n",
    "\n",
    "plt.title(\"T-Tumor edges count signal projection\", size=\"large\")\n",
    "plt.show();\n",
    "fig.savefig('./plots/T-Tumor edges count signal projection.png')"
   ]
  },
  {
   "cell_type": "code",
   "execution_count": 277,
   "id": "flying-profile",
   "metadata": {},
   "outputs": [
    {
     "data": {
      "image/png": "[encoded data removed]",
      "text/plain": [
       "<Figure size 1080x504 with 1 Axes>"
      ]
     },
     "metadata": {
      "needs_background": "light"
     },
     "output_type": "display_data"
    }
   ],
   "source": [
    "SIGNAL = np.array(component_nodes.tumor_degree.fillna(0).values)\n",
    "GRAPH = component_graph\n",
    "FIGNAME = 'Tumor degree density signal projection on the eigenvector space '\n",
    "projection = project_signal(GRAPH,SIGNAL,True,'b',True,FIGNAME)"
   ]
  },
  {
   "cell_type": "markdown",
   "id": "second-company",
   "metadata": {},
   "source": [
    "## Quadratic laplacian forms"
   ]
  },
  {
   "cell_type": "code",
   "execution_count": 354,
   "id": "aerial-sullivan",
   "metadata": {},
   "outputs": [],
   "source": [
    "quadtratics = get_quadratic_laplacian_forms(component_nodes,vertices,edges)"
   ]
  },
  {
   "cell_type": "code",
   "execution_count": 355,
   "id": "unable-chick",
   "metadata": {},
   "outputs": [],
   "source": [
    "quadtratics = pd.melt(quadtratics)"
   ]
  },
  {
   "cell_type": "code",
   "execution_count": 372,
   "id": "theoretical-quarterly",
   "metadata": {},
   "outputs": [],
   "source": [
    "#fig = quadtratics.sort_values(['value']).plot.bar(x='variable',y='value',rot=70,figsize =(20,10))\n",
    "#plt.xlabel('Signals')\n",
    "#plt.ylabel('Quadratic Laplace form')\n",
    "#plt.grid()\n",
    "#plt.title('Quadratic Laplace form for all signals')\n",
    "#plt.savefig('./plots/signals/Quadratic Laplace form for all signals.png')"
   ]
  }
 ],
 "metadata": {
  "environment": {
   "name": "common-cpu.mnightly-2021-02-12-debian-10-test",
   "type": "gcloud",
   "uri": "gcr.io/deeplearning-platform-release/base-cpu:mnightly-2021-02-12-debian-10-test"
  },
  "kernelspec": {
   "display_name": "Python 3",
   "language": "python",
   "name": "python3"
  },
  "language_info": {
   "codemirror_mode": {
    "name": "ipython",
    "version": 3
   },
   "file_extension": ".py",
   "mimetype": "text/x-python",
   "name": "python",
   "nbconvert_exporter": "python",
   "pygments_lexer": "ipython3",
   "version": "3.7.9"
  }
 },
 "nbformat": 4,
 "nbformat_minor": 5
}
