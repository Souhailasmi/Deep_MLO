{
 "cells": [
  {
   "cell_type": "code",
   "execution_count": 194,
   "id": "apart-museum",
   "metadata": {},
   "outputs": [],
   "source": [
    "from queries import*\n",
    "from utilities import*"
   ]
  },
  {
   "cell_type": "code",
   "execution_count": 195,
   "id": "consolidated-kuwait",
   "metadata": {},
   "outputs": [],
   "source": [
    "#!pip install networkx==2.5.0 python-louvain"
   ]
  },
  {
   "cell_type": "code",
   "execution_count": 196,
   "id": "moving-aurora",
   "metadata": {},
   "outputs": [],
   "source": [
    "#nx.__version__"
   ]
  },
  {
   "cell_type": "markdown",
   "id": "upper-joseph",
   "metadata": {},
   "source": [
    "## Read data :"
   ]
  },
  {
   "cell_type": "markdown",
   "id": "appreciated-cooperation",
   "metadata": {},
   "source": [
    "### Nodes "
   ]
  },
  {
   "cell_type": "code",
   "execution_count": 197,
   "id": "economic-morrison",
   "metadata": {},
   "outputs": [],
   "source": [
    "nodes = pd.read_csv('data/nodes_with_border.csv')\n",
    "                    \n",
    "### Setting cell_id as index\n",
    "\n",
    "nodes.set_index('cell_id', inplace=True)\n"
   ]
  },
  {
   "cell_type": "code",
   "execution_count": 198,
   "id": "similar-senator",
   "metadata": {},
   "outputs": [
    {
     "data": {
      "text/html": [
       "<div>\n",
       "<style scoped>\n",
       "    .dataframe tbody tr th:only-of-type {\n",
       "        vertical-align: middle;\n",
       "    }\n",
       "\n",
       "    .dataframe tbody tr th {\n",
       "        vertical-align: top;\n",
       "    }\n",
       "\n",
       "    .dataframe thead th {\n",
       "        text-align: right;\n",
       "    }\n",
       "</style>\n",
       "<table border=\"1\" class=\"dataframe\">\n",
       "  <thead>\n",
       "    <tr style=\"text-align: right;\">\n",
       "      <th></th>\n",
       "      <th>cell_x_position</th>\n",
       "      <th>cell_y_position</th>\n",
       "      <th>tissue_category</th>\n",
       "      <th>phenotype</th>\n",
       "      <th>on_border</th>\n",
       "    </tr>\n",
       "    <tr>\n",
       "      <th>cell_id</th>\n",
       "      <th></th>\n",
       "      <th></th>\n",
       "      <th></th>\n",
       "      <th></th>\n",
       "      <th></th>\n",
       "    </tr>\n",
       "  </thead>\n",
       "  <tbody>\n",
       "    <tr>\n",
       "      <th>1</th>\n",
       "      <td>14040.7</td>\n",
       "      <td>37383.4</td>\n",
       "      <td>stroma</td>\n",
       "      <td>stroma</td>\n",
       "      <td>False</td>\n",
       "    </tr>\n",
       "    <tr>\n",
       "      <th>2</th>\n",
       "      <td>14049.6</td>\n",
       "      <td>37381.9</td>\n",
       "      <td>stroma</td>\n",
       "      <td>MISSING</td>\n",
       "      <td>False</td>\n",
       "    </tr>\n",
       "  </tbody>\n",
       "</table>\n",
       "</div>"
      ],
      "text/plain": [
       "         cell_x_position  cell_y_position tissue_category phenotype  on_border\n",
       "cell_id                                                                       \n",
       "1                14040.7          37383.4          stroma    stroma      False\n",
       "2                14049.6          37381.9          stroma   MISSING      False"
      ]
     },
     "execution_count": 198,
     "metadata": {},
     "output_type": "execute_result"
    }
   ],
   "source": [
    "nodes.head(2)"
   ]
  },
  {
   "cell_type": "code",
   "execution_count": 199,
   "id": "institutional-canada",
   "metadata": {},
   "outputs": [
    {
     "data": {
      "text/plain": [
       "array(['stroma', 'MISSING', 'tumor', 'T', 'macrophages', 'dendtritic',\n",
       "       'B', 'NK'], dtype=object)"
      ]
     },
     "execution_count": 199,
     "metadata": {},
     "output_type": "execute_result"
    }
   ],
   "source": [
    "nodes.phenotype.unique()"
   ]
  },
  {
   "cell_type": "code",
   "execution_count": 200,
   "id": "infrared-start",
   "metadata": {},
   "outputs": [
    {
     "data": {
      "text/plain": [
       "Index(['cell_x_position', 'cell_y_position', 'tissue_category', 'phenotype',\n",
       "       'on_border'],\n",
       "      dtype='object')"
      ]
     },
     "execution_count": 200,
     "metadata": {},
     "output_type": "execute_result"
    }
   ],
   "source": [
    "nodes.columns"
   ]
  },
  {
   "cell_type": "markdown",
   "id": "olympic-grain",
   "metadata": {},
   "source": [
    "### Edges"
   ]
  },
  {
   "cell_type": "code",
   "execution_count": 201,
   "id": "killing-telephone",
   "metadata": {},
   "outputs": [],
   "source": [
    "### Importing edges with distance threshold 100\n",
    "\n",
    "edges = pd.read_csv('./data/edges_border.csv')\n",
    "\n",
    "#### Fixing distance threshold and removing tumor border\n",
    "\n",
    "THRESHOLD = 50\n",
    "\n",
    "edges = graph_wrangling(edges,THRESHOLD, only_border = True)\n"
   ]
  },
  {
   "cell_type": "code",
   "execution_count": 202,
   "id": "cubic-range",
   "metadata": {},
   "outputs": [
    {
     "data": {
      "text/html": [
       "<div>\n",
       "<style scoped>\n",
       "    .dataframe tbody tr th:only-of-type {\n",
       "        vertical-align: middle;\n",
       "    }\n",
       "\n",
       "    .dataframe tbody tr th {\n",
       "        vertical-align: top;\n",
       "    }\n",
       "\n",
       "    .dataframe thead th {\n",
       "        text-align: right;\n",
       "    }\n",
       "</style>\n",
       "<table border=\"1\" class=\"dataframe\">\n",
       "  <thead>\n",
       "    <tr style=\"text-align: right;\">\n",
       "      <th></th>\n",
       "      <th>distance</th>\n",
       "      <th>cell_id_1</th>\n",
       "      <th>cell_id_2</th>\n",
       "      <th>tissue_category_1</th>\n",
       "      <th>tissue_category_2</th>\n",
       "      <th>phenotype_1</th>\n",
       "      <th>phenotype_2</th>\n",
       "      <th>is_border</th>\n",
       "    </tr>\n",
       "  </thead>\n",
       "  <tbody>\n",
       "    <tr>\n",
       "      <th>2</th>\n",
       "      <td>40.121441</td>\n",
       "      <td>35764</td>\n",
       "      <td>35871</td>\n",
       "      <td>stroma</td>\n",
       "      <td>tumor</td>\n",
       "      <td>T</td>\n",
       "      <td>tumor</td>\n",
       "      <td>True</td>\n",
       "    </tr>\n",
       "    <tr>\n",
       "      <th>3</th>\n",
       "      <td>41.571384</td>\n",
       "      <td>35764</td>\n",
       "      <td>35864</td>\n",
       "      <td>stroma</td>\n",
       "      <td>tumor</td>\n",
       "      <td>T</td>\n",
       "      <td>tumor</td>\n",
       "      <td>True</td>\n",
       "    </tr>\n",
       "    <tr>\n",
       "      <th>6</th>\n",
       "      <td>45.496483</td>\n",
       "      <td>44539</td>\n",
       "      <td>44711</td>\n",
       "      <td>stroma</td>\n",
       "      <td>tumor</td>\n",
       "      <td>T</td>\n",
       "      <td>T</td>\n",
       "      <td>True</td>\n",
       "    </tr>\n",
       "    <tr>\n",
       "      <th>14</th>\n",
       "      <td>39.936199</td>\n",
       "      <td>3538</td>\n",
       "      <td>3785</td>\n",
       "      <td>tumor</td>\n",
       "      <td>stroma</td>\n",
       "      <td>stroma</td>\n",
       "      <td>T</td>\n",
       "      <td>True</td>\n",
       "    </tr>\n",
       "    <tr>\n",
       "      <th>16</th>\n",
       "      <td>48.097505</td>\n",
       "      <td>3915</td>\n",
       "      <td>3947</td>\n",
       "      <td>tumor</td>\n",
       "      <td>stroma</td>\n",
       "      <td>stroma</td>\n",
       "      <td>stroma</td>\n",
       "      <td>True</td>\n",
       "    </tr>\n",
       "  </tbody>\n",
       "</table>\n",
       "</div>"
      ],
      "text/plain": [
       "     distance  cell_id_1  cell_id_2 tissue_category_1 tissue_category_2  \\\n",
       "2   40.121441      35764      35871            stroma             tumor   \n",
       "3   41.571384      35764      35864            stroma             tumor   \n",
       "6   45.496483      44539      44711            stroma             tumor   \n",
       "14  39.936199       3538       3785             tumor            stroma   \n",
       "16  48.097505       3915       3947             tumor            stroma   \n",
       "\n",
       "   phenotype_1 phenotype_2  is_border  \n",
       "2            T       tumor       True  \n",
       "3            T       tumor       True  \n",
       "6            T           T       True  \n",
       "14      stroma           T       True  \n",
       "16      stroma      stroma       True  "
      ]
     },
     "execution_count": 202,
     "metadata": {},
     "output_type": "execute_result"
    }
   ],
   "source": [
    "edges.head(5)"
   ]
  },
  {
   "cell_type": "code",
   "execution_count": 203,
   "id": "further-berry",
   "metadata": {},
   "outputs": [
    {
     "data": {
      "text/plain": [
       "83286"
      ]
     },
     "execution_count": 203,
     "metadata": {},
     "output_type": "execute_result"
    }
   ],
   "source": [
    "len(edges[edges.is_border ==True])"
   ]
  },
  {
   "cell_type": "markdown",
   "id": "robust-lesson",
   "metadata": {},
   "source": [
    "## Building the graph"
   ]
  },
  {
   "cell_type": "code",
   "execution_count": 204,
   "id": "agricultural-calculation",
   "metadata": {},
   "outputs": [
    {
     "name": "stdout",
     "output_type": "stream",
     "text": [
      "Name: \n",
      "Type: Graph\n",
      "Number of nodes: 22123\n",
      "Number of edges: 83287\n",
      "Average degree:   7.5294\n",
      "Graph is not connected\n",
      "Diameter and Avg shortest path length are not defined!\n",
      "Sparsity: 0.0003\n",
      "Global clustering coefficient aka Transitivity: 0.0002\n"
     ]
    }
   ],
   "source": [
    "cell_graph =nx.from_pandas_edgelist(edges, 'cell_id_1', 'cell_id_2', edge_attr=None, create_using= nx.Graph())\n",
    "describe_graph(cell_graph)"
   ]
  },
  {
   "cell_type": "markdown",
   "id": "becoming-reform",
   "metadata": {},
   "source": [
    "### Adding singular edges"
   ]
  },
  {
   "cell_type": "markdown",
   "id": "falling-middle",
   "metadata": {},
   "source": [
    "### Degree distribution"
   ]
  },
  {
   "cell_type": "code",
   "execution_count": 205,
   "id": "scheduled-bachelor",
   "metadata": {},
   "outputs": [
    {
     "data": {
      "image/png": "[encoded data removed]",
      "text/plain": [
       "<Figure size 1080x504 with 1 Axes>"
      ]
     },
     "metadata": {
      "needs_background": "light"
     },
     "output_type": "display_data"
    }
   ],
   "source": [
    "plot_degree_distribution(cell_graph)"
   ]
  },
  {
   "cell_type": "markdown",
   "id": "correct-translator",
   "metadata": {},
   "source": [
    "### Adding nodes attributes"
   ]
  },
  {
   "cell_type": "code",
   "execution_count": 206,
   "id": "viral-square",
   "metadata": {},
   "outputs": [],
   "source": [
    "nx.set_node_attributes(cell_graph, nodes['cell_x_position'].to_dict(), 'x_position' )\n",
    "nx.set_node_attributes(cell_graph, nodes['cell_y_position'].to_dict(), 'y_position' )\n",
    "nx.set_node_attributes(cell_graph, nodes['tissue_category'].to_dict(), 'tissue_category' )\n",
    "nx.set_node_attributes(cell_graph, nodes['phenotype'].to_dict(), 'phenotype' )\n",
    "nx.set_node_attributes(cell_graph, nodes['on_border'].to_dict(), 'border' )\n"
   ]
  },
  {
   "cell_type": "code",
   "execution_count": 207,
   "id": "north-music",
   "metadata": {},
   "outputs": [
    {
     "data": {
      "text/plain": [
       "{'x_position': 18883.2,\n",
       " 'y_position': 38730.0,\n",
       " 'tissue_category': 'tumor',\n",
       " 'phenotype': 'tumor',\n",
       " 'border': True}"
      ]
     },
     "execution_count": 207,
     "metadata": {},
     "output_type": "execute_result"
    }
   ],
   "source": [
    "cell_graph.nodes[35980]"
   ]
  },
  {
   "cell_type": "markdown",
   "id": "residential-initial",
   "metadata": {},
   "source": [
    "### Connected components"
   ]
  },
  {
   "cell_type": "code",
   "execution_count": 208,
   "id": "bulgarian-remains",
   "metadata": {},
   "outputs": [
    {
     "name": "stdout",
     "output_type": "stream",
     "text": [
      "The cell graph contains 124 connected components\n"
     ]
    }
   ],
   "source": [
    "components = list(nx.connected_components(cell_graph))\n",
    "print('The cell graph contains', len(components), 'connected components')"
   ]
  },
  {
   "cell_type": "code",
   "execution_count": 209,
   "id": "breathing-economy",
   "metadata": {},
   "outputs": [
    {
     "name": "stdout",
     "output_type": "stream",
     "text": [
      "The largest component has 2418 nodes accounting for 10.93 % of the nodes\n"
     ]
    }
   ],
   "source": [
    "largest_comp = max(components, key=len)\n",
    "percentage_lcc = len(largest_comp)/cell_graph.number_of_nodes() * 100\n",
    "print('The largest component has', len(largest_comp), 'nodes', 'accounting for %.2f'% percentage_lcc, '% of the nodes')"
   ]
  },
  {
   "cell_type": "markdown",
   "id": "floating-pakistan",
   "metadata": {},
   "source": [
    "### Filtering components"
   ]
  },
  {
   "cell_type": "code",
   "execution_count": 210,
   "id": "endangered-orchestra",
   "metadata": {},
   "outputs": [],
   "source": [
    "MIN_ELEMENTS_PER_CLUSTER = 1\n",
    "components = filtering_components(components, MIN_ELEMENTS_PER_CLUSTER)\n",
    "components = sorted(components, key=len, reverse=False)"
   ]
  },
  {
   "cell_type": "code",
   "execution_count": 211,
   "id": "peaceful-master",
   "metadata": {},
   "outputs": [
    {
     "data": {
      "text/plain": [
       "124"
      ]
     },
     "execution_count": 211,
     "metadata": {},
     "output_type": "execute_result"
    }
   ],
   "source": [
    "len(components)"
   ]
  },
  {
   "cell_type": "code",
   "execution_count": 212,
   "id": "lovely-footage",
   "metadata": {},
   "outputs": [],
   "source": [
    "subgraphs = [cell_graph.subgraph(c).copy() for c in components]"
   ]
  },
  {
   "cell_type": "code",
   "execution_count": 25,
   "id": "dutch-lesbian",
   "metadata": {},
   "outputs": [
    {
     "name": "stdout",
     "output_type": "stream",
     "text": [
      "Component number : 0\n",
      "Name: \n",
      "Type: Graph\n",
      "Number of nodes: 304\n",
      "Number of edges: 1033\n",
      "Average degree:   6.7961\n",
      "Component number : 1\n",
      "Name: \n",
      "Type: Graph\n",
      "Number of nodes: 329\n",
      "Number of edges: 1202\n",
      "Average degree:   7.3070\n",
      "Component number : 2\n",
      "Name: \n",
      "Type: Graph\n",
      "Number of nodes: 331\n",
      "Number of edges: 1189\n",
      "Average degree:   7.1843\n",
      "Component number : 3\n",
      "Name: \n",
      "Type: Graph\n",
      "Number of nodes: 401\n",
      "Number of edges: 1531\n",
      "Average degree:   7.6359\n",
      "Component number : 4\n",
      "Name: \n",
      "Type: Graph\n",
      "Number of nodes: 597\n",
      "Number of edges: 3985\n",
      "Average degree:  13.3501\n",
      "Component number : 5\n",
      "Name: \n",
      "Type: Graph\n",
      "Number of nodes: 608\n",
      "Number of edges: 4612\n",
      "Average degree:  15.1711\n",
      "Component number : 6\n",
      "Name: \n",
      "Type: Graph\n",
      "Number of nodes: 619\n",
      "Number of edges: 3051\n",
      "Average degree:   9.8578\n",
      "Component number : 7\n",
      "Name: \n",
      "Type: Graph\n",
      "Number of nodes: 846\n",
      "Number of edges: 2715\n",
      "Average degree:   6.4184\n",
      "Component number : 8\n",
      "Name: \n",
      "Type: Graph\n",
      "Number of nodes: 1028\n",
      "Number of edges: 7415\n",
      "Average degree:  14.4261\n",
      "Component number : 9\n",
      "Name: \n",
      "Type: Graph\n",
      "Number of nodes: 1071\n",
      "Number of edges: 3656\n",
      "Average degree:   6.8273\n",
      "Component number : 10\n",
      "Name: \n",
      "Type: Graph\n",
      "Number of nodes: 1162\n",
      "Number of edges: 5634\n",
      "Average degree:   9.6971\n",
      "Component number : 11\n",
      "Name: \n",
      "Type: Graph\n",
      "Number of nodes: 1901\n",
      "Number of edges: 10359\n",
      "Average degree:  10.8985\n",
      "Component number : 12\n",
      "Name: \n",
      "Type: Graph\n",
      "Number of nodes: 2418\n",
      "Number of edges: 8977\n",
      "Average degree:   7.4251\n"
     ]
    }
   ],
   "source": [
    "for index, component in enumerate(subgraphs):\n",
    "    print('Component number :', index)\n",
    "    print(nx.info(component))"
   ]
  },
  {
   "cell_type": "code",
   "execution_count": 213,
   "id": "statistical-backup",
   "metadata": {},
   "outputs": [],
   "source": [
    "map_to_component = {}\n",
    "\n",
    "for index, component in enumerate(components) :\n",
    "    \n",
    "    elements_component = list(component)\n",
    "    for element in elements_component:\n",
    "        \n",
    "        map_to_component[element] = index\n",
    "\n",
    "    "
   ]
  },
  {
   "cell_type": "code",
   "execution_count": 214,
   "id": "decimal-handbook",
   "metadata": {},
   "outputs": [],
   "source": [
    "nodes['component'] = nodes.reset_index()['cell_id'].apply(lambda x: map_to_component[x]if x in map_to_component.keys() else '')"
   ]
  },
  {
   "cell_type": "markdown",
   "id": "assured-knitting",
   "metadata": {},
   "source": [
    "## Plotting nodes"
   ]
  },
  {
   "cell_type": "markdown",
   "id": "painted-stuff",
   "metadata": {},
   "source": [
    "### Differentiating components"
   ]
  },
  {
   "cell_type": "code",
   "execution_count": 52,
   "id": "stock-scroll",
   "metadata": {},
   "outputs": [],
   "source": [
    "#vis_nodes = nodes[nodes.phenotype != 'stroma']\n",
    "#fig, ax = plt.subplots(figsize = (30,15))\n",
    "#sns.scatterplot(data = vis_nodes , x='cell_x_position', y= 'cell_y_position', hue = 'component').get_figure().savefig('./plots/scatter_component_no_stroma.png')"
   ]
  },
  {
   "cell_type": "markdown",
   "id": "juvenile-paragraph",
   "metadata": {},
   "source": [
    "### Differentiating Tissue"
   ]
  },
  {
   "cell_type": "code",
   "execution_count": 53,
   "id": "reliable-current",
   "metadata": {},
   "outputs": [],
   "source": [
    "#vis_nodes = nodes[(nodes.phenotype != 'stroma') & (nodes.phenotype != 'tumor') & (nodes.phenotype != 'MISSING') ]\n",
    "#fig, ax = plt.subplots(figsize = (30,15))\n",
    "#sns.scatterplot(data = vis_nodes , x='cell_x_position', y= 'cell_y_position', hue = 'component', cmap =sns.color_palette(\"tab10\")).get_figure().savefig('./plots/scatter_only_components.png')"
   ]
  },
  {
   "cell_type": "code",
   "execution_count": 55,
   "id": "imperial-status",
   "metadata": {},
   "outputs": [],
   "source": [
    "#vis_nodes = nodes[(nodes.phenotype != 'stroma') & (nodes.phenotype != 'tumor') & (nodes.phenotype != 'MISSING') ]\n",
    "#fig, ax = plt.subplots(figsize = (30,15))\n",
    "#sns.scatterplot(data = vis_nodes , x='cell_x_position', y= 'cell_y_position', hue = 'phenotype',\n",
    "                #cmap =sns.color_palette(\"tab10\")).get_figure().savefig('./plots/scatter_phenotype_no_stroma_no_tumor.png')"
   ]
  },
  {
   "cell_type": "markdown",
   "id": "superb-healing",
   "metadata": {},
   "source": [
    "## plotting component graphs"
   ]
  },
  {
   "cell_type": "code",
   "execution_count": 109,
   "id": "broken-madison",
   "metadata": {},
   "outputs": [],
   "source": [
    "def get_subnodes(G , attribute, value):\n",
    "    \n",
    "    nodes_list = []\n",
    "    \n",
    "    for n in G.nodes():\n",
    "        if G.nodes[n][attribute] == value :\n",
    "            \n",
    "            nodes_list.append(n)\n",
    "            \n",
    "    return nodes_list        "
   ]
  },
  {
   "cell_type": "code",
   "execution_count": 177,
   "id": "greatest-trade",
   "metadata": {},
   "outputs": [],
   "source": [
    "def visualize_graph(G, with_labels=False, k=None, alpha=0.1, color_attribute ='phenotype' ,node_shape='.',bipartite = False, savefig =False, figname =''):\n",
    "    #nx.draw_spring(G, with_labels=with_labels, alpha = alpha)\n",
    "    fig = plt.figure(figsize=(30,20))\n",
    "\n",
    "    tumor_nodes = get_subnodes(G, 'phenotype','tumor')\n",
    "    color_mapping = {'tumor':'darkred', 'stroma':'peru', 'T':'springgreen', \n",
    "                     'B':'turquoise','macrophages':'khaki', 'dendtritic':'orange', 'NK':'gray', 'MISSING' :'slategray'}\n",
    "    if bipartite:\n",
    "        pos = nx.bipartite_layout(G, tumor_nodes ,align ='vertical')\n",
    "     \n",
    "    else:\n",
    "        pos = nx.spring_layout(G)\n",
    "    \n",
    "    ec = nx.draw_networkx_edges(G, pos, alpha=alpha)\n",
    "    nc = nx.draw_networkx_nodes(G, pos, nodelist=G.nodes() ,node_color=[color_mapping[G.nodes[n][color_attribute]] for n in G.nodes()], \n",
    "                             alpha=0.8, node_shape = node_shape)\n",
    "    #plt.colorbar(nc)\n",
    "    plt.axis('off')\n",
    "    plt.show()\n",
    "    if savefig:\n",
    "        fig.savefig('./plots/'+figname)\n",
    "        \n",
    "    \n",
    "\n",
    "    \n",
    "    "
   ]
  },
  {
   "cell_type": "code",
   "execution_count": 180,
   "id": "polyphonic-rebecca",
   "metadata": {},
   "outputs": [],
   "source": [
    "def plot_component(graph, MIN_ELEMENTS_PER_CLUSTER= 200,component_number = 0 ,remove_stroma =False, bipartite =False, savefig=False, figname=''):\n",
    "    \n",
    "    components = list(nx.connected_components(graph))\n",
    "    components = filtering_components(components, MIN_ELEMENTS_PER_CLUSTER)\n",
    "    print('The cell graph contains', len(components), 'connected components')\n",
    "    components = sorted(components, key=len, reverse=False)\n",
    "    subgraphs = [cell_graph.subgraph(c).copy() for c in components]\n",
    "    main_component = subgraphs[component_number]\n",
    "    if remove_stroma :\n",
    "        nodes_list =[]\n",
    "        for n in main_component.nodes():\n",
    "            if main_component.nodes[n][\"phenotype\"] != 'stroma' :\n",
    "                nodes_list.append(n) \n",
    "        main_component =main_component.subgraph(nodes_list)\n",
    "        \n",
    "   # print(nx.info(main_component))\n",
    "    visualize_graph(main_component,bipartite=bipartite, savefig=savefig, figname=figname)\n",
    "\n",
    "    \n",
    " "
   ]
  },
  {
   "cell_type": "code",
   "execution_count": 190,
   "id": "headed-installation",
   "metadata": {},
   "outputs": [],
   "source": [
    "MIN_NUMBER_PER__COMPONENT = 300\n",
    "COMPONENT_NUM = 8\n",
    "REMOVE_STROMA = True\n",
    "BIPARTITE = False\n",
    "SAVE_FIG = True\n",
    "FIG_NAME ='component_8_without_stroma'"
   ]
  },
  {
   "cell_type": "code",
   "execution_count": 192,
   "id": "sensitive-strand",
   "metadata": {},
   "outputs": [],
   "source": [
    "#plot_component(cell_graph,MIN_NUMBER_PER__COMPONENT,COMPONENT_NUM,\n",
    "#              remove_stroma =REMOVE_STROMA,bipartite =BIPARTITE,\n",
    "#               savefig=SAVE_FIG, figname=FIG_NAME)"
   ]
  },
  {
   "cell_type": "code",
   "execution_count": null,
   "id": "common-springer",
   "metadata": {},
   "outputs": [],
   "source": []
  },
  {
   "cell_type": "markdown",
   "id": "improved-cooking",
   "metadata": {},
   "source": [
    "## Component analysis"
   ]
  },
  {
   "cell_type": "markdown",
   "id": "higher-lotus",
   "metadata": {},
   "source": [
    "Since it is a bipartite graph, we are only considering the border"
   ]
  },
  {
   "cell_type": "code",
   "execution_count": 221,
   "id": "human-booking",
   "metadata": {},
   "outputs": [
    {
     "data": {
      "text/plain": [
       "       43410\n",
       "123     2418\n",
       "122     1901\n",
       "121     1162\n",
       "120     1071\n",
       "       ...  \n",
       "4          3\n",
       "3          3\n",
       "2          2\n",
       "1          2\n",
       "0          2\n",
       "Name: component, Length: 125, dtype: int64"
      ]
     },
     "execution_count": 221,
     "metadata": {},
     "output_type": "execute_result"
    }
   ],
   "source": [
    "nodes.component.value_counts()"
   ]
  },
  {
   "cell_type": "code",
   "execution_count": null,
   "id": "ancient-granny",
   "metadata": {},
   "outputs": [],
   "source": [
    "component_df = "
   ]
  }
 ],
 "metadata": {
  "environment": {
   "name": "common-cpu.mnightly-2021-02-12-debian-10-test",
   "type": "gcloud",
   "uri": "gcr.io/deeplearning-platform-release/base-cpu:mnightly-2021-02-12-debian-10-test"
  },
  "kernelspec": {
   "display_name": "Python 3",
   "language": "python",
   "name": "python3"
  },
  "language_info": {
   "codemirror_mode": {
    "name": "ipython",
    "version": 3
   },
   "file_extension": ".py",
   "mimetype": "text/x-python",
   "name": "python",
   "nbconvert_exporter": "python",
   "pygments_lexer": "ipython3",
   "version": "3.7.9"
  }
 },
 "nbformat": 4,
 "nbformat_minor": 5
}
