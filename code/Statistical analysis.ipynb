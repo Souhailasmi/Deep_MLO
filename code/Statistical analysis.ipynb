{
 "cells": [
  {
   "cell_type": "code",
   "execution_count": 1,
   "id": "frozen-airport",
   "metadata": {},
   "outputs": [],
   "source": [
    "from queries import*\n",
    "from utilities import*"
   ]
  },
  {
   "cell_type": "markdown",
   "id": "voluntary-wallet",
   "metadata": {},
   "source": [
    "# Imporing distance statistic data"
   ]
  },
  {
   "cell_type": "code",
   "execution_count": 4,
   "id": "gorgeous-classic",
   "metadata": {},
   "outputs": [],
   "source": [
    "distance_all_cells = pd.read_csv('./data/output/distance_statistics_all_cells.csv')\n",
    "\n",
    "distance_to_stroma = pd.read_csv('./data/output/distance_statistics_to_stroma.csv')\n",
    "\n",
    "distance_to_tumor = pd.read_csv('./data/output/distance_statistics_to_tumor.csv')\n",
    "\n",
    "cell_data = pd.read_csv('./data/cell_data.csv')\n",
    "\n",
    "cell_degree =pd.read_csv('./data/output/cell_degree.csv')\n"
   ]
  },
  {
   "cell_type": "markdown",
   "id": "manual-deadline",
   "metadata": {},
   "source": [
    "## Changing column name"
   ]
  },
  {
   "cell_type": "code",
   "execution_count": 14,
   "id": "restricted-williams",
   "metadata": {},
   "outputs": [],
   "source": [
    "distance_all_cells = distance_all_cells.rename(columns = {'cell_id_1' : 'cell_id'})\n",
    "distance_to_stroma = distance_to_stroma.rename(columns = {'cell_id_1' : 'cell_id'})\n",
    "distance_to_tumor = distance_to_tumor.rename(columns = {'cell_id_1' : 'cell_id'})\n",
    "cell_degree = cell_degree.rename(columns = {'cell_id_1' : 'cell_id'})\n"
   ]
  },
  {
   "cell_type": "markdown",
   "id": "adverse-childhood",
   "metadata": {},
   "source": [
    "### Merging all data together"
   ]
  },
  {
   "cell_type": "code",
   "execution_count": 19,
   "id": "indirect-behalf",
   "metadata": {},
   "outputs": [],
   "source": [
    "columns_analysis = ['cell_id', 'tissue_category', 'phenotype','cell_x_position', 'cell_y_position']\n",
    "cell_data_restricted = cell_data[columns_analysis]"
   ]
  },
  {
   "cell_type": "code",
   "execution_count": 20,
   "id": "exposed-productivity",
   "metadata": {},
   "outputs": [],
   "source": [
    "cell_features = cell_data_restricted.merge(distance_all_cells, on ='cell_id', how='left')\n",
    "cell_features = cell_features.merge(distance_to_stroma, on ='cell_id', how='left')\n",
    "cell_features = cell_features.merge(distance_to_tumor, on ='cell_id', how='left')\n",
    "cell_features = cell_features.merge(cell_degree, on ='cell_id', how='left')"
   ]
  },
  {
   "cell_type": "code",
   "execution_count": 21,
   "id": "electrical-facial",
   "metadata": {},
   "outputs": [
    {
     "data": {
      "text/html": [
       "<div>\n",
       "<style scoped>\n",
       "    .dataframe tbody tr th:only-of-type {\n",
       "        vertical-align: middle;\n",
       "    }\n",
       "\n",
       "    .dataframe tbody tr th {\n",
       "        vertical-align: top;\n",
       "    }\n",
       "\n",
       "    .dataframe thead th {\n",
       "        text-align: right;\n",
       "    }\n",
       "</style>\n",
       "<table border=\"1\" class=\"dataframe\">\n",
       "  <thead>\n",
       "    <tr style=\"text-align: right;\">\n",
       "      <th></th>\n",
       "      <th>cell_id</th>\n",
       "      <th>tissue_category</th>\n",
       "      <th>phenotype</th>\n",
       "      <th>cell_x_position</th>\n",
       "      <th>cell_y_position</th>\n",
       "      <th>mean_distance</th>\n",
       "      <th>var_distance</th>\n",
       "      <th>max_distance</th>\n",
       "      <th>min_distance</th>\n",
       "      <th>mean_distance_to_stroma</th>\n",
       "      <th>...</th>\n",
       "      <th>CD3p</th>\n",
       "      <th>CD3p_CD56p</th>\n",
       "      <th>CD3p_CD68p</th>\n",
       "      <th>CD56p</th>\n",
       "      <th>CD68p</th>\n",
       "      <th>DAPIp</th>\n",
       "      <th>MISSING</th>\n",
       "      <th>SOX10p</th>\n",
       "      <th>SOX10p_CD56p</th>\n",
       "      <th>SOX10p_CD68p</th>\n",
       "    </tr>\n",
       "  </thead>\n",
       "  <tbody>\n",
       "    <tr>\n",
       "      <th>0</th>\n",
       "      <td>1</td>\n",
       "      <td>stroma</td>\n",
       "      <td>DAPIp</td>\n",
       "      <td>14040.7</td>\n",
       "      <td>37383.4</td>\n",
       "      <td>2385.100792</td>\n",
       "      <td>1.036585e+06</td>\n",
       "      <td>5626.876739</td>\n",
       "      <td>5.758472</td>\n",
       "      <td>2848.288313</td>\n",
       "      <td>...</td>\n",
       "      <td>0.0</td>\n",
       "      <td>0.0</td>\n",
       "      <td>0.0</td>\n",
       "      <td>0.0</td>\n",
       "      <td>0.0</td>\n",
       "      <td>25.0</td>\n",
       "      <td>3.0</td>\n",
       "      <td>0.0</td>\n",
       "      <td>0.0</td>\n",
       "      <td>0.0</td>\n",
       "    </tr>\n",
       "    <tr>\n",
       "      <th>1</th>\n",
       "      <td>2</td>\n",
       "      <td>stroma</td>\n",
       "      <td>MISSING</td>\n",
       "      <td>14049.6</td>\n",
       "      <td>37381.9</td>\n",
       "      <td>2380.528509</td>\n",
       "      <td>1.032721e+06</td>\n",
       "      <td>5618.610278</td>\n",
       "      <td>4.949747</td>\n",
       "      <td>2843.492477</td>\n",
       "      <td>...</td>\n",
       "      <td>0.0</td>\n",
       "      <td>0.0</td>\n",
       "      <td>0.0</td>\n",
       "      <td>0.0</td>\n",
       "      <td>0.0</td>\n",
       "      <td>29.0</td>\n",
       "      <td>2.0</td>\n",
       "      <td>0.0</td>\n",
       "      <td>0.0</td>\n",
       "      <td>0.0</td>\n",
       "    </tr>\n",
       "    <tr>\n",
       "      <th>2</th>\n",
       "      <td>3</td>\n",
       "      <td>stroma</td>\n",
       "      <td>MISSING</td>\n",
       "      <td>14056.5</td>\n",
       "      <td>37381.9</td>\n",
       "      <td>2376.300582</td>\n",
       "      <td>1.030089e+06</td>\n",
       "      <td>5611.918945</td>\n",
       "      <td>6.900000</td>\n",
       "      <td>2839.333393</td>\n",
       "      <td>...</td>\n",
       "      <td>0.0</td>\n",
       "      <td>0.0</td>\n",
       "      <td>0.0</td>\n",
       "      <td>0.0</td>\n",
       "      <td>0.0</td>\n",
       "      <td>31.0</td>\n",
       "      <td>1.0</td>\n",
       "      <td>0.0</td>\n",
       "      <td>0.0</td>\n",
       "      <td>0.0</td>\n",
       "    </tr>\n",
       "  </tbody>\n",
       "</table>\n",
       "<p>3 rows × 35 columns</p>\n",
       "</div>"
      ],
      "text/plain": [
       "   cell_id tissue_category phenotype  cell_x_position  cell_y_position  \\\n",
       "0        1          stroma     DAPIp          14040.7          37383.4   \n",
       "1        2          stroma   MISSING          14049.6          37381.9   \n",
       "2        3          stroma   MISSING          14056.5          37381.9   \n",
       "\n",
       "   mean_distance  var_distance  max_distance  min_distance  \\\n",
       "0    2385.100792  1.036585e+06   5626.876739      5.758472   \n",
       "1    2380.528509  1.032721e+06   5618.610278      4.949747   \n",
       "2    2376.300582  1.030089e+06   5611.918945      6.900000   \n",
       "\n",
       "   mean_distance_to_stroma  ...  CD3p  CD3p_CD56p  CD3p_CD68p  CD56p  CD68p  \\\n",
       "0              2848.288313  ...   0.0         0.0         0.0    0.0    0.0   \n",
       "1              2843.492477  ...   0.0         0.0         0.0    0.0    0.0   \n",
       "2              2839.333393  ...   0.0         0.0         0.0    0.0    0.0   \n",
       "\n",
       "   DAPIp  MISSING  SOX10p  SOX10p_CD56p  SOX10p_CD68p  \n",
       "0   25.0      3.0     0.0           0.0           0.0  \n",
       "1   29.0      2.0     0.0           0.0           0.0  \n",
       "2   31.0      1.0     0.0           0.0           0.0  \n",
       "\n",
       "[3 rows x 35 columns]"
      ]
     },
     "execution_count": 21,
     "metadata": {},
     "output_type": "execute_result"
    }
   ],
   "source": [
    "cell_features.head(3)"
   ]
  },
  {
   "cell_type": "code",
   "execution_count": 22,
   "id": "invalid-shield",
   "metadata": {},
   "outputs": [
    {
     "data": {
      "text/plain": [
       "Index(['cell_id', 'tissue_category', 'phenotype', 'cell_x_position',\n",
       "       'cell_y_position', 'mean_distance', 'var_distance', 'max_distance',\n",
       "       'min_distance', 'mean_distance_to_stroma', 'var_distance_to_stroma',\n",
       "       'max_distance_to_stroma', 'min_distance_to_stroma',\n",
       "       'mean_distance_to_tumor', 'var_distance_to_tumor',\n",
       "       'max_distance_to_tumor', 'min_distance_to_tumor', 'missing_degree',\n",
       "       'stroma_degree', 'tumor_degree', 'total_degree', 'CD11Cp',\n",
       "       'CD11Cp_CD56p', 'CD20p', 'CD20p_CD68p', 'CD3p', 'CD3p_CD56p',\n",
       "       'CD3p_CD68p', 'CD56p', 'CD68p', 'DAPIp', 'MISSING', 'SOX10p',\n",
       "       'SOX10p_CD56p', 'SOX10p_CD68p'],\n",
       "      dtype='object')"
      ]
     },
     "execution_count": 22,
     "metadata": {},
     "output_type": "execute_result"
    }
   ],
   "source": [
    "cell_features.columns"
   ]
  },
  {
   "cell_type": "markdown",
   "id": "limited-equality",
   "metadata": {},
   "source": [
    "## Degree analysis"
   ]
  },
  {
   "cell_type": "markdown",
   "id": "superb-wonder",
   "metadata": {},
   "source": [
    "### Degree distribution"
   ]
  },
  {
   "cell_type": "code",
   "execution_count": 24,
   "id": "killing-lotus",
   "metadata": {},
   "outputs": [
    {
     "name": "stdout",
     "output_type": "stream",
     "text": [
      "The mean  29.94048131300713\n",
      "The median 32.0\n"
     ]
    },
    {
     "data": {
      "image/png": "[encoded data removed]",
      "text/plain": [
       "<Figure size 1080x504 with 1 Axes>"
      ]
     },
     "metadata": {
      "needs_background": "light"
     },
     "output_type": "display_data"
    }
   ],
   "source": [
    "\n",
    "plt.figure(figsize=(15,7))\n",
    "ax =sns.distplot(cell_features['total_degree'], hist=True, kde=False)\n",
    "print('The mean ',cell_features['total_degree'].mean())\n",
    "print('The median',cell_features['total_degree'].median())\n",
    "ax.axvline(cell_features['total_degree'].mean(), color='r', linestyle='--', label='mean')\n",
    "ax.axvline(cell_features['total_degree'].median(), color='g', linestyle='-', label='median')\n",
    "ax.set_yscale('log')\n",
    "plt.grid()\n",
    "plt.xlabel('Degree', size='large')\n",
    "plt.ylabel(' count', size='large')\n",
    "plt.title('The distribution of degree accross all cells')\n",
    "plt.legend()\n",
    "plt.show()"
   ]
  },
  {
   "cell_type": "code",
   "execution_count": 38,
   "id": "beneficial-glass",
   "metadata": {},
   "outputs": [
    {
     "name": "stderr",
     "output_type": "stream",
     "text": [
      "No handles with labels found to put in legend.\n"
     ]
    },
    {
     "name": "stdout",
     "output_type": "stream",
     "text": [
      "The mean  29.94048131300713\n",
      "The median 32.0\n"
     ]
    },
    {
     "data": {
      "text/plain": [
       "<Figure size 1080x504 with 0 Axes>"
      ]
     },
     "metadata": {},
     "output_type": "display_data"
    },
    {
     "data": {
      "image/png": "[encoded data removed]",
      "text/plain": [
       "<Figure size 1080x360 with 1 Axes>"
      ]
     },
     "metadata": {
      "needs_background": "light"
     },
     "output_type": "display_data"
    }
   ],
   "source": [
    "plt.figure(figsize=(15,7))\n",
    "sns.displot(data = cell_features, x ='total_degree', kind='kde', aspect=3, height=5)\n",
    "print('The mean ',cell_features['total_degree'].mean())\n",
    "print('The median',cell_features['total_degree'].median())\n",
    "#ax.axvline(cell_features['total_degree'].mean(), color='r', linestyle='--', label='mean')\n",
    "#ax.axvline(cell_features['total_degree'].median(), color='g', linestyle='-', label='median')\n",
    "#ax.set_yscale('log')\n",
    "plt.grid()\n",
    "plt.xlabel('Degree', size='large')\n",
    "plt.ylabel('Density', size='large')\n",
    "plt.title('The distribution of degree accross all cells')\n",
    "plt.legend()\n",
    "plt.show()"
   ]
  },
  {
   "cell_type": "code",
   "execution_count": 39,
   "id": "sustainable-cover",
   "metadata": {},
   "outputs": [
    {
     "name": "stderr",
     "output_type": "stream",
     "text": [
      "/opt/conda/lib/python3.7/site-packages/seaborn/distributions.py:306: UserWarning: Dataset has 0 variance; skipping density estimate.\n",
      "  warnings.warn(msg, UserWarning)\n",
      "No handles with labels found to put in legend.\n"
     ]
    },
    {
     "name": "stdout",
     "output_type": "stream",
     "text": [
      "The mean  29.94048131300713\n",
      "The median 32.0\n"
     ]
    },
    {
     "data": {
      "text/plain": [
       "<Figure size 1080x504 with 0 Axes>"
      ]
     },
     "metadata": {},
     "output_type": "display_data"
    },
    {
     "data": {
      "image/png": "[encoded data removed]",
      "text/plain": [
       "<Figure size 1166.75x360 with 1 Axes>"
      ]
     },
     "metadata": {
      "needs_background": "light"
     },
     "output_type": "display_data"
    }
   ],
   "source": [
    "plt.figure(figsize=(15,7))\n",
    "sns.displot(data = cell_features, x ='total_degree', hue='tissue_category', kind='kde', aspect=3, height=5)\n",
    "print('The mean ',cell_features['total_degree'].mean())\n",
    "print('The median',cell_features['total_degree'].median())\n",
    "#ax.axvline(cell_features['total_degree'].mean(), color='r', linestyle='--', label='mean')\n",
    "#ax.axvline(cell_features['total_degree'].median(), color='g', linestyle='-', label='median')\n",
    "#ax.set_yscale('log')\n",
    "plt.grid()\n",
    "plt.xlabel('Degree', size='large')\n",
    "plt.ylabel('Density', size='large')\n",
    "plt.title('The distribution of degree accross all cells')\n",
    "plt.legend()\n",
    "plt.show()"
   ]
  },
  {
   "cell_type": "code",
   "execution_count": 47,
   "id": "coral-tablet",
   "metadata": {},
   "outputs": [
    {
     "data": {
      "text/html": [
       "<div>\n",
       "<style scoped>\n",
       "    .dataframe tbody tr th:only-of-type {\n",
       "        vertical-align: middle;\n",
       "    }\n",
       "\n",
       "    .dataframe tbody tr th {\n",
       "        vertical-align: top;\n",
       "    }\n",
       "\n",
       "    .dataframe thead th {\n",
       "        text-align: right;\n",
       "    }\n",
       "</style>\n",
       "<table border=\"1\" class=\"dataframe\">\n",
       "  <thead>\n",
       "    <tr style=\"text-align: right;\">\n",
       "      <th></th>\n",
       "      <th>CD11Cp</th>\n",
       "      <th>CD11Cp_CD56p</th>\n",
       "      <th>CD20p</th>\n",
       "      <th>CD20p_CD68p</th>\n",
       "      <th>CD3p</th>\n",
       "      <th>CD3p_CD56p</th>\n",
       "      <th>CD3p_CD68p</th>\n",
       "      <th>CD56p</th>\n",
       "      <th>CD68p</th>\n",
       "      <th>DAPIp</th>\n",
       "      <th>MISSING</th>\n",
       "      <th>SOX10p</th>\n",
       "      <th>SOX10p_CD56p</th>\n",
       "      <th>SOX10p_CD68p</th>\n",
       "    </tr>\n",
       "  </thead>\n",
       "  <tbody>\n",
       "    <tr>\n",
       "      <th>count</th>\n",
       "      <td>65072.000000</td>\n",
       "      <td>65072.000000</td>\n",
       "      <td>65072.00000</td>\n",
       "      <td>65072.000000</td>\n",
       "      <td>65072.000000</td>\n",
       "      <td>65072.000000</td>\n",
       "      <td>65072.000000</td>\n",
       "      <td>65072.000000</td>\n",
       "      <td>65072.000000</td>\n",
       "      <td>65072.000000</td>\n",
       "      <td>65072.000000</td>\n",
       "      <td>65072.00000</td>\n",
       "      <td>65072.000000</td>\n",
       "      <td>65072.000000</td>\n",
       "    </tr>\n",
       "    <tr>\n",
       "      <th>mean</th>\n",
       "      <td>0.019655</td>\n",
       "      <td>0.000430</td>\n",
       "      <td>0.03699</td>\n",
       "      <td>0.000630</td>\n",
       "      <td>0.254042</td>\n",
       "      <td>0.000307</td>\n",
       "      <td>0.000415</td>\n",
       "      <td>0.008191</td>\n",
       "      <td>0.047716</td>\n",
       "      <td>3.790586</td>\n",
       "      <td>0.369007</td>\n",
       "      <td>25.40804</td>\n",
       "      <td>0.000615</td>\n",
       "      <td>0.003857</td>\n",
       "    </tr>\n",
       "    <tr>\n",
       "      <th>std</th>\n",
       "      <td>0.241143</td>\n",
       "      <td>0.020739</td>\n",
       "      <td>0.44459</td>\n",
       "      <td>0.025094</td>\n",
       "      <td>1.433884</td>\n",
       "      <td>0.017529</td>\n",
       "      <td>0.020366</td>\n",
       "      <td>0.092986</td>\n",
       "      <td>0.284823</td>\n",
       "      <td>4.136068</td>\n",
       "      <td>1.060548</td>\n",
       "      <td>11.66683</td>\n",
       "      <td>0.030359</td>\n",
       "      <td>0.069690</td>\n",
       "    </tr>\n",
       "    <tr>\n",
       "      <th>min</th>\n",
       "      <td>0.000000</td>\n",
       "      <td>0.000000</td>\n",
       "      <td>0.00000</td>\n",
       "      <td>0.000000</td>\n",
       "      <td>0.000000</td>\n",
       "      <td>0.000000</td>\n",
       "      <td>0.000000</td>\n",
       "      <td>0.000000</td>\n",
       "      <td>0.000000</td>\n",
       "      <td>0.000000</td>\n",
       "      <td>0.000000</td>\n",
       "      <td>0.00000</td>\n",
       "      <td>0.000000</td>\n",
       "      <td>0.000000</td>\n",
       "    </tr>\n",
       "    <tr>\n",
       "      <th>25%</th>\n",
       "      <td>0.000000</td>\n",
       "      <td>0.000000</td>\n",
       "      <td>0.00000</td>\n",
       "      <td>0.000000</td>\n",
       "      <td>0.000000</td>\n",
       "      <td>0.000000</td>\n",
       "      <td>0.000000</td>\n",
       "      <td>0.000000</td>\n",
       "      <td>0.000000</td>\n",
       "      <td>1.000000</td>\n",
       "      <td>0.000000</td>\n",
       "      <td>20.00000</td>\n",
       "      <td>0.000000</td>\n",
       "      <td>0.000000</td>\n",
       "    </tr>\n",
       "    <tr>\n",
       "      <th>50%</th>\n",
       "      <td>0.000000</td>\n",
       "      <td>0.000000</td>\n",
       "      <td>0.00000</td>\n",
       "      <td>0.000000</td>\n",
       "      <td>0.000000</td>\n",
       "      <td>0.000000</td>\n",
       "      <td>0.000000</td>\n",
       "      <td>0.000000</td>\n",
       "      <td>0.000000</td>\n",
       "      <td>3.000000</td>\n",
       "      <td>0.000000</td>\n",
       "      <td>28.00000</td>\n",
       "      <td>0.000000</td>\n",
       "      <td>0.000000</td>\n",
       "    </tr>\n",
       "    <tr>\n",
       "      <th>75%</th>\n",
       "      <td>0.000000</td>\n",
       "      <td>0.000000</td>\n",
       "      <td>0.00000</td>\n",
       "      <td>0.000000</td>\n",
       "      <td>0.000000</td>\n",
       "      <td>0.000000</td>\n",
       "      <td>0.000000</td>\n",
       "      <td>0.000000</td>\n",
       "      <td>0.000000</td>\n",
       "      <td>5.000000</td>\n",
       "      <td>0.000000</td>\n",
       "      <td>33.00000</td>\n",
       "      <td>0.000000</td>\n",
       "      <td>0.000000</td>\n",
       "    </tr>\n",
       "    <tr>\n",
       "      <th>max</th>\n",
       "      <td>7.000000</td>\n",
       "      <td>1.000000</td>\n",
       "      <td>13.00000</td>\n",
       "      <td>1.000000</td>\n",
       "      <td>36.000000</td>\n",
       "      <td>1.000000</td>\n",
       "      <td>1.000000</td>\n",
       "      <td>2.000000</td>\n",
       "      <td>6.000000</td>\n",
       "      <td>45.000000</td>\n",
       "      <td>14.000000</td>\n",
       "      <td>67.00000</td>\n",
       "      <td>2.000000</td>\n",
       "      <td>2.000000</td>\n",
       "    </tr>\n",
       "  </tbody>\n",
       "</table>\n",
       "</div>"
      ],
      "text/plain": [
       "             CD11Cp  CD11Cp_CD56p        CD20p   CD20p_CD68p          CD3p  \\\n",
       "count  65072.000000  65072.000000  65072.00000  65072.000000  65072.000000   \n",
       "mean       0.019655      0.000430      0.03699      0.000630      0.254042   \n",
       "std        0.241143      0.020739      0.44459      0.025094      1.433884   \n",
       "min        0.000000      0.000000      0.00000      0.000000      0.000000   \n",
       "25%        0.000000      0.000000      0.00000      0.000000      0.000000   \n",
       "50%        0.000000      0.000000      0.00000      0.000000      0.000000   \n",
       "75%        0.000000      0.000000      0.00000      0.000000      0.000000   \n",
       "max        7.000000      1.000000     13.00000      1.000000     36.000000   \n",
       "\n",
       "         CD3p_CD56p    CD3p_CD68p         CD56p         CD68p         DAPIp  \\\n",
       "count  65072.000000  65072.000000  65072.000000  65072.000000  65072.000000   \n",
       "mean       0.000307      0.000415      0.008191      0.047716      3.790586   \n",
       "std        0.017529      0.020366      0.092986      0.284823      4.136068   \n",
       "min        0.000000      0.000000      0.000000      0.000000      0.000000   \n",
       "25%        0.000000      0.000000      0.000000      0.000000      1.000000   \n",
       "50%        0.000000      0.000000      0.000000      0.000000      3.000000   \n",
       "75%        0.000000      0.000000      0.000000      0.000000      5.000000   \n",
       "max        1.000000      1.000000      2.000000      6.000000     45.000000   \n",
       "\n",
       "            MISSING       SOX10p  SOX10p_CD56p  SOX10p_CD68p  \n",
       "count  65072.000000  65072.00000  65072.000000  65072.000000  \n",
       "mean       0.369007     25.40804      0.000615      0.003857  \n",
       "std        1.060548     11.66683      0.030359      0.069690  \n",
       "min        0.000000      0.00000      0.000000      0.000000  \n",
       "25%        0.000000     20.00000      0.000000      0.000000  \n",
       "50%        0.000000     28.00000      0.000000      0.000000  \n",
       "75%        0.000000     33.00000      0.000000      0.000000  \n",
       "max       14.000000     67.00000      2.000000      2.000000  "
      ]
     },
     "execution_count": 47,
     "metadata": {},
     "output_type": "execute_result"
    }
   ],
   "source": [
    "phenotype_columns = ['CD11Cp',\n",
    "       'CD11Cp_CD56p', 'CD20p', 'CD20p_CD68p', 'CD3p', 'CD3p_CD56p',\n",
    "       'CD3p_CD68p', 'CD56p', 'CD68p', 'DAPIp', 'MISSING', 'SOX10p',\n",
    "       'SOX10p_CD56p', 'SOX10p_CD68p']\n",
    "\n",
    "phenotype_degrees = cell_features[phenotype_columns]\n",
    "phenotype_degrees.describe()"
   ]
  },
  {
   "cell_type": "code",
   "execution_count": null,
   "id": "intended-condition",
   "metadata": {},
   "outputs": [],
   "source": []
  }
 ],
 "metadata": {
  "environment": {
   "name": "common-cpu.mnightly-2021-02-12-debian-10-test",
   "type": "gcloud",
   "uri": "gcr.io/deeplearning-platform-release/base-cpu:mnightly-2021-02-12-debian-10-test"
  },
  "kernelspec": {
   "display_name": "Python 3",
   "language": "python",
   "name": "python3"
  },
  "language_info": {
   "codemirror_mode": {
    "name": "ipython",
    "version": 3
   },
   "file_extension": ".py",
   "mimetype": "text/x-python",
   "name": "python",
   "nbconvert_exporter": "python",
   "pygments_lexer": "ipython3",
   "version": "3.7.9"
  }
 },
 "nbformat": 4,
 "nbformat_minor": 5
}
