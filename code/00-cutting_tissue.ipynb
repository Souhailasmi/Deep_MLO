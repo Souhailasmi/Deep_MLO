{
 "cells": [
  {
   "cell_type": "code",
   "execution_count": 20,
   "id": "c9bcb37f",
   "metadata": {},
   "outputs": [],
   "source": [
    "import seaborn as sns\n",
    "from queries import*\n",
    "from utilities import*\n",
    "import os"
   ]
  },
  {
   "cell_type": "code",
   "execution_count": 21,
   "id": "6fe17c1d",
   "metadata": {},
   "outputs": [],
   "source": [
    "PATIENT_ID = '3P1'\n",
    "INPUT_PATH = './data/input/DEEPMEL_' + PATIENT_ID +'/'\n",
    "OUTPUT_PATH = './data/output/DEEPMEL_' + PATIENT_ID +'/'\n",
    "PLOT_PATH ='./plots/DEEPMEL_' + PATIENT_ID +'/'\n",
    "INPUT_FILE = 'DEEPMEL_'+ PATIENT_ID +'_cell_seg_data.txt'\n",
    "TABLE_NAME_BQ = 'DEEPMEL_'+ PATIENT_ID +'_cell_seg_data'\n",
    "#HIGH_VOLUME = high_volume_patients[PATIENT_ID]"
   ]
  },
  {
   "cell_type": "code",
   "execution_count": 22,
   "id": "87cea28b",
   "metadata": {},
   "outputs": [],
   "source": [
    "nodes = pd.read_csv(INPUT_PATH + INPUT_FILE,sep='\\t')"
   ]
  },
  {
   "cell_type": "code",
   "execution_count": 23,
   "id": "3e3018fe",
   "metadata": {},
   "outputs": [],
   "source": [
    "columns_to_keep = ['cell_id','cell_x_position','cell_y_position','tissue_category','phenotype']\n",
    "nodes = nodes[columns_to_keep]"
   ]
  },
  {
   "cell_type": "code",
   "execution_count": 24,
   "id": "3ae09697",
   "metadata": {},
   "outputs": [
    {
     "data": {
      "text/plain": [
       "1922148"
      ]
     },
     "execution_count": 24,
     "metadata": {},
     "output_type": "execute_result"
    }
   ],
   "source": [
    "len(nodes)"
   ]
  },
  {
   "cell_type": "code",
   "execution_count": 25,
   "id": "aa3e2daf",
   "metadata": {},
   "outputs": [
    {
     "data": {
      "text/html": [
       "<div>\n",
       "<style scoped>\n",
       "    .dataframe tbody tr th:only-of-type {\n",
       "        vertical-align: middle;\n",
       "    }\n",
       "\n",
       "    .dataframe tbody tr th {\n",
       "        vertical-align: top;\n",
       "    }\n",
       "\n",
       "    .dataframe thead th {\n",
       "        text-align: right;\n",
       "    }\n",
       "</style>\n",
       "<table border=\"1\" class=\"dataframe\">\n",
       "  <thead>\n",
       "    <tr style=\"text-align: right;\">\n",
       "      <th></th>\n",
       "      <th>cell_id</th>\n",
       "      <th>cell_x_position</th>\n",
       "      <th>cell_y_position</th>\n",
       "      <th>tissue_category</th>\n",
       "      <th>phenotype</th>\n",
       "    </tr>\n",
       "  </thead>\n",
       "  <tbody>\n",
       "    <tr>\n",
       "      <th>0</th>\n",
       "      <td>1</td>\n",
       "      <td>6831.9</td>\n",
       "      <td>35658.2</td>\n",
       "      <td>tumor</td>\n",
       "      <td>MISSING</td>\n",
       "    </tr>\n",
       "    <tr>\n",
       "      <th>1</th>\n",
       "      <td>2</td>\n",
       "      <td>6846.7</td>\n",
       "      <td>35658.2</td>\n",
       "      <td>tumor</td>\n",
       "      <td>MISSING</td>\n",
       "    </tr>\n",
       "    <tr>\n",
       "      <th>2</th>\n",
       "      <td>3</td>\n",
       "      <td>6867.6</td>\n",
       "      <td>35659.2</td>\n",
       "      <td>tumor</td>\n",
       "      <td>SOX10p</td>\n",
       "    </tr>\n",
       "  </tbody>\n",
       "</table>\n",
       "</div>"
      ],
      "text/plain": [
       "   cell_id  cell_x_position  cell_y_position tissue_category phenotype\n",
       "0        1           6831.9          35658.2           tumor   MISSING\n",
       "1        2           6846.7          35658.2           tumor   MISSING\n",
       "2        3           6867.6          35659.2           tumor    SOX10p"
      ]
     },
     "execution_count": 25,
     "metadata": {},
     "output_type": "execute_result"
    }
   ],
   "source": [
    "nodes.head(3)"
   ]
  },
  {
   "cell_type": "code",
   "execution_count": 26,
   "id": "10f9cb0e",
   "metadata": {},
   "outputs": [],
   "source": [
    "INPUT_FILE = 'DEEPMEL_'+ PATIENT_ID +'_cell_seg_data.csv'\n",
    "nodes.to_csv(INPUT_PATH + INPUT_FILE, index=False)"
   ]
  },
  {
   "cell_type": "code",
   "execution_count": 27,
   "id": "88facd75",
   "metadata": {},
   "outputs": [
    {
     "name": "stdout",
     "output_type": "stream",
     "text": [
      "Copying file://./data/input/DEEPMEL_3P1/DEEPMEL_3P1_cell_seg_data.csv [Content-Type=text/csv]...\n",
      "- [1 files][ 66.0 MiB/ 66.0 MiB]                                                \n",
      "Operation completed over 1 objects/66.0 MiB.                                     \n"
     ]
    }
   ],
   "source": [
    "!gsutil cp  ./data/input/DEEPMEL_3P1/DEEPMEL_3P1_cell_seg_data.csv  gs://deep-melo-lts4/DEEPMEL_3P1_cell_seg_data.csv"
   ]
  },
  {
   "cell_type": "code",
   "execution_count": null,
   "id": "f24b5f5f",
   "metadata": {},
   "outputs": [],
   "source": []
  }
 ],
 "metadata": {
  "environment": {
   "name": "common-cpu.m65",
   "type": "gcloud",
   "uri": "gcr.io/deeplearning-platform-release/base-cpu:m65"
  },
  "kernelspec": {
   "display_name": "Python 3",
   "language": "python",
   "name": "python3"
  },
  "language_info": {
   "codemirror_mode": {
    "name": "ipython",
    "version": 3
   },
   "file_extension": ".py",
   "mimetype": "text/x-python",
   "name": "python",
   "nbconvert_exporter": "python",
   "pygments_lexer": "ipython3",
   "version": "3.7.10"
  }
 },
 "nbformat": 4,
 "nbformat_minor": 5
}
